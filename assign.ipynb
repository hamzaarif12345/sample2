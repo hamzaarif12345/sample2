{
 "cells": [
  {
   "cell_type": "code",
   "execution_count": 1,
   "metadata": {},
   "outputs": [],
   "source": [
    "import numpy as np\n",
    "import pandas as pd\n",
    "import seaborn as sns\n",
    "import matplotlib.pyplot as plt"
   ]
  },
  {
   "cell_type": "code",
   "execution_count": 2,
   "metadata": {},
   "outputs": [],
   "source": [
    "round =pd.read_csv(\"rounds2 - rounds2 excel.csv\")"
   ]
  },
  {
   "cell_type": "code",
   "execution_count": 3,
   "metadata": {},
   "outputs": [],
   "source": [
    "company =pd.read_csv(\"companies11.csv\")"
   ]
  },
  {
   "cell_type": "code",
   "execution_count": 4,
   "metadata": {},
   "outputs": [
    {
     "data": {
      "text/plain": [
       "array(['/organization/-fame', '/ORGANIZATION/-QOUNTER',\n",
       "       '/organization/-qounter', ..., '/organization/銇eron',\n",
       "       '/ORGANIZATION/脭ASYS-2',\n",
       "       '/organization/浒novatiff-reklam-ve-tan浔t浔m-hizmetleri-tic'],\n",
       "      dtype=object)"
      ]
     },
     "execution_count": 4,
     "metadata": {},
     "output_type": "execute_result"
    }
   ],
   "source": [
    "round.company_permalink.unique()"
   ]
  },
  {
   "cell_type": "code",
   "execution_count": 5,
   "metadata": {},
   "outputs": [
    {
     "data": {
      "text/html": [
       "<div>\n",
       "<style scoped>\n",
       "    .dataframe tbody tr th:only-of-type {\n",
       "        vertical-align: middle;\n",
       "    }\n",
       "\n",
       "    .dataframe tbody tr th {\n",
       "        vertical-align: top;\n",
       "    }\n",
       "\n",
       "    .dataframe thead th {\n",
       "        text-align: right;\n",
       "    }\n",
       "</style>\n",
       "<table border=\"1\" class=\"dataframe\">\n",
       "  <thead>\n",
       "    <tr style=\"text-align: right;\">\n",
       "      <th></th>\n",
       "      <th>permalink\\tname\\thomepage_url\\tcategory_list\\tstatus\\tcountry_code\\tstate_code\\tregion\\tcity\\tfounded_at</th>\n",
       "      <th>Unnamed: 1</th>\n",
       "      <th>Unnamed: 2</th>\n",
       "      <th>Unnamed: 3</th>\n",
       "      <th>Unnamed: 4</th>\n",
       "      <th>Unnamed: 5</th>\n",
       "      <th>Unnamed: 6</th>\n",
       "      <th>Unnamed: 7</th>\n",
       "      <th>Unnamed: 8</th>\n",
       "      <th>Unnamed: 9</th>\n",
       "      <th>Unnamed: 10</th>\n",
       "      <th>Unnamed: 11</th>\n",
       "      <th>Unnamed: 12</th>\n",
       "      <th>Unnamed: 13</th>\n",
       "      <th>Unnamed: 14</th>\n",
       "      <th>Unnamed: 15</th>\n",
       "      <th>Unnamed: 16</th>\n",
       "    </tr>\n",
       "  </thead>\n",
       "  <tbody>\n",
       "    <tr>\n",
       "      <th>0</th>\n",
       "      <td>/Organization/-Fame\\t#fame\\thttp://livfame.com...</td>\n",
       "      <td>NaN</td>\n",
       "      <td>NaN</td>\n",
       "      <td>NaN</td>\n",
       "      <td>NaN</td>\n",
       "      <td>NaN</td>\n",
       "      <td>NaN</td>\n",
       "      <td>NaN</td>\n",
       "      <td>NaN</td>\n",
       "      <td>NaN</td>\n",
       "      <td>NaN</td>\n",
       "      <td>NaN</td>\n",
       "      <td>NaN</td>\n",
       "      <td>NaN</td>\n",
       "      <td>NaN</td>\n",
       "      <td>NaN</td>\n",
       "      <td>NaN</td>\n",
       "    </tr>\n",
       "    <tr>\n",
       "      <th>1</th>\n",
       "      <td>/Organization/-Qounter\\t:Qounter\\thttp://www.q...</td>\n",
       "      <td>Platforms|Real</td>\n",
       "      <td>Time|Social</td>\n",
       "      <td>Network</td>\n",
       "      <td>Media\\toperating\\tUSA\\tDE\\tDE</td>\n",
       "      <td>-</td>\n",
       "      <td>-</td>\n",
       "      <td>City\\t04-09-2014</td>\n",
       "      <td>NaN</td>\n",
       "      <td>NaN</td>\n",
       "      <td>NaN</td>\n",
       "      <td>NaN</td>\n",
       "      <td>NaN</td>\n",
       "      <td>NaN</td>\n",
       "      <td>NaN</td>\n",
       "      <td>NaN</td>\n",
       "      <td>NaN</td>\n",
       "    </tr>\n",
       "    <tr>\n",
       "      <th>2</th>\n",
       "      <td>/Organization/-The-One-Of-Them-Inc-\\t\"(THE)</td>\n",
       "      <td>ONE</td>\n",
       "      <td>of</td>\n",
       "      <td>THEM</td>\n",
       "      <td>Inc.\"\\thttp://oneofthem.jp\\tApps|Games|Mobile\\...</td>\n",
       "      <td>NaN</td>\n",
       "      <td>NaN</td>\n",
       "      <td>NaN</td>\n",
       "      <td>NaN</td>\n",
       "      <td>NaN</td>\n",
       "      <td>NaN</td>\n",
       "      <td>NaN</td>\n",
       "      <td>NaN</td>\n",
       "      <td>NaN</td>\n",
       "      <td>NaN</td>\n",
       "      <td>NaN</td>\n",
       "      <td>NaN</td>\n",
       "    </tr>\n",
       "    <tr>\n",
       "      <th>3</th>\n",
       "      <td>/Organization/0-6-Com\\t0-6.com\\thttp://www.0-6...</td>\n",
       "      <td>Web\\toperating\\tCHN\\t22\\tBeijing\\tBeijing\\t01-...</td>\n",
       "      <td>NaN</td>\n",
       "      <td>NaN</td>\n",
       "      <td>NaN</td>\n",
       "      <td>NaN</td>\n",
       "      <td>NaN</td>\n",
       "      <td>NaN</td>\n",
       "      <td>NaN</td>\n",
       "      <td>NaN</td>\n",
       "      <td>NaN</td>\n",
       "      <td>NaN</td>\n",
       "      <td>NaN</td>\n",
       "      <td>NaN</td>\n",
       "      <td>NaN</td>\n",
       "      <td>NaN</td>\n",
       "      <td>NaN</td>\n",
       "    </tr>\n",
       "    <tr>\n",
       "      <th>4</th>\n",
       "      <td>/Organization/004-Technologies\\t004</td>\n",
       "      <td>Technologies\\thttp://004gmbh.de/en/004-interac...</td>\n",
       "      <td>NaN</td>\n",
       "      <td>Illinois\"\\tChampaign\\t01-01-2010</td>\n",
       "      <td>NaN</td>\n",
       "      <td>NaN</td>\n",
       "      <td>NaN</td>\n",
       "      <td>NaN</td>\n",
       "      <td>NaN</td>\n",
       "      <td>NaN</td>\n",
       "      <td>NaN</td>\n",
       "      <td>NaN</td>\n",
       "      <td>NaN</td>\n",
       "      <td>NaN</td>\n",
       "      <td>NaN</td>\n",
       "      <td>NaN</td>\n",
       "      <td>NaN</td>\n",
       "    </tr>\n",
       "  </tbody>\n",
       "</table>\n",
       "</div>"
      ],
      "text/plain": [
       "  permalink\\tname\\thomepage_url\\tcategory_list\\tstatus\\tcountry_code\\tstate_code\\tregion\\tcity\\tfounded_at  \\\n",
       "0  /Organization/-Fame\\t#fame\\thttp://livfame.com...                                                         \n",
       "1  /Organization/-Qounter\\t:Qounter\\thttp://www.q...                                                         \n",
       "2        /Organization/-The-One-Of-Them-Inc-\\t\"(THE)                                                         \n",
       "3  /Organization/0-6-Com\\t0-6.com\\thttp://www.0-6...                                                         \n",
       "4                /Organization/004-Technologies\\t004                                                         \n",
       "\n",
       "                                          Unnamed: 1   Unnamed: 2  \\\n",
       "0                                                NaN          NaN   \n",
       "1                                     Platforms|Real  Time|Social   \n",
       "2                                                ONE           of   \n",
       "3  Web\\toperating\\tCHN\\t22\\tBeijing\\tBeijing\\t01-...          NaN   \n",
       "4  Technologies\\thttp://004gmbh.de/en/004-interac...          NaN   \n",
       "\n",
       "                         Unnamed: 3  \\\n",
       "0                               NaN   \n",
       "1                           Network   \n",
       "2                              THEM   \n",
       "3                               NaN   \n",
       "4  Illinois\"\\tChampaign\\t01-01-2010   \n",
       "\n",
       "                                          Unnamed: 4 Unnamed: 5 Unnamed: 6  \\\n",
       "0                                                NaN        NaN        NaN   \n",
       "1                      Media\\toperating\\tUSA\\tDE\\tDE          -          -   \n",
       "2  Inc.\"\\thttp://oneofthem.jp\\tApps|Games|Mobile\\...        NaN        NaN   \n",
       "3                                                NaN        NaN        NaN   \n",
       "4                                                NaN        NaN        NaN   \n",
       "\n",
       "         Unnamed: 7 Unnamed: 8 Unnamed: 9 Unnamed: 10 Unnamed: 11 Unnamed: 12  \\\n",
       "0               NaN        NaN        NaN         NaN         NaN         NaN   \n",
       "1  City\\t04-09-2014        NaN        NaN         NaN         NaN         NaN   \n",
       "2               NaN        NaN        NaN         NaN         NaN         NaN   \n",
       "3               NaN        NaN        NaN         NaN         NaN         NaN   \n",
       "4               NaN        NaN        NaN         NaN         NaN         NaN   \n",
       "\n",
       "  Unnamed: 13 Unnamed: 14 Unnamed: 15 Unnamed: 16  \n",
       "0         NaN         NaN         NaN         NaN  \n",
       "1         NaN         NaN         NaN         NaN  \n",
       "2         NaN         NaN         NaN         NaN  \n",
       "3         NaN         NaN         NaN         NaN  \n",
       "4         NaN         NaN         NaN         NaN  "
      ]
     },
     "execution_count": 5,
     "metadata": {},
     "output_type": "execute_result"
    }
   ],
   "source": [
    "company.head()"
   ]
  },
  {
   "cell_type": "code",
   "execution_count": 6,
   "metadata": {},
   "outputs": [
    {
     "data": {
      "text/plain": [
       "array(['/Organization/-Fame\\t#fame\\thttp://livfame.com\\tMedia\\toperating\\tIND\\t16\\tMumbai\\tMumbai\\t',\n",
       "       '/Organization/-Qounter\\t:Qounter\\thttp://www.qounter.com\\tApplication',\n",
       "       '/Organization/-The-One-Of-Them-Inc-\\t\"(THE)', ...,\n",
       "       '/Organization/Barbird\\tBarBird\\t\\tE-Commerce\\toperating\\tUSA\\tOR\\t\"Portland',\n",
       "       '/Organization/Barburrito\\tBarburrito\\thttp://www.barburrito.co.uk\\tHospitality\\toperating\\tGBR\\tI2\\tManchester\\tManchester\\t',\n",
       "       '/Organization/Barcheyacht-It\\tBY\\thttp://www.bluewago.it\\tICT|Online'],\n",
       "      dtype=object)"
      ]
     },
     "execution_count": 6,
     "metadata": {},
     "output_type": "execute_result"
    }
   ],
   "source": [
    "company[\"permalink\\tname\\thomepage_url\\tcategory_list\\tstatus\\tcountry_code\\tstate_code\\tregion\\tcity\\tfounded_at\"].unique()"
   ]
  },
  {
   "cell_type": "code",
   "execution_count": 15,
   "metadata": {},
   "outputs": [
    {
     "ename": "ValueError",
     "evalue": "Can only compare identically-labeled Series objects",
     "output_type": "error",
     "traceback": [
      "\u001b[1;31m---------------------------------------------------------------------------\u001b[0m",
      "\u001b[1;31mValueError\u001b[0m                                Traceback (most recent call last)",
      "\u001b[1;32me:\\(1)WORK OF HAMZA\\VS Code\\.vscode\\.vscode\\python.py\\Assignment 1\\assign.ipynb Cell 7\u001b[0m in \u001b[0;36m<cell line: 1>\u001b[1;34m()\u001b[0m\n\u001b[1;32m----> <a href='vscode-notebook-cell:/e%3A/%281%29WORK%20OF%20HAMZA/VS%20Code/.vscode/.vscode/python.py/Assignment%201/assign.ipynb#W6sZmlsZQ%3D%3D?line=0'>1</a>\u001b[0m master\u001b[39m=\u001b[39mpd\u001b[39m.\u001b[39mmerge(company,\u001b[39mround\u001b[39m,on\u001b[39m=\u001b[39m[(company[\u001b[39m\"\u001b[39;49m\u001b[39mpermalink\u001b[39;49m\u001b[39m\\t\u001b[39;49;00m\u001b[39mname\u001b[39;49m\u001b[39m\\t\u001b[39;49;00m\u001b[39mhomepage_url\u001b[39;49m\u001b[39m\\t\u001b[39;49;00m\u001b[39mcategory_list\u001b[39;49m\u001b[39m\\t\u001b[39;49;00m\u001b[39mstatus\u001b[39;49m\u001b[39m\\t\u001b[39;49;00m\u001b[39mcountry_code\u001b[39;49m\u001b[39m\\t\u001b[39;49;00m\u001b[39mstate_code\u001b[39;49m\u001b[39m\\t\u001b[39;49;00m\u001b[39mregion\u001b[39;49m\u001b[39m\\t\u001b[39;49;00m\u001b[39mcity\u001b[39;49m\u001b[39m\\t\u001b[39;49;00m\u001b[39mfounded_at\u001b[39;49m\u001b[39m\"\u001b[39;49m])\u001b[39m==\u001b[39;49m(\u001b[39mround\u001b[39;49m[\u001b[39m\"\u001b[39;49m\u001b[39mcompany_permalink\u001b[39;49m\u001b[39m\"\u001b[39;49m])])\n",
      "File \u001b[1;32mc:\\Python\\Python39\\lib\\site-packages\\pandas\\core\\ops\\common.py:70\u001b[0m, in \u001b[0;36m_unpack_zerodim_and_defer.<locals>.new_method\u001b[1;34m(self, other)\u001b[0m\n\u001b[0;32m     66\u001b[0m             \u001b[39mreturn\u001b[39;00m \u001b[39mNotImplemented\u001b[39m\n\u001b[0;32m     68\u001b[0m other \u001b[39m=\u001b[39m item_from_zerodim(other)\n\u001b[1;32m---> 70\u001b[0m \u001b[39mreturn\u001b[39;00m method(\u001b[39mself\u001b[39;49m, other)\n",
      "File \u001b[1;32mc:\\Python\\Python39\\lib\\site-packages\\pandas\\core\\arraylike.py:40\u001b[0m, in \u001b[0;36mOpsMixin.__eq__\u001b[1;34m(self, other)\u001b[0m\n\u001b[0;32m     38\u001b[0m \u001b[39m@unpack_zerodim_and_defer\u001b[39m(\u001b[39m\"\u001b[39m\u001b[39m__eq__\u001b[39m\u001b[39m\"\u001b[39m)\n\u001b[0;32m     39\u001b[0m \u001b[39mdef\u001b[39;00m \u001b[39m__eq__\u001b[39m(\u001b[39mself\u001b[39m, other):\n\u001b[1;32m---> 40\u001b[0m     \u001b[39mreturn\u001b[39;00m \u001b[39mself\u001b[39;49m\u001b[39m.\u001b[39;49m_cmp_method(other, operator\u001b[39m.\u001b[39;49meq)\n",
      "File \u001b[1;32mc:\\Python\\Python39\\lib\\site-packages\\pandas\\core\\series.py:5614\u001b[0m, in \u001b[0;36mSeries._cmp_method\u001b[1;34m(self, other, op)\u001b[0m\n\u001b[0;32m   5611\u001b[0m res_name \u001b[39m=\u001b[39m ops\u001b[39m.\u001b[39mget_op_result_name(\u001b[39mself\u001b[39m, other)\n\u001b[0;32m   5613\u001b[0m \u001b[39mif\u001b[39;00m \u001b[39misinstance\u001b[39m(other, Series) \u001b[39mand\u001b[39;00m \u001b[39mnot\u001b[39;00m \u001b[39mself\u001b[39m\u001b[39m.\u001b[39m_indexed_same(other):\n\u001b[1;32m-> 5614\u001b[0m     \u001b[39mraise\u001b[39;00m \u001b[39mValueError\u001b[39;00m(\u001b[39m\"\u001b[39m\u001b[39mCan only compare identically-labeled Series objects\u001b[39m\u001b[39m\"\u001b[39m)\n\u001b[0;32m   5616\u001b[0m lvalues \u001b[39m=\u001b[39m \u001b[39mself\u001b[39m\u001b[39m.\u001b[39m_values\n\u001b[0;32m   5617\u001b[0m rvalues \u001b[39m=\u001b[39m extract_array(other, extract_numpy\u001b[39m=\u001b[39m\u001b[39mTrue\u001b[39;00m, extract_range\u001b[39m=\u001b[39m\u001b[39mTrue\u001b[39;00m)\n",
      "\u001b[1;31mValueError\u001b[0m: Can only compare identically-labeled Series objects"
     ]
    }
   ],
   "source": [
    "master=pd.merge(company,round,on=[(company[\"permalink\\tname\\thomepage_url\\tcategory_list\\tstatus\\tcountry_code\\tstate_code\\tregion\\tcity\\tfounded_at\"])==(round[\"company_permalink\"])])"
   ]
  },
  {
   "cell_type": "code",
   "execution_count": 11,
   "metadata": {},
   "outputs": [
    {
     "data": {
      "text/plain": [
       "0       /Organization/-Fame\\t#fame\\thttp://livfame.com...\n",
       "1       /Organization/-Qounter\\t:Qounter\\thttp://www.q...\n",
       "2             /Organization/-The-One-Of-Them-Inc-\\t\"(THE)\n",
       "3       /Organization/0-6-Com\\t0-6.com\\thttp://www.0-6...\n",
       "4                     /Organization/004-Technologies\\t004\n",
       "                              ...                        \n",
       "5856     /Organization/Baratz-Consulting-Services\\tBaratz\n",
       "5857    /Organization/Baravento\\tBaravento\\thttp://en....\n",
       "5858    /Organization/Barbird\\tBarBird\\t\\tE-Commerce\\t...\n",
       "5859    /Organization/Barburrito\\tBarburrito\\thttp://w...\n",
       "5860    /Organization/Barcheyacht-It\\tBY\\thttp://www.b...\n",
       "Name: permalink\\tname\\thomepage_url\\tcategory_list\\tstatus\\tcountry_code\\tstate_code\\tregion\\tcity\\tfounded_at, Length: 5861, dtype: object"
      ]
     },
     "execution_count": 11,
     "metadata": {},
     "output_type": "execute_result"
    }
   ],
   "source": [
    "company[\"permalink\\tname\\thomepage_url\\tcategory_list\\tstatus\\tcountry_code\\tstate_code\\tregion\\tcity\\tfounded_at\"]"
   ]
  },
  {
   "cell_type": "code",
   "execution_count": null,
   "metadata": {},
   "outputs": [],
   "source": []
  }
 ],
 "metadata": {
  "kernelspec": {
   "display_name": "Python 3.9.10 64-bit",
   "language": "python",
   "name": "python3"
  },
  "language_info": {
   "codemirror_mode": {
    "name": "ipython",
    "version": 3
   },
   "file_extension": ".py",
   "mimetype": "text/x-python",
   "name": "python",
   "nbconvert_exporter": "python",
   "pygments_lexer": "ipython3",
   "version": "3.9.10"
  },
  "orig_nbformat": 4,
  "vscode": {
   "interpreter": {
    "hash": "25034407fed5d681614dac11a1c0537e8cb49e3a8883c071303eea01322943d9"
   }
  }
 },
 "nbformat": 4,
 "nbformat_minor": 2
}
