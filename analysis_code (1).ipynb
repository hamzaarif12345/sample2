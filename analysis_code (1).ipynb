{
 "cells": [
  {
   "cell_type": "code",
   "execution_count": 1,
   "metadata": {},
   "outputs": [],
   "source": [
    "# conda install scikit-learn"
   ]
  },
  {
   "cell_type": "code",
   "execution_count": 2,
   "metadata": {},
   "outputs": [
    {
     "data": {
      "text/plain": [
       "'1.0.2'"
      ]
     },
     "execution_count": 2,
     "metadata": {},
     "output_type": "execute_result"
    }
   ],
   "source": [
    "import sklearn\n",
    "sklearn.__version__"
   ]
  },
  {
   "cell_type": "code",
   "execution_count": 3,
   "metadata": {},
   "outputs": [],
   "source": [
    "import numpy as np\n",
    "import pandas as pd\n",
    "import matplotlib.pyplot as plt"
   ]
  },
  {
   "cell_type": "code",
   "execution_count": 4,
   "metadata": {},
   "outputs": [],
   "source": [
    "from sklearn.linear_model import LinearRegression\n",
    "from sklearn.metrics import mean_squared_error"
   ]
  },
  {
   "cell_type": "markdown",
   "metadata": {},
   "source": [
    "### Reading the Data"
   ]
  },
  {
   "cell_type": "code",
   "execution_count": 5,
   "metadata": {},
   "outputs": [
    {
     "ename": "FileNotFoundError",
     "evalue": "[Errno 2] No such file or directory: 'data/market.csv'",
     "output_type": "error",
     "traceback": [
      "\u001b[1;31m---------------------------------------------------------------------------\u001b[0m",
      "\u001b[1;31mFileNotFoundError\u001b[0m                         Traceback (most recent call last)",
      "\u001b[1;32me:\\(1)WORK OF HAMZA\\VS Code\\.vscode\\.vscode\\python.py\\Online MOOC\\analysis_code (1).ipynb Cell 6\u001b[0m in \u001b[0;36m<cell line: 1>\u001b[1;34m()\u001b[0m\n\u001b[1;32m----> <a href='vscode-notebook-cell:/e%3A/%281%29WORK%20OF%20HAMZA/VS%20Code/.vscode/.vscode/python.py/Online%20MOOC/analysis_code%20%281%29.ipynb#W5sZmlsZQ%3D%3D?line=0'>1</a>\u001b[0m input_data \u001b[39m=\u001b[39m pd\u001b[39m.\u001b[39;49mread_csv(\u001b[39m\"\u001b[39;49m\u001b[39mdata/market.csv\u001b[39;49m\u001b[39m\"\u001b[39;49m)\n",
      "File \u001b[1;32mc:\\Python\\Python39\\lib\\site-packages\\pandas\\util\\_decorators.py:311\u001b[0m, in \u001b[0;36mdeprecate_nonkeyword_arguments.<locals>.decorate.<locals>.wrapper\u001b[1;34m(*args, **kwargs)\u001b[0m\n\u001b[0;32m    305\u001b[0m \u001b[39mif\u001b[39;00m \u001b[39mlen\u001b[39m(args) \u001b[39m>\u001b[39m num_allow_args:\n\u001b[0;32m    306\u001b[0m     warnings\u001b[39m.\u001b[39mwarn(\n\u001b[0;32m    307\u001b[0m         msg\u001b[39m.\u001b[39mformat(arguments\u001b[39m=\u001b[39marguments),\n\u001b[0;32m    308\u001b[0m         \u001b[39mFutureWarning\u001b[39;00m,\n\u001b[0;32m    309\u001b[0m         stacklevel\u001b[39m=\u001b[39mstacklevel,\n\u001b[0;32m    310\u001b[0m     )\n\u001b[1;32m--> 311\u001b[0m \u001b[39mreturn\u001b[39;00m func(\u001b[39m*\u001b[39margs, \u001b[39m*\u001b[39m\u001b[39m*\u001b[39mkwargs)\n",
      "File \u001b[1;32mc:\\Python\\Python39\\lib\\site-packages\\pandas\\io\\parsers\\readers.py:680\u001b[0m, in \u001b[0;36mread_csv\u001b[1;34m(filepath_or_buffer, sep, delimiter, header, names, index_col, usecols, squeeze, prefix, mangle_dupe_cols, dtype, engine, converters, true_values, false_values, skipinitialspace, skiprows, skipfooter, nrows, na_values, keep_default_na, na_filter, verbose, skip_blank_lines, parse_dates, infer_datetime_format, keep_date_col, date_parser, dayfirst, cache_dates, iterator, chunksize, compression, thousands, decimal, lineterminator, quotechar, quoting, doublequote, escapechar, comment, encoding, encoding_errors, dialect, error_bad_lines, warn_bad_lines, on_bad_lines, delim_whitespace, low_memory, memory_map, float_precision, storage_options)\u001b[0m\n\u001b[0;32m    665\u001b[0m kwds_defaults \u001b[39m=\u001b[39m _refine_defaults_read(\n\u001b[0;32m    666\u001b[0m     dialect,\n\u001b[0;32m    667\u001b[0m     delimiter,\n\u001b[1;32m   (...)\u001b[0m\n\u001b[0;32m    676\u001b[0m     defaults\u001b[39m=\u001b[39m{\u001b[39m\"\u001b[39m\u001b[39mdelimiter\u001b[39m\u001b[39m\"\u001b[39m: \u001b[39m\"\u001b[39m\u001b[39m,\u001b[39m\u001b[39m\"\u001b[39m},\n\u001b[0;32m    677\u001b[0m )\n\u001b[0;32m    678\u001b[0m kwds\u001b[39m.\u001b[39mupdate(kwds_defaults)\n\u001b[1;32m--> 680\u001b[0m \u001b[39mreturn\u001b[39;00m _read(filepath_or_buffer, kwds)\n",
      "File \u001b[1;32mc:\\Python\\Python39\\lib\\site-packages\\pandas\\io\\parsers\\readers.py:575\u001b[0m, in \u001b[0;36m_read\u001b[1;34m(filepath_or_buffer, kwds)\u001b[0m\n\u001b[0;32m    572\u001b[0m _validate_names(kwds\u001b[39m.\u001b[39mget(\u001b[39m\"\u001b[39m\u001b[39mnames\u001b[39m\u001b[39m\"\u001b[39m, \u001b[39mNone\u001b[39;00m))\n\u001b[0;32m    574\u001b[0m \u001b[39m# Create the parser.\u001b[39;00m\n\u001b[1;32m--> 575\u001b[0m parser \u001b[39m=\u001b[39m TextFileReader(filepath_or_buffer, \u001b[39m*\u001b[39m\u001b[39m*\u001b[39mkwds)\n\u001b[0;32m    577\u001b[0m \u001b[39mif\u001b[39;00m chunksize \u001b[39mor\u001b[39;00m iterator:\n\u001b[0;32m    578\u001b[0m     \u001b[39mreturn\u001b[39;00m parser\n",
      "File \u001b[1;32mc:\\Python\\Python39\\lib\\site-packages\\pandas\\io\\parsers\\readers.py:933\u001b[0m, in \u001b[0;36mTextFileReader.__init__\u001b[1;34m(self, f, engine, **kwds)\u001b[0m\n\u001b[0;32m    930\u001b[0m     \u001b[39mself\u001b[39m\u001b[39m.\u001b[39moptions[\u001b[39m\"\u001b[39m\u001b[39mhas_index_names\u001b[39m\u001b[39m\"\u001b[39m] \u001b[39m=\u001b[39m kwds[\u001b[39m\"\u001b[39m\u001b[39mhas_index_names\u001b[39m\u001b[39m\"\u001b[39m]\n\u001b[0;32m    932\u001b[0m \u001b[39mself\u001b[39m\u001b[39m.\u001b[39mhandles: IOHandles \u001b[39m|\u001b[39m \u001b[39mNone\u001b[39;00m \u001b[39m=\u001b[39m \u001b[39mNone\u001b[39;00m\n\u001b[1;32m--> 933\u001b[0m \u001b[39mself\u001b[39m\u001b[39m.\u001b[39m_engine \u001b[39m=\u001b[39m \u001b[39mself\u001b[39;49m\u001b[39m.\u001b[39;49m_make_engine(f, \u001b[39mself\u001b[39;49m\u001b[39m.\u001b[39;49mengine)\n",
      "File \u001b[1;32mc:\\Python\\Python39\\lib\\site-packages\\pandas\\io\\parsers\\readers.py:1217\u001b[0m, in \u001b[0;36mTextFileReader._make_engine\u001b[1;34m(self, f, engine)\u001b[0m\n\u001b[0;32m   1213\u001b[0m     mode \u001b[39m=\u001b[39m \u001b[39m\"\u001b[39m\u001b[39mrb\u001b[39m\u001b[39m\"\u001b[39m\n\u001b[0;32m   1214\u001b[0m \u001b[39m# error: No overload variant of \"get_handle\" matches argument types\u001b[39;00m\n\u001b[0;32m   1215\u001b[0m \u001b[39m# \"Union[str, PathLike[str], ReadCsvBuffer[bytes], ReadCsvBuffer[str]]\"\u001b[39;00m\n\u001b[0;32m   1216\u001b[0m \u001b[39m# , \"str\", \"bool\", \"Any\", \"Any\", \"Any\", \"Any\", \"Any\"\u001b[39;00m\n\u001b[1;32m-> 1217\u001b[0m \u001b[39mself\u001b[39m\u001b[39m.\u001b[39mhandles \u001b[39m=\u001b[39m get_handle(  \u001b[39m# type: ignore[call-overload]\u001b[39;49;00m\n\u001b[0;32m   1218\u001b[0m     f,\n\u001b[0;32m   1219\u001b[0m     mode,\n\u001b[0;32m   1220\u001b[0m     encoding\u001b[39m=\u001b[39;49m\u001b[39mself\u001b[39;49m\u001b[39m.\u001b[39;49moptions\u001b[39m.\u001b[39;49mget(\u001b[39m\"\u001b[39;49m\u001b[39mencoding\u001b[39;49m\u001b[39m\"\u001b[39;49m, \u001b[39mNone\u001b[39;49;00m),\n\u001b[0;32m   1221\u001b[0m     compression\u001b[39m=\u001b[39;49m\u001b[39mself\u001b[39;49m\u001b[39m.\u001b[39;49moptions\u001b[39m.\u001b[39;49mget(\u001b[39m\"\u001b[39;49m\u001b[39mcompression\u001b[39;49m\u001b[39m\"\u001b[39;49m, \u001b[39mNone\u001b[39;49;00m),\n\u001b[0;32m   1222\u001b[0m     memory_map\u001b[39m=\u001b[39;49m\u001b[39mself\u001b[39;49m\u001b[39m.\u001b[39;49moptions\u001b[39m.\u001b[39;49mget(\u001b[39m\"\u001b[39;49m\u001b[39mmemory_map\u001b[39;49m\u001b[39m\"\u001b[39;49m, \u001b[39mFalse\u001b[39;49;00m),\n\u001b[0;32m   1223\u001b[0m     is_text\u001b[39m=\u001b[39;49mis_text,\n\u001b[0;32m   1224\u001b[0m     errors\u001b[39m=\u001b[39;49m\u001b[39mself\u001b[39;49m\u001b[39m.\u001b[39;49moptions\u001b[39m.\u001b[39;49mget(\u001b[39m\"\u001b[39;49m\u001b[39mencoding_errors\u001b[39;49m\u001b[39m\"\u001b[39;49m, \u001b[39m\"\u001b[39;49m\u001b[39mstrict\u001b[39;49m\u001b[39m\"\u001b[39;49m),\n\u001b[0;32m   1225\u001b[0m     storage_options\u001b[39m=\u001b[39;49m\u001b[39mself\u001b[39;49m\u001b[39m.\u001b[39;49moptions\u001b[39m.\u001b[39;49mget(\u001b[39m\"\u001b[39;49m\u001b[39mstorage_options\u001b[39;49m\u001b[39m\"\u001b[39;49m, \u001b[39mNone\u001b[39;49;00m),\n\u001b[0;32m   1226\u001b[0m )\n\u001b[0;32m   1227\u001b[0m \u001b[39massert\u001b[39;00m \u001b[39mself\u001b[39m\u001b[39m.\u001b[39mhandles \u001b[39mis\u001b[39;00m \u001b[39mnot\u001b[39;00m \u001b[39mNone\u001b[39;00m\n\u001b[0;32m   1228\u001b[0m f \u001b[39m=\u001b[39m \u001b[39mself\u001b[39m\u001b[39m.\u001b[39mhandles\u001b[39m.\u001b[39mhandle\n",
      "File \u001b[1;32mc:\\Python\\Python39\\lib\\site-packages\\pandas\\io\\common.py:789\u001b[0m, in \u001b[0;36mget_handle\u001b[1;34m(path_or_buf, mode, encoding, compression, memory_map, is_text, errors, storage_options)\u001b[0m\n\u001b[0;32m    784\u001b[0m \u001b[39melif\u001b[39;00m \u001b[39misinstance\u001b[39m(handle, \u001b[39mstr\u001b[39m):\n\u001b[0;32m    785\u001b[0m     \u001b[39m# Check whether the filename is to be opened in binary mode.\u001b[39;00m\n\u001b[0;32m    786\u001b[0m     \u001b[39m# Binary mode does not support 'encoding' and 'newline'.\u001b[39;00m\n\u001b[0;32m    787\u001b[0m     \u001b[39mif\u001b[39;00m ioargs\u001b[39m.\u001b[39mencoding \u001b[39mand\u001b[39;00m \u001b[39m\"\u001b[39m\u001b[39mb\u001b[39m\u001b[39m\"\u001b[39m \u001b[39mnot\u001b[39;00m \u001b[39min\u001b[39;00m ioargs\u001b[39m.\u001b[39mmode:\n\u001b[0;32m    788\u001b[0m         \u001b[39m# Encoding\u001b[39;00m\n\u001b[1;32m--> 789\u001b[0m         handle \u001b[39m=\u001b[39m \u001b[39mopen\u001b[39;49m(\n\u001b[0;32m    790\u001b[0m             handle,\n\u001b[0;32m    791\u001b[0m             ioargs\u001b[39m.\u001b[39;49mmode,\n\u001b[0;32m    792\u001b[0m             encoding\u001b[39m=\u001b[39;49mioargs\u001b[39m.\u001b[39;49mencoding,\n\u001b[0;32m    793\u001b[0m             errors\u001b[39m=\u001b[39;49merrors,\n\u001b[0;32m    794\u001b[0m             newline\u001b[39m=\u001b[39;49m\u001b[39m\"\u001b[39;49m\u001b[39m\"\u001b[39;49m,\n\u001b[0;32m    795\u001b[0m         )\n\u001b[0;32m    796\u001b[0m     \u001b[39melse\u001b[39;00m:\n\u001b[0;32m    797\u001b[0m         \u001b[39m# Binary mode\u001b[39;00m\n\u001b[0;32m    798\u001b[0m         handle \u001b[39m=\u001b[39m \u001b[39mopen\u001b[39m(handle, ioargs\u001b[39m.\u001b[39mmode)\n",
      "\u001b[1;31mFileNotFoundError\u001b[0m: [Errno 2] No such file or directory: 'data/market.csv'"
     ]
    }
   ],
   "source": [
    "input_data = pd.read_csv(\"data/market.csv\")"
   ]
  },
  {
   "cell_type": "code",
   "execution_count": null,
   "metadata": {},
   "outputs": [
    {
     "data": {
      "text/plain": [
       "0     14885\n",
       "1     22769\n",
       "2     27442\n",
       "3     27781\n",
       "4     34231\n",
       "5     38802\n",
       "6     44773\n",
       "7     48507\n",
       "8     51504\n",
       "9     53693\n",
       "10    61519\n",
       "11    62676\n",
       "12    72730\n",
       "13    72899\n",
       "14    75894\n",
       "15    76598\n",
       "16    78396\n",
       "17    80605\n",
       "18    84421\n",
       "19    91915\n",
       "20    27750\n",
       "21    34200\n",
       "22    78000\n",
       "23    80600\n",
       "24    84400\n",
       "Name: Marketing Spend, dtype: int64"
      ]
     },
     "execution_count": 17,
     "metadata": {},
     "output_type": "execute_result"
    }
   ],
   "source": [
    "# Independent Variable\n",
    "indep = input_data[\"Marketing Spend\"]\n",
    "indep"
   ]
  },
  {
   "cell_type": "code",
   "execution_count": null,
   "metadata": {},
   "outputs": [
    {
     "data": {
      "text/plain": [
       "(25, 1)"
      ]
     },
     "execution_count": 29,
     "metadata": {},
     "output_type": "execute_result"
    }
   ],
   "source": [
    "indep.shape # 1-D\n",
    "indep = indep.reshape(-1,1) # Making it 2-D\n",
    "indep.shape"
   ]
  },
  {
   "cell_type": "code",
   "execution_count": null,
   "metadata": {},
   "outputs": [
    {
     "data": {
      "text/plain": [
       "0     412288\n",
       "1     464161\n",
       "2     487871\n",
       "3     529504\n",
       "4     557891\n",
       "5     598954\n",
       "6     625772\n",
       "7     679932\n",
       "8     694673\n",
       "9     702248\n",
       "10    705885\n",
       "11    703096\n",
       "12    708950\n",
       "13    703269\n",
       "14    712512\n",
       "15    728969\n",
       "16    730411\n",
       "17    731940\n",
       "18    739228\n",
       "19    743833\n",
       "20    529450\n",
       "21    557700\n",
       "22    730000\n",
       "23    731900\n",
       "24    739200\n",
       "Name: Revenue, dtype: int64"
      ]
     },
     "execution_count": 27,
     "metadata": {},
     "output_type": "execute_result"
    }
   ],
   "source": [
    "# Dependent Variable\n",
    "dep = input_data[\"Revenue\"]\n",
    "dep"
   ]
  },
  {
   "cell_type": "markdown",
   "metadata": {},
   "source": [
    "### Splitting the data set into training set and test set"
   ]
  },
  {
   "cell_type": "code",
   "execution_count": null,
   "metadata": {},
   "outputs": [],
   "source": [
    "from sklearn.model_selection import train_test_split\n",
    "indep_train, indep_test, dep_train, dep_test = train_test_split(indep, dep, test_size = 0.2, random_state = 0)"
   ]
  },
  {
   "cell_type": "markdown",
   "metadata": {},
   "source": [
    "### Model Building"
   ]
  },
  {
   "cell_type": "code",
   "execution_count": null,
   "metadata": {},
   "outputs": [
    {
     "data": {
      "text/plain": [
       "LinearRegression(copy_X=True, fit_intercept=True, n_jobs=None,\n",
       "         normalize=False)"
      ]
     },
     "execution_count": 39,
     "metadata": {},
     "output_type": "execute_result"
    }
   ],
   "source": [
    "regressor = LinearRegression()\n",
    "regressor.fit(indep_train, dep_train) # using the training data"
   ]
  },
  {
   "cell_type": "markdown",
   "metadata": {},
   "source": [
    "### Model Prediction"
   ]
  },
  {
   "cell_type": "code",
   "execution_count": null,
   "metadata": {},
   "outputs": [
    {
     "data": {
      "text/plain": [
       "array([576603.75904591, 529661.2058578 , 796080.85653536, 740216.7388813 ,\n",
       "       675257.50154705])"
      ]
     },
     "execution_count": 42,
     "metadata": {},
     "output_type": "execute_result"
    }
   ],
   "source": [
    "regressor.predict(indep_test)"
   ]
  },
  {
   "cell_type": "code",
   "execution_count": null,
   "metadata": {},
   "outputs": [
    {
     "data": {
      "text/plain": [
       "5     598954\n",
       "2     487871\n",
       "19    743833\n",
       "16    730411\n",
       "11    703096\n",
       "Name: Revenue, dtype: int64"
      ]
     },
     "execution_count": 43,
     "metadata": {},
     "output_type": "execute_result"
    }
   ],
   "source": [
    "dep_test"
   ]
  },
  {
   "cell_type": "code",
   "execution_count": null,
   "metadata": {},
   "outputs": [
    {
     "data": {
      "image/png": "[encoded data removed]",
      "text/plain": [
       "<Figure size 432x288 with 1 Axes>"
      ]
     },
     "metadata": {},
     "output_type": "display_data"
    }
   ],
   "source": [
    "plt.scatter(indep_train, regressor.predict(indep_train), c='r', linestyle='--')\n",
    "plt.scatter(indep_train, dep_train)\n",
    "plt.title('Revenue regressed on Marketing Spend')\n",
    "plt.xlabel('Marketing Spend')\n",
    "plt.ylabel('Revenue')\n",
    "plt.show()"
   ]
  },
  {
   "cell_type": "markdown",
   "metadata": {},
   "source": [
    "### Model Evaluation"
   ]
  },
  {
   "cell_type": "code",
   "execution_count": null,
   "metadata": {},
   "outputs": [
    {
     "data": {
      "text/plain": [
       "34196.2793297918"
      ]
     },
     "execution_count": 44,
     "metadata": {},
     "output_type": "execute_result"
    }
   ],
   "source": [
    "# RMSE\n",
    "np.sqrt(mean_squared_error(dep_test, regressor.predict(indep_test)))"
   ]
  },
  {
   "cell_type": "markdown",
   "metadata": {},
   "source": [
    "### Feature Scaling"
   ]
  },
  {
   "cell_type": "code",
   "execution_count": null,
   "metadata": {},
   "outputs": [
    {
     "name": "stderr",
     "output_type": "stream",
     "text": [
      "C:\\ProgramData\\Anaconda3\\envs\\safeenv\\lib\\site-packages\\sklearn\\utils\\validation.py:595: DataConversionWarning: Data with input dtype int64 was converted to float64 by StandardScaler.\n",
      "  warnings.warn(msg, DataConversionWarning)\n",
      "C:\\ProgramData\\Anaconda3\\envs\\safeenv\\lib\\site-packages\\sklearn\\utils\\validation.py:595: DataConversionWarning: Data with input dtype int64 was converted to float64 by StandardScaler.\n",
      "  warnings.warn(msg, DataConversionWarning)\n",
      "C:\\ProgramData\\Anaconda3\\envs\\safeenv\\lib\\site-packages\\sklearn\\utils\\validation.py:595: DataConversionWarning: Data with input dtype int64 was converted to float64 by StandardScaler.\n",
      "  warnings.warn(msg, DataConversionWarning)\n",
      "C:\\ProgramData\\Anaconda3\\envs\\safeenv\\lib\\site-packages\\sklearn\\utils\\validation.py:595: DataConversionWarning: Data with input dtype int64 was converted to float64 by StandardScaler.\n",
      "  warnings.warn(msg, DataConversionWarning)\n",
      "C:\\ProgramData\\Anaconda3\\envs\\safeenv\\lib\\site-packages\\sklearn\\utils\\validation.py:595: DataConversionWarning: Data with input dtype int64 was converted to float64 by StandardScaler.\n",
      "  warnings.warn(msg, DataConversionWarning)\n"
     ]
    }
   ],
   "source": [
    "from sklearn.preprocessing import StandardScaler\n",
    "\n",
    "indep_scaler = StandardScaler()\n",
    "indep_train_scaled = indep_scaler.fit_transform(indep_train)\n",
    "indep_test_scaled = indep_scaler.transform(indep_test)\n",
    "\n",
    "dep_scaler = StandardScaler()\n",
    "dep_train_scaled = dep_scaler.fit_transform(dep_train.values.reshape(-1,1))"
   ]
  },
  {
   "cell_type": "code",
   "execution_count": null,
   "metadata": {},
   "outputs": [
    {
     "data": {
      "text/plain": [
       "LinearRegression(copy_X=True, fit_intercept=True, n_jobs=None,\n",
       "         normalize=False)"
      ]
     },
     "execution_count": 88,
     "metadata": {},
     "output_type": "execute_result"
    }
   ],
   "source": [
    "# Model Building\n",
    "\n",
    "regressor = LinearRegression()\n",
    "regressor.fit(indep_train_scaled, dep_train_scaled)"
   ]
  },
  {
   "cell_type": "code",
   "execution_count": null,
   "metadata": {},
   "outputs": [
    {
     "data": {
      "text/plain": [
       "array([[-0.72922647],\n",
       "       [-1.20028505],\n",
       "       [ 1.47317973],\n",
       "       [ 0.91259514],\n",
       "       [ 0.26074295]])"
      ]
     },
     "execution_count": 90,
     "metadata": {},
     "output_type": "execute_result"
    }
   ],
   "source": [
    "regressor.predict(indep_test_scaled)"
   ]
  },
  {
   "cell_type": "code",
   "execution_count": null,
   "metadata": {},
   "outputs": [
    {
     "data": {
      "text/plain": [
       "array([[576603.75904591],\n",
       "       [529661.2058578 ],\n",
       "       [796080.85653536],\n",
       "       [740216.7388813 ],\n",
       "       [675257.50154705]])"
      ]
     },
     "execution_count": 91,
     "metadata": {},
     "output_type": "execute_result"
    }
   ],
   "source": [
    "# Inverse Transform\n",
    "dep_scaler.inverse_transform(regressor.predict(indep_test_scaled))"
   ]
  },
  {
   "cell_type": "code",
   "execution_count": null,
   "metadata": {},
   "outputs": [
    {
     "data": {
      "image/png": "[encoded data removed]",
      "text/plain": [
       "<Figure size 432x288 with 1 Axes>"
      ]
     },
     "metadata": {},
     "output_type": "display_data"
    }
   ],
   "source": [
    "plt.scatter(indep_train, \n",
    "            dep_scaler.inverse_transform(regressor.predict(indep_train_scaled)), \n",
    "            c='r', \n",
    "            linestyle='--')\n",
    "plt.scatter(indep_train, dep_train)\n",
    "\n",
    "plt.title('Revenue regressed on Marketing Spend')\n",
    "plt.xlabel('Marketing Spend')\n",
    "plt.ylabel('Revenue')\n",
    "plt.show()"
   ]
  },
  {
   "cell_type": "code",
   "execution_count": null,
   "metadata": {},
   "outputs": [],
   "source": [
    "# Polynomial features = 2\n",
    "from sklearn.preprocessing import PolynomialFeatures\n",
    "\n",
    "quadratic_featurizer = PolynomialFeatures (degree=2)"
   ]
  },
  {
   "cell_type": "code",
   "execution_count": null,
   "metadata": {},
   "outputs": [
    {
     "data": {
      "text/plain": [
       "array([[1.00000000e+00, 7.80000000e+04, 6.08400000e+09],\n",
       "       [1.00000000e+00, 8.06050000e+04, 6.49716602e+09],\n",
       "       [1.00000000e+00, 8.44000000e+04, 7.12336000e+09],\n",
       "       [1.00000000e+00, 8.06000000e+04, 6.49636000e+09],\n",
       "       [1.00000000e+00, 7.58940000e+04, 5.75989924e+09],\n",
       "       [1.00000000e+00, 2.27690000e+04, 5.18427361e+08],\n",
       "       [1.00000000e+00, 6.15190000e+04, 3.78458736e+09],\n",
       "       [1.00000000e+00, 7.28990000e+04, 5.31426420e+09],\n",
       "       [1.00000000e+00, 5.15040000e+04, 2.65266202e+09],\n",
       "       [1.00000000e+00, 4.47730000e+04, 2.00462153e+09],\n",
       "       [1.00000000e+00, 8.44210000e+04, 7.12690524e+09],\n",
       "       [1.00000000e+00, 3.42310000e+04, 1.17176136e+09],\n",
       "       [1.00000000e+00, 5.36930000e+04, 2.88293825e+09],\n",
       "       [1.00000000e+00, 4.85070000e+04, 2.35292905e+09],\n",
       "       [1.00000000e+00, 2.77500000e+04, 7.70062500e+08],\n",
       "       [1.00000000e+00, 2.77810000e+04, 7.71783961e+08],\n",
       "       [1.00000000e+00, 1.48850000e+04, 2.21563225e+08],\n",
       "       [1.00000000e+00, 3.42000000e+04, 1.16964000e+09],\n",
       "       [1.00000000e+00, 7.65980000e+04, 5.86725360e+09],\n",
       "       [1.00000000e+00, 7.27300000e+04, 5.28965290e+09]])"
      ]
     },
     "execution_count": 78,
     "metadata": {},
     "output_type": "execute_result"
    }
   ],
   "source": [
    "indep_train_quadratic = quadratic_featurizer.fit_transform(indep_train)\n",
    "indep_train_quadratic"
   ]
  },
  {
   "cell_type": "code",
   "execution_count": null,
   "metadata": {},
   "outputs": [],
   "source": [
    "indep_test_quadratic = quadratic_featurizer.transform(indep_test)"
   ]
  },
  {
   "cell_type": "code",
   "execution_count": null,
   "metadata": {},
   "outputs": [
    {
     "data": {
      "text/plain": [
       "LinearRegression(copy_X=True, fit_intercept=True, n_jobs=None,\n",
       "         normalize=False)"
      ]
     },
     "execution_count": 93,
     "metadata": {},
     "output_type": "execute_result"
    }
   ],
   "source": [
    "regressor_quad= LinearRegression()\n",
    "regressor_quad.fit(indep_train_quadratic, dep_train)"
   ]
  },
  {
   "cell_type": "code",
   "execution_count": null,
   "metadata": {},
   "outputs": [
    {
     "data": {
      "text/plain": [
       "array([603488.61379026, 520023.07473493, 714319.32713499, 729784.30217895,\n",
       "       710263.38333254])"
      ]
     },
     "execution_count": 94,
     "metadata": {},
     "output_type": "execute_result"
    }
   ],
   "source": [
    "regressor_quad.predict(indep_test_quadratic)"
   ]
  },
  {
   "cell_type": "code",
   "execution_count": null,
   "metadata": {},
   "outputs": [
    {
     "data": {
      "image/png": "[encoded data removed]",
      "text/plain": [
       "<Figure size 432x288 with 1 Axes>"
      ]
     },
     "metadata": {},
     "output_type": "display_data"
    }
   ],
   "source": [
    "plt.scatter(indep_train, regressor_quad.predict(indep_train_quadratic), c='r', linestyle='--')\n",
    "\n",
    "plt.scatter(indep_train, dep_train)\n",
    "\n",
    "plt.title('Revenue regressed on Marketing Spend')\n",
    "plt.xlabel('Marketing Spend')\n",
    "plt.ylabel('Revenue')\n",
    "plt.show()"
   ]
  },
  {
   "cell_type": "code",
   "execution_count": null,
   "metadata": {},
   "outputs": [
    {
     "data": {
      "text/plain": [
       "19885.36975751276"
      ]
     },
     "execution_count": 99,
     "metadata": {},
     "output_type": "execute_result"
    }
   ],
   "source": [
    "# RMSE\n",
    "np.sqrt(mean_squared_error(dep_test, regressor_quad.predict(indep_test_quadratic)))"
   ]
  },
  {
   "cell_type": "code",
   "execution_count": null,
   "metadata": {},
   "outputs": [],
   "source": [
    "# Polynomial Features = 9 \n",
    "from sklearn.preprocessing import PolynomialFeatures\n",
    "ninth_featurizer = PolynomialFeatures(degree=9)"
   ]
  },
  {
   "cell_type": "code",
   "execution_count": null,
   "metadata": {},
   "outputs": [
    {
     "data": {
      "text/plain": [
       "array([[1.00000000e+00, 7.80000000e+04, 6.08400000e+09, 4.74552000e+14,\n",
       "        3.70150560e+19, 2.88717437e+24, 2.25199601e+29, 1.75655689e+34,\n",
       "        1.37011437e+39, 1.06868921e+44],\n",
       "       [1.00000000e+00, 8.06050000e+04, 6.49716602e+09, 5.23704067e+14,\n",
       "        4.22131664e+19, 3.40259227e+24, 2.74265950e+29, 2.21072069e+34,\n",
       "        1.78195141e+39, 1.43634194e+44],\n",
       "       [1.00000000e+00, 8.44000000e+04, 7.12336000e+09, 6.01211584e+14,\n",
       "        5.07422577e+19, 4.28264655e+24, 3.61455369e+29, 3.05068331e+34,\n",
       "        2.57477672e+39, 2.17311155e+44],\n",
       "       [1.00000000e+00, 8.06000000e+04, 6.49636000e+09, 5.23606616e+14,\n",
       "        4.22026932e+19, 3.40153708e+24, 2.74163888e+29, 2.20976094e+34,\n",
       "        1.78106732e+39, 1.43554026e+44],\n",
       "       [1.00000000e+00, 7.58940000e+04, 5.75989924e+09, 4.37141793e+14,\n",
       "        3.31764392e+19, 2.51789268e+24, 1.91092947e+29, 1.45028081e+34,\n",
       "        1.10067612e+39, 8.35347133e+43],\n",
       "       [1.00000000e+00, 2.27690000e+04, 5.18427361e+08, 1.18040726e+13,\n",
       "        2.68766929e+17, 6.11955420e+21, 1.39336130e+26, 3.17254433e+30,\n",
       "        7.22356619e+34, 1.64473379e+39],\n",
       "       [1.00000000e+00, 6.15190000e+04, 3.78458736e+09, 2.32824030e+14,\n",
       "        1.43231015e+19, 8.81142881e+23, 5.42070289e+28, 3.33476221e+33,\n",
       "        2.05151236e+38, 1.26206989e+43],\n",
       "       [1.00000000e+00, 7.28990000e+04, 5.31426420e+09, 3.87404546e+14,\n",
       "        2.82414040e+19, 2.05877011e+24, 1.50082282e+29, 1.09408483e+34,\n",
       "        7.97576900e+38, 5.81425584e+43],\n",
       "       [1.00000000e+00, 5.15040000e+04, 2.65266202e+09, 1.36622704e+14,\n",
       "        7.03661577e+18, 3.62413859e+23, 1.86657634e+28, 9.61361477e+32,\n",
       "        4.95139615e+37, 2.55016707e+42],\n",
       "       [1.00000000e+00, 4.47730000e+04, 2.00462153e+09, 8.97529197e+13,\n",
       "        4.01850747e+18, 1.79920635e+23, 8.05558660e+27, 3.60672779e+32,\n",
       "        1.61484023e+37, 7.23012417e+41],\n",
       "       [1.00000000e+00, 8.44210000e+04, 7.12690524e+09, 6.01660467e+14,\n",
       "        5.07927783e+19, 4.28797714e+24, 3.61995318e+29, 3.05600067e+34,\n",
       "        2.57990633e+39, 2.17798272e+44],\n",
       "       [1.00000000e+00, 3.42310000e+04, 1.17176136e+09, 4.01105631e+13,\n",
       "        1.37302469e+18, 4.70000081e+22, 1.60885728e+27, 5.50727934e+31,\n",
       "        1.88519679e+36, 6.45321714e+40],\n",
       "       [1.00000000e+00, 5.36930000e+04, 2.88293825e+09, 1.54793603e+14,\n",
       "        8.31133295e+18, 4.46260400e+23, 2.39610597e+28, 1.28654118e+33,\n",
       "        6.90782554e+37, 3.70901877e+42],\n",
       "       [1.00000000e+00, 4.85070000e+04, 2.35292905e+09, 1.14133529e+14,\n",
       "        5.53627511e+18, 2.68548097e+23, 1.30264625e+28, 6.31874618e+32,\n",
       "        3.06503421e+37, 1.48675614e+42],\n",
       "       [1.00000000e+00, 2.77500000e+04, 7.70062500e+08, 2.13692344e+13,\n",
       "        5.92996254e+17, 1.64556460e+22, 4.56644178e+26, 1.26718759e+31,\n",
       "        3.51644557e+35, 9.75813646e+39],\n",
       "       [1.00000000e+00, 2.77810000e+04, 7.71783961e+08, 2.14409302e+13,\n",
       "        5.95650482e+17, 1.65477661e+22, 4.59713489e+26, 1.27713004e+31,\n",
       "        3.54799497e+35, 9.85668483e+39],\n",
       "       [1.00000000e+00, 1.48850000e+04, 2.21563225e+08, 3.29796860e+12,\n",
       "        4.90902627e+16, 7.30708560e+20, 1.08765969e+25, 1.61898145e+29,\n",
       "        2.40985389e+33, 3.58706751e+37],\n",
       "       [1.00000000e+00, 3.42000000e+04, 1.16964000e+09, 4.00016880e+13,\n",
       "        1.36805773e+18, 4.67875744e+22, 1.60013504e+27, 5.47246185e+31,\n",
       "        1.87158195e+36, 6.40081027e+40],\n",
       "       [1.00000000e+00, 7.65980000e+04, 5.86725360e+09, 4.49419892e+14,\n",
       "        3.44246649e+19, 2.63686048e+24, 2.01978239e+29, 1.54711291e+34,\n",
       "        1.18505755e+39, 9.07730382e+43],\n",
       "       [1.00000000e+00, 7.27300000e+04, 5.28965290e+09, 3.84716455e+14,\n",
       "        2.79804278e+19, 2.03501651e+24, 1.48006751e+29, 1.07645310e+34,\n",
       "        7.82904340e+38, 5.69406326e+43]])"
      ]
     },
     "execution_count": 101,
     "metadata": {},
     "output_type": "execute_result"
    }
   ],
   "source": [
    "indep_train_ninth = ninth_featurizer.fit_transform(indep_train)\n",
    "indep_train_ninth"
   ]
  },
  {
   "cell_type": "code",
   "execution_count": null,
   "metadata": {},
   "outputs": [],
   "source": [
    "indep_test_ninth = ninth_featurizer.transform(indep_test)"
   ]
  },
  {
   "cell_type": "code",
   "execution_count": null,
   "metadata": {},
   "outputs": [
    {
     "data": {
      "text/plain": [
       "LinearRegression(copy_X=True, fit_intercept=True, n_jobs=None,\n",
       "         normalize=False)"
      ]
     },
     "execution_count": 103,
     "metadata": {},
     "output_type": "execute_result"
    }
   ],
   "source": [
    "regressor_ninth = LinearRegression()\n",
    "regressor_ninth.fit(indep_train_ninth, dep_train)"
   ]
  },
  {
   "cell_type": "code",
   "execution_count": null,
   "metadata": {},
   "outputs": [
    {
     "data": {
      "text/plain": [
       "array([ 552778.1347384 ,  521745.13636255, 1562097.75465253,\n",
       "        702484.31789669,  755784.29579492])"
      ]
     },
     "execution_count": 104,
     "metadata": {},
     "output_type": "execute_result"
    }
   ],
   "source": [
    "regressor_ninth.predict(indep_test_ninth)"
   ]
  },
  {
   "cell_type": "code",
   "execution_count": null,
   "metadata": {},
   "outputs": [
    {
     "data": {
      "image/png": "[encoded data removed]",
      "text/plain": [
       "<Figure size 432x288 with 1 Axes>"
      ]
     },
     "metadata": {},
     "output_type": "display_data"
    }
   ],
   "source": [
    "plt.scatter(indep_train, \n",
    "            regressor_ninth.predict(indep_train_ninth), \n",
    "            c='r', \n",
    "            linestyle='--')\n",
    "\n",
    "plt.scatter(indep_train, dep_train)\n",
    "\n",
    "plt.title('Revenue regressed on Marketing Spend')\n",
    "plt.xlabel('Marketing Spend')\n",
    "plt.ylabel('Revenue')\n",
    "plt.show()"
   ]
  },
  {
   "cell_type": "code",
   "execution_count": null,
   "metadata": {},
   "outputs": [
    {
     "data": {
      "text/plain": [
       "367802.3470399833"
      ]
     },
     "execution_count": 107,
     "metadata": {},
     "output_type": "execute_result"
    }
   ],
   "source": [
    "# RMSE\n",
    "np.sqrt(mean_squared_error(dep_test, regressor_ninth.predict(indep_test_ninth)))"
   ]
  }
 ],
 "metadata": {
  "kernelspec": {
   "display_name": "Python 3.9.10 64-bit",
   "language": "python",
   "name": "python3"
  },
  "language_info": {
   "codemirror_mode": {
    "name": "ipython",
    "version": 3
   },
   "file_extension": ".py",
   "mimetype": "text/x-python",
   "name": "python",
   "nbconvert_exporter": "python",
   "pygments_lexer": "ipython3",
   "version": "3.9.10"
  },
  "vscode": {
   "interpreter": {
    "hash": "25034407fed5d681614dac11a1c0537e8cb49e3a8883c071303eea01322943d9"
   }
  }
 },
 "nbformat": 4,
 "nbformat_minor": 2
}
