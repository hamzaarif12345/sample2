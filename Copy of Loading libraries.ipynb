{
 "cells": [
  {
   "cell_type": "markdown",
   "metadata": {},
   "source": [
    "# Loading libraries "
   ]
  },
  {
   "cell_type": "markdown",
   "metadata": {},
   "source": [
    "\n",
    "# Install Pandas and Scikit learn libraries and use following commands to import these in your code. This step will remain consistent with all supervised methods that we will learn in the hands-on session. "
   ]
  },
  {
   "cell_type": "markdown",
   "metadata": {},
   "source": [
    "# Importing pandas\n"
   ]
  },
  {
   "cell_type": "code",
   "execution_count": 1,
   "metadata": {},
   "outputs": [],
   "source": [
    "import pandas as pd # import pandas for the support of data structures and analyses in code"
   ]
  },
  {
   "cell_type": "markdown",
   "metadata": {},
   "source": [
    "# Importing classification and regression models from Scikit learn library"
   ]
  },
  {
   "cell_type": "code",
   "execution_count": 2,
   "metadata": {},
   "outputs": [],
   "source": [
    "from sklearn import datasets # imports built in data sets supported in scikit learn \n",
    "\n",
    "from sklearn import svm   # imports SVM classifier\n",
    "\n",
    "from sklearn.neighbors import KNeighborsClassifier # imports KNN classifier\n",
    "\n",
    "from sklearn.naive_bayes import MultinomialNB # imports Naive Bayes classifier for data set\n",
    "# following multinomial distribution\n",
    "\n",
    "from sklearn.naive_bayes import GaussianNB # imports Naive Bayes classifier for data set\n",
    "# following Gaussian distribution\n",
    "\n",
    "from sklearn import tree # imports Decision tree classifier \n",
    "\n",
    "from sklearn.ensemble import RandomForestRegressor  # imports randomforest classifier\n",
    "\n",
    "from sklearn import linear_model # imports Linear regression model"
   ]
  },
  {
   "cell_type": "markdown",
   "metadata": {},
   "source": [
    "# Importing model evaluating methods such as Hold out and Cross validation for model learning and testing"
   ]
  },
  {
   "cell_type": "code",
   "execution_count": 5,
   "metadata": {},
   "outputs": [],
   "source": [
    "from sklearn.model_selection import train_test_split # Hold out method\n",
    "\n",
    "from sklearn.model_selection import cross_val_score\n",
    "#from sklearn.cross_validation import cross_val_score # Cross validation score for model under\n",
    "# learning\n"
   ]
  },
  {
   "cell_type": "markdown",
   "metadata": {},
   "source": [
    "# Importing performance metrices for classification and regression models"
   ]
  },
  {
   "cell_type": "code",
   "execution_count": 4,
   "metadata": {},
   "outputs": [],
   "source": [
    "from sklearn import metrics # imports metrices such as confusion matrix and mean_squared_error "
   ]
  }
 ],
 "metadata": {
  "kernelspec": {
   "display_name": "Python 3.9.10 64-bit",
   "language": "python",
   "name": "python3"
  },
  "language_info": {
   "codemirror_mode": {
    "name": "ipython",
    "version": 3
   },
   "file_extension": ".py",
   "mimetype": "text/x-python",
   "name": "python",
   "nbconvert_exporter": "python",
   "pygments_lexer": "ipython3",
   "version": "3.9.10"
  },
  "vscode": {
   "interpreter": {
    "hash": "25034407fed5d681614dac11a1c0537e8cb49e3a8883c071303eea01322943d9"
   }
  }
 },
 "nbformat": 4,
 "nbformat_minor": 2
}
