{
 "cells": [
  {
   "cell_type": "markdown",
   "metadata": {},
   "source": [
    "# Loading libraries "
   ]
  },
  {
   "cell_type": "markdown",
   "metadata": {},
   "source": [
    "\n",
    "# Install Pandas and Scikit learn libraries and use following commands to import these in your code. This step will remain consistent with all supervised methods that we will learn in the hands-on session. "
   ]
  },
  {
   "cell_type": "markdown",
   "metadata": {},
   "source": [
    "# Importing pandas\n"
   ]
  },
  {
   "cell_type": "code",
   "execution_count": 1,
   "metadata": {},
   "outputs": [],
   "source": [
    "import pandas as pd # import pandas for the support of data structures and analyses in code"
   ]
  },
  {
   "cell_type": "markdown",
   "metadata": {},
   "source": [
    "# Importing classification and regression models from Scikit learn library"
   ]
  },
  {
   "cell_type": "code",
   "execution_count": 2,
   "metadata": {},
   "outputs": [],
   "source": [
    "from sklearn import datasets # imports built in data sets supported in scikit learn \n",
    "\n",
    "from sklearn import svm   # imports SVM classifier\n",
    "\n",
    "from sklearn.neighbors import KNeighborsClassifier # imports KNN classifier\n",
    "\n",
    "from sklearn.naive_bayes import MultinomialNB # imports Naive Bayes classifier for data set\n",
    "# following multinomial distribution\n",
    "\n",
    "from sklearn.naive_bayes import GaussianNB # imports Naive Bayes classifier for data set\n",
    "# following Gaussian distribution\n",
    "\n",
    "from sklearn import tree # imports Decision tree classifier \n",
    "\n",
    "from sklearn.ensemble import RandomForestRegressor  # imports randomforest classifier\n",
    "\n",
    "from sklearn import linear_model # imports Linear regression model"
   ]
  },
  {
   "cell_type": "markdown",
   "metadata": {},
   "source": [
    "# Importing model evaluating methods such as Hold out and Cross validation for model learning and testing"
   ]
  },
  {
   "cell_type": "code",
   "execution_count": 3,
   "metadata": {},
   "outputs": [
    {
     "ename": "ModuleNotFoundError",
     "evalue": "No module named 'sklearn.cross_validation'",
     "output_type": "error",
     "traceback": [
      "\u001b[1;31m---------------------------------------------------------------------------\u001b[0m",
      "\u001b[1;31mModuleNotFoundError\u001b[0m                       Traceback (most recent call last)",
      "\u001b[1;32me:\\(1)WORK OF HAMZA\\VS Code\\.vscode\\.vscode\\python.py\\Online MOOC\\Copy of Loading libraries.ipynb Cell 8\u001b[0m in \u001b[0;36m<cell line: 3>\u001b[1;34m()\u001b[0m\n\u001b[0;32m      <a href='vscode-notebook-cell:/e%3A/%281%29WORK%20OF%20HAMZA/VS%20Code/.vscode/.vscode/python.py/Online%20MOOC/Copy%20of%20Loading%20libraries.ipynb#X10sZmlsZQ%3D%3D?line=0'>1</a>\u001b[0m \u001b[39mfrom\u001b[39;00m \u001b[39msklearn\u001b[39;00m\u001b[39m.\u001b[39;00m\u001b[39mmodel_selection\u001b[39;00m \u001b[39mimport\u001b[39;00m train_test_split \u001b[39m# Hold out method\u001b[39;00m\n\u001b[1;32m----> <a href='vscode-notebook-cell:/e%3A/%281%29WORK%20OF%20HAMZA/VS%20Code/.vscode/.vscode/python.py/Online%20MOOC/Copy%20of%20Loading%20libraries.ipynb#X10sZmlsZQ%3D%3D?line=2'>3</a>\u001b[0m \u001b[39mfrom\u001b[39;00m \u001b[39msklearn\u001b[39;00m\u001b[39m.\u001b[39;00m\u001b[39mcross_validation\u001b[39;00m \u001b[39mimport\u001b[39;00m cross_val_score\n",
      "\u001b[1;31mModuleNotFoundError\u001b[0m: No module named 'sklearn.cross_validation'"
     ]
    }
   ],
   "source": [
    "from sklearn.model_selection import train_test_split # Hold out method\n",
    "\n",
    "from sklearn.cross_validation import cross_val_score # Cross validation score for model under\n",
    "# learning\n"
   ]
  },
  {
   "cell_type": "markdown",
   "metadata": {},
   "source": [
    "# Importing performance metrices for classification and regression models"
   ]
  },
  {
   "cell_type": "code",
   "execution_count": null,
   "metadata": {},
   "outputs": [],
   "source": [
    "from sklearn import metrics # imports metrices such as confusion matrix and mean_squared_error "
   ]
  }
 ],
 "metadata": {
  "kernelspec": {
   "display_name": "Python 3.9.10 64-bit",
   "language": "python",
   "name": "python3"
  },
  "language_info": {
   "codemirror_mode": {
    "name": "ipython",
    "version": 3
   },
   "file_extension": ".py",
   "mimetype": "text/x-python",
   "name": "python",
   "nbconvert_exporter": "python",
   "pygments_lexer": "ipython3",
   "version": "3.9.10"
  },
  "vscode": {
   "interpreter": {
    "hash": "25034407fed5d681614dac11a1c0537e8cb49e3a8883c071303eea01322943d9"
   }
  }
 },
 "nbformat": 4,
 "nbformat_minor": 2
}
