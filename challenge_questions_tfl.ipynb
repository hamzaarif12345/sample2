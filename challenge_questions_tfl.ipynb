{
 "cells": [
  {
   "cell_type": "markdown",
   "id": "fad1607b",
   "metadata": {},
   "source": [
    "# Challenge Questions - TfL Dataset"
   ]
  },
  {
   "cell_type": "markdown",
   "id": "357a4035",
   "metadata": {},
   "source": [
    "# Instructions:\n",
    "• Please ensure you don't overwrite any existing cells. Add new cells below by pressing ALT+ENTER\n",
    "\n",
    "• Attempt all of the questions\n",
    "\n",
    "• You are encouraged to look online for help should you need it"
   ]
  },
  {
   "cell_type": "markdown",
   "id": "ad362925",
   "metadata": {},
   "source": [
    "# Dataset overview:\n",
    "There are three datasets stored in the same directory as this Notebook, they are all related to each other:\n",
    "\n",
    "• **tfl-daily-cycle-hires.csv**: This dataset contains bike hire data from Transport for London during the period \n",
    "30th July 2010 to 30th September 2021. 'Day' is the day in '%d/%m/%Y' format. 'Number of Bicycle Hires' is the total number of bikes hired that day.\n"
   ]
  },
  {
   "cell_type": "markdown",
   "id": "a216156e",
   "metadata": {},
   "source": [
    "# "
   ]
  },
  {
   "cell_type": "markdown",
   "id": "620b8fa0",
   "metadata": {},
   "source": [
    "## Import pandas, numpy and datetime"
   ]
  },
  {
   "cell_type": "code",
   "execution_count": null,
   "id": "07f42443",
   "metadata": {},
   "outputs": [],
   "source": []
  },
  {
   "cell_type": "code",
   "execution_count": null,
   "id": "651723ec",
   "metadata": {},
   "outputs": [],
   "source": []
  },
  {
   "cell_type": "markdown",
   "id": "6d339efc",
   "metadata": {},
   "source": [
    "## Load the files:\n",
    "• \"tfl-daily-cycle-hires.csv\" should be assigned to the variable **tfl**"
   ]
  },
  {
   "cell_type": "code",
   "execution_count": null,
   "id": "d0284798",
   "metadata": {},
   "outputs": [],
   "source": []
  },
  {
   "cell_type": "code",
   "execution_count": null,
   "id": "45dbc76e",
   "metadata": {},
   "outputs": [],
   "source": []
  },
  {
   "cell_type": "markdown",
   "id": "08345011",
   "metadata": {},
   "source": [
    "## Check the head of the DataFrame"
   ]
  },
  {
   "cell_type": "code",
   "execution_count": null,
   "id": "d1b976ce",
   "metadata": {},
   "outputs": [],
   "source": []
  },
  {
   "cell_type": "code",
   "execution_count": null,
   "id": "e4ae65b7",
   "metadata": {},
   "outputs": [],
   "source": []
  },
  {
   "cell_type": "markdown",
   "id": "14067905",
   "metadata": {},
   "source": [
    "## Check the data types of the DataFrame columns"
   ]
  },
  {
   "cell_type": "code",
   "execution_count": null,
   "id": "599e0f7c",
   "metadata": {},
   "outputs": [],
   "source": []
  },
  {
   "cell_type": "code",
   "execution_count": null,
   "id": "799ac388",
   "metadata": {},
   "outputs": [],
   "source": []
  },
  {
   "cell_type": "markdown",
   "id": "37a9a275",
   "metadata": {},
   "source": [
    "## Change the data types and remove unnecessary columns \n",
    "\n",
    "• 'Day' should be a datetime64 data type\n",
    "\n",
    "• 'Number of Bicycle Hires' should be float64\n",
    "\n",
    "• Any other columns should be deleted"
   ]
  },
  {
   "cell_type": "code",
   "execution_count": null,
   "id": "c8e72b07",
   "metadata": {},
   "outputs": [],
   "source": []
  },
  {
   "cell_type": "code",
   "execution_count": null,
   "id": "99e0e637",
   "metadata": {},
   "outputs": [],
   "source": []
  },
  {
   "cell_type": "markdown",
   "id": "f35d6eec",
   "metadata": {},
   "source": [
    "## What is the average number of bicycle hires per day across the entire dataset?"
   ]
  },
  {
   "cell_type": "code",
   "execution_count": null,
   "id": "e92d7dba",
   "metadata": {},
   "outputs": [],
   "source": []
  },
  {
   "cell_type": "code",
   "execution_count": null,
   "id": "9898ddaa",
   "metadata": {},
   "outputs": [],
   "source": []
  },
  {
   "cell_type": "markdown",
   "id": "4e946af5",
   "metadata": {},
   "source": [
    "## Create a new column called 'Year' which contains the 4 digit year"
   ]
  },
  {
   "cell_type": "code",
   "execution_count": null,
   "id": "56fd21f1",
   "metadata": {},
   "outputs": [],
   "source": []
  },
  {
   "cell_type": "code",
   "execution_count": null,
   "id": "babbd6ab",
   "metadata": {},
   "outputs": [],
   "source": []
  },
  {
   "cell_type": "markdown",
   "id": "e30bf063",
   "metadata": {},
   "source": [
    "## What is the average number of bicycle hires per Year across the entire dataset"
   ]
  },
  {
   "cell_type": "code",
   "execution_count": null,
   "id": "32e99c01",
   "metadata": {},
   "outputs": [],
   "source": []
  },
  {
   "cell_type": "code",
   "execution_count": null,
   "id": "00a2f4ef",
   "metadata": {},
   "outputs": [],
   "source": []
  },
  {
   "cell_type": "markdown",
   "id": "97c173a5",
   "metadata": {},
   "source": [
    "## What is the total number of bicycle hires per Year across the entire dataset"
   ]
  },
  {
   "cell_type": "code",
   "execution_count": null,
   "id": "4548e26a",
   "metadata": {},
   "outputs": [],
   "source": []
  },
  {
   "cell_type": "markdown",
   "id": "4f4166e1",
   "metadata": {},
   "source": [
    "## Create a new column called 'Category' on the tfl DataFrame that classifies the number of bike hires per day as:\n",
    "* 'Low' if the 'Number of Bicycle Hires' is below 10,000\n",
    "* 'Medium' if the 'Number of Bicycle Hires' is below 40,000 but greater than or equal to 10,000\n",
    "* 'High' if the 'Number of Bicycle Hires' is greater than or equal to 40,000"
   ]
  },
  {
   "cell_type": "code",
   "execution_count": null,
   "id": "614d5750",
   "metadata": {},
   "outputs": [],
   "source": []
  },
  {
   "cell_type": "code",
   "execution_count": null,
   "id": "3164af72",
   "metadata": {},
   "outputs": [],
   "source": []
  },
  {
   "cell_type": "markdown",
   "id": "06e53d45",
   "metadata": {},
   "source": [
    "## For each year in the tfl DataFrame how many days are classed as 'Low', 'Medium' or 'High'?"
   ]
  },
  {
   "cell_type": "code",
   "execution_count": null,
   "id": "a7fefcdd",
   "metadata": {},
   "outputs": [],
   "source": []
  },
  {
   "cell_type": "code",
   "execution_count": null,
   "id": "0320ae95",
   "metadata": {},
   "outputs": [],
   "source": []
  }
 ],
 "metadata": {
  "kernelspec": {
   "display_name": "Python 3 (ipykernel)",
   "language": "python",
   "name": "python3"
  },
  "language_info": {
   "codemirror_mode": {
    "name": "ipython",
    "version": 3
   },
   "file_extension": ".py",
   "mimetype": "text/x-python",
   "name": "python",
   "nbconvert_exporter": "python",
   "pygments_lexer": "ipython3",
   "version": "3.9.7"
  }
 },
 "nbformat": 4,
 "nbformat_minor": 5
}
