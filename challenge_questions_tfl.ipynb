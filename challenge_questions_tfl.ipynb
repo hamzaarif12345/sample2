{
 "cells": [
  {
   "cell_type": "markdown",
   "id": "fad1607b",
   "metadata": {},
   "source": [
    "# Challenge Questions - TfL Dataset"
   ]
  },
  {
   "cell_type": "markdown",
   "id": "357a4035",
   "metadata": {},
   "source": [
    "# Instructions:\n",
    "• Please ensure you don't overwrite any existing cells. Add new cells below by pressing ALT+ENTER\n",
    "\n",
    "• Attempt all of the questions\n",
    "\n",
    "• You are encouraged to look online for help should you need it"
   ]
  },
  {
   "cell_type": "markdown",
   "id": "ad362925",
   "metadata": {},
   "source": [
    "# Dataset overview:\n",
    "There are three datasets stored in the same directory as this Notebook, they are all related to each other:\n",
    "\n",
    "• **tfl-daily-cycle-hires.csv**: This dataset contains bike hire data from Transport for London during the period \n",
    "30th July 2010 to 30th September 2021. 'Day' is the day in '%d/%m/%Y' format. 'Number of Bicycle Hires' is the total number of bikes hired that day.\n"
   ]
  },
  {
   "cell_type": "markdown",
   "id": "a216156e",
   "metadata": {},
   "source": [
    "# "
   ]
  },
  {
   "cell_type": "markdown",
   "id": "620b8fa0",
   "metadata": {},
   "source": [
    "## Import pandas, numpy and datetime"
   ]
  },
  {
   "cell_type": "code",
   "execution_count": 1,
   "id": "07f42443",
   "metadata": {},
   "outputs": [],
   "source": [
    "#Type your code here\n",
    "import pandas as pd\n",
    "import numpy as np\n",
    "import datetime as dt"
   ]
  },
  {
   "cell_type": "code",
   "execution_count": null,
   "id": "651723ec",
   "metadata": {},
   "outputs": [],
   "source": []
  },
  {
   "cell_type": "markdown",
   "id": "6d339efc",
   "metadata": {},
   "source": [
    "## Load the files:\n",
    "• \"tfl-daily-cycle-hires.csv\" should be assigned to the variable **tfl**"
   ]
  },
  {
   "cell_type": "code",
   "execution_count": 2,
   "id": "d0284798",
   "metadata": {},
   "outputs": [],
   "source": [
    "tfl=pd.read_csv('tfl-daily-cycle-hires.csv')"
   ]
  },
  {
   "cell_type": "code",
   "execution_count": null,
   "id": "45dbc76e",
   "metadata": {},
   "outputs": [],
   "source": []
  },
  {
   "cell_type": "markdown",
   "id": "08345011",
   "metadata": {},
   "source": [
    "## Check the head of the DataFrame"
   ]
  },
  {
   "cell_type": "code",
   "execution_count": 4,
   "id": "d1b976ce",
   "metadata": {},
   "outputs": [
    {
     "data": {
      "text/html": [
       "<div>\n",
       "<style scoped>\n",
       "    .dataframe tbody tr th:only-of-type {\n",
       "        vertical-align: middle;\n",
       "    }\n",
       "\n",
       "    .dataframe tbody tr th {\n",
       "        vertical-align: top;\n",
       "    }\n",
       "\n",
       "    .dataframe thead th {\n",
       "        text-align: right;\n",
       "    }\n",
       "</style>\n",
       "<table border=\"1\" class=\"dataframe\">\n",
       "  <thead>\n",
       "    <tr style=\"text-align: right;\">\n",
       "      <th></th>\n",
       "      <th>Day</th>\n",
       "      <th>Number of Bicycle Hires</th>\n",
       "      <th>Unnamed: 2</th>\n",
       "    </tr>\n",
       "  </thead>\n",
       "  <tbody>\n",
       "    <tr>\n",
       "      <th>0</th>\n",
       "      <td>30/07/2010</td>\n",
       "      <td>6897.0</td>\n",
       "      <td>NaN</td>\n",
       "    </tr>\n",
       "    <tr>\n",
       "      <th>1</th>\n",
       "      <td>31/07/2010</td>\n",
       "      <td>5564.0</td>\n",
       "      <td>NaN</td>\n",
       "    </tr>\n",
       "    <tr>\n",
       "      <th>2</th>\n",
       "      <td>01/08/2010</td>\n",
       "      <td>4303.0</td>\n",
       "      <td>NaN</td>\n",
       "    </tr>\n",
       "    <tr>\n",
       "      <th>3</th>\n",
       "      <td>02/08/2010</td>\n",
       "      <td>6642.0</td>\n",
       "      <td>NaN</td>\n",
       "    </tr>\n",
       "    <tr>\n",
       "      <th>4</th>\n",
       "      <td>03/08/2010</td>\n",
       "      <td>7966.0</td>\n",
       "      <td>NaN</td>\n",
       "    </tr>\n",
       "  </tbody>\n",
       "</table>\n",
       "</div>"
      ],
      "text/plain": [
       "          Day  Number of Bicycle Hires  Unnamed: 2\n",
       "0  30/07/2010                   6897.0         NaN\n",
       "1  31/07/2010                   5564.0         NaN\n",
       "2  01/08/2010                   4303.0         NaN\n",
       "3  02/08/2010                   6642.0         NaN\n",
       "4  03/08/2010                   7966.0         NaN"
      ]
     },
     "execution_count": 4,
     "metadata": {},
     "output_type": "execute_result"
    }
   ],
   "source": [
    "tfl.head()"
   ]
  },
  {
   "cell_type": "code",
   "execution_count": null,
   "id": "e4ae65b7",
   "metadata": {},
   "outputs": [],
   "source": []
  },
  {
   "cell_type": "markdown",
   "id": "14067905",
   "metadata": {},
   "source": [
    "## Check the data types of the DataFrame columns"
   ]
  },
  {
   "cell_type": "code",
   "execution_count": 6,
   "id": "599e0f7c",
   "metadata": {},
   "outputs": [
    {
     "data": {
      "text/plain": [
       "Day                         object\n",
       "Number of Bicycle Hires    float64\n",
       "Unnamed: 2                 float64\n",
       "dtype: object"
      ]
     },
     "execution_count": 6,
     "metadata": {},
     "output_type": "execute_result"
    }
   ],
   "source": [
    "tfl.dtypes"
   ]
  },
  {
   "cell_type": "code",
   "execution_count": null,
   "id": "799ac388",
   "metadata": {},
   "outputs": [],
   "source": []
  },
  {
   "cell_type": "markdown",
   "id": "37a9a275",
   "metadata": {},
   "source": [
    "## Change the data types and remove unnecessary columns \n",
    "\n",
    "• 'Day' should be a datetime64 data type\n",
    "\n",
    "• 'Number of Bicycle Hires' should be float64\n",
    "\n",
    "• Any other columns should be deleted"
   ]
  },
  {
   "cell_type": "code",
   "execution_count": 7,
   "id": "c8e72b07",
   "metadata": {},
   "outputs": [],
   "source": [
    "tfl['Day'] = pd.to_datetime(tfl['Day'],format='%d/%m/%Y')"
   ]
  },
  {
   "cell_type": "code",
   "execution_count": null,
   "id": "99e0e637",
   "metadata": {},
   "outputs": [],
   "source": []
  },
  {
   "cell_type": "markdown",
   "id": "f35d6eec",
   "metadata": {},
   "source": [
    "## What is the average number of bicycle hires per day across the entire dataset?"
   ]
  },
  {
   "cell_type": "code",
   "execution_count": 8,
   "id": "e92d7dba",
   "metadata": {},
   "outputs": [
    {
     "data": {
      "text/plain": [
       "26261.932124479295"
      ]
     },
     "execution_count": 8,
     "metadata": {},
     "output_type": "execute_result"
    }
   ],
   "source": [
    "tfl['Number of Bicycle Hires'].mean()"
   ]
  },
  {
   "cell_type": "code",
   "execution_count": null,
   "id": "9898ddaa",
   "metadata": {},
   "outputs": [],
   "source": []
  },
  {
   "cell_type": "markdown",
   "id": "4e946af5",
   "metadata": {},
   "source": [
    "## Create a new column called 'Year' which contains the 4 digit year"
   ]
  },
  {
   "cell_type": "code",
   "execution_count": 9,
   "id": "56fd21f1",
   "metadata": {},
   "outputs": [],
   "source": [
    "tfl['Year']=tfl['Day'].dt.strftime('%Y')"
   ]
  },
  {
   "cell_type": "code",
   "execution_count": null,
   "id": "babbd6ab",
   "metadata": {},
   "outputs": [],
   "source": []
  },
  {
   "cell_type": "markdown",
   "id": "e30bf063",
   "metadata": {},
   "source": [
    "## What is the average number of bicycle hires per Year across the entire dataset"
   ]
  },
  {
   "cell_type": "code",
   "execution_count": 11,
   "id": "32e99c01",
   "metadata": {},
   "outputs": [
    {
     "data": {
      "text/plain": [
       "inf"
      ]
     },
     "execution_count": 11,
     "metadata": {},
     "output_type": "execute_result"
    }
   ],
   "source": [
    "tfl['Year'].mean()"
   ]
  },
  {
   "cell_type": "code",
   "execution_count": null,
   "id": "00a2f4ef",
   "metadata": {},
   "outputs": [],
   "source": []
  },
  {
   "cell_type": "markdown",
   "id": "97c173a5",
   "metadata": {},
   "source": [
    "## What is the total number of bicycle hires per Year across the entire dataset"
   ]
  },
  {
   "cell_type": "code",
   "execution_count": 12,
   "id": "4548e26a",
   "metadata": {},
   "outputs": [
    {
     "data": {
      "text/html": [
       "<div>\n",
       "<style scoped>\n",
       "    .dataframe tbody tr th:only-of-type {\n",
       "        vertical-align: middle;\n",
       "    }\n",
       "\n",
       "    .dataframe tbody tr th {\n",
       "        vertical-align: top;\n",
       "    }\n",
       "\n",
       "    .dataframe thead th {\n",
       "        text-align: right;\n",
       "    }\n",
       "</style>\n",
       "<table border=\"1\" class=\"dataframe\">\n",
       "  <thead>\n",
       "    <tr style=\"text-align: right;\">\n",
       "      <th></th>\n",
       "      <th>Number of Bicycle Hires</th>\n",
       "      <th>Unnamed: 2</th>\n",
       "    </tr>\n",
       "    <tr>\n",
       "      <th>Year</th>\n",
       "      <th></th>\n",
       "      <th></th>\n",
       "    </tr>\n",
       "  </thead>\n",
       "  <tbody>\n",
       "    <tr>\n",
       "      <th>2010</th>\n",
       "      <td>2180813.0</td>\n",
       "      <td>0.0</td>\n",
       "    </tr>\n",
       "    <tr>\n",
       "      <th>2011</th>\n",
       "      <td>7142449.0</td>\n",
       "      <td>0.0</td>\n",
       "    </tr>\n",
       "    <tr>\n",
       "      <th>2012</th>\n",
       "      <td>9519283.0</td>\n",
       "      <td>0.0</td>\n",
       "    </tr>\n",
       "    <tr>\n",
       "      <th>2013</th>\n",
       "      <td>8045459.0</td>\n",
       "      <td>0.0</td>\n",
       "    </tr>\n",
       "    <tr>\n",
       "      <th>2014</th>\n",
       "      <td>10023897.0</td>\n",
       "      <td>0.0</td>\n",
       "    </tr>\n",
       "    <tr>\n",
       "      <th>2015</th>\n",
       "      <td>9871839.0</td>\n",
       "      <td>0.0</td>\n",
       "    </tr>\n",
       "    <tr>\n",
       "      <th>2016</th>\n",
       "      <td>10303637.0</td>\n",
       "      <td>0.0</td>\n",
       "    </tr>\n",
       "    <tr>\n",
       "      <th>2017</th>\n",
       "      <td>10446044.0</td>\n",
       "      <td>0.0</td>\n",
       "    </tr>\n",
       "    <tr>\n",
       "      <th>2018</th>\n",
       "      <td>10567540.0</td>\n",
       "      <td>0.0</td>\n",
       "    </tr>\n",
       "    <tr>\n",
       "      <th>2019</th>\n",
       "      <td>10424955.0</td>\n",
       "      <td>0.0</td>\n",
       "    </tr>\n",
       "    <tr>\n",
       "      <th>2020</th>\n",
       "      <td>10434167.0</td>\n",
       "      <td>0.0</td>\n",
       "    </tr>\n",
       "    <tr>\n",
       "      <th>2021</th>\n",
       "      <td>8214862.0</td>\n",
       "      <td>0.0</td>\n",
       "    </tr>\n",
       "  </tbody>\n",
       "</table>\n",
       "</div>"
      ],
      "text/plain": [
       "      Number of Bicycle Hires  Unnamed: 2\n",
       "Year                                     \n",
       "2010                2180813.0         0.0\n",
       "2011                7142449.0         0.0\n",
       "2012                9519283.0         0.0\n",
       "2013                8045459.0         0.0\n",
       "2014               10023897.0         0.0\n",
       "2015                9871839.0         0.0\n",
       "2016               10303637.0         0.0\n",
       "2017               10446044.0         0.0\n",
       "2018               10567540.0         0.0\n",
       "2019               10424955.0         0.0\n",
       "2020               10434167.0         0.0\n",
       "2021                8214862.0         0.0"
      ]
     },
     "execution_count": 12,
     "metadata": {},
     "output_type": "execute_result"
    }
   ],
   "source": [
    "tfl.groupby(by='Year').sum()"
   ]
  },
  {
   "cell_type": "markdown",
   "id": "4f4166e1",
   "metadata": {},
   "source": [
    "## Create a new column called 'Category' on the tfl DataFrame that classifies the number of bike hires per day as:\n",
    "* 'Low' if the 'Number of Bicycle Hires' is below 10,000\n",
    "* 'Medium' if the 'Number of Bicycle Hires' is below 40,000 but greater than or equal to 10,000\n",
    "* 'High' if the 'Number of Bicycle Hires' is greater than or equal to 40,000"
   ]
  },
  {
   "cell_type": "code",
   "execution_count": null,
   "id": "614d5750",
   "metadata": {},
   "outputs": [],
   "source": []
  },
  {
   "cell_type": "code",
   "execution_count": null,
   "id": "3164af72",
   "metadata": {},
   "outputs": [],
   "source": []
  },
  {
   "cell_type": "markdown",
   "id": "06e53d45",
   "metadata": {},
   "source": [
    "## For each year in the tfl DataFrame how many days are classed as 'Low', 'Medium' or 'High'?"
   ]
  },
  {
   "cell_type": "code",
   "execution_count": null,
   "id": "a7fefcdd",
   "metadata": {},
   "outputs": [],
   "source": []
  },
  {
   "cell_type": "code",
   "execution_count": null,
   "id": "0320ae95",
   "metadata": {},
   "outputs": [],
   "source": []
  }
 ],
 "metadata": {
  "kernelspec": {
   "display_name": "Python 3.9.10 64-bit",
   "language": "python",
   "name": "python3"
  },
  "language_info": {
   "codemirror_mode": {
    "name": "ipython",
    "version": 3
   },
   "file_extension": ".py",
   "mimetype": "text/x-python",
   "name": "python",
   "nbconvert_exporter": "python",
   "pygments_lexer": "ipython3",
   "version": "3.9.10"
  },
  "vscode": {
   "interpreter": {
    "hash": "25034407fed5d681614dac11a1c0537e8cb49e3a8883c071303eea01322943d9"
   }
  }
 },
 "nbformat": 4,
 "nbformat_minor": 5
}
