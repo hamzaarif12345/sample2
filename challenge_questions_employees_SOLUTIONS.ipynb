{
 "cells": [
  {
   "cell_type": "markdown",
   "id": "fad1607b",
   "metadata": {},
   "source": [
    "# Challenge Questions - Employees Dataset"
   ]
  },
  {
   "cell_type": "markdown",
   "id": "357a4035",
   "metadata": {},
   "source": [
    "# Instructions:\n",
    "• Please ensure you don't overwrite any existing cells. Add new cells below by pressing ALT+ENTER\n",
    "\n",
    "• Attempt all of the questions\n",
    "\n",
    "• You are encouraged to look online for help should you need it"
   ]
  },
  {
   "cell_type": "markdown",
   "id": "0797ec9a",
   "metadata": {},
   "source": [
    "# Dataset overview:\n",
    "There are three csv files containing tables stored in the same directory as this Notebook, they are all related to each other:\n",
    "\n",
    "• **employees.csv**: contains information about employees in a company. It contains their unique employee number (emp_no), their department number (dept_no), their hire date (hire_date) and their leaving date (leaving_date). The leaving date is blank if the employee is still employed by the company\n",
    "\n",
    "• **departments.csv**: This contains information about the departments in a company. It contains the deparment number (dept_no), the department name (dept_name) and location.\n",
    "\n",
    "• **salaries.csv**: This file contains the salaries of the employees. It contains a unique employee department key (emp_dept_key) and the salary. The emp_dept_key is in the format 'emp_id-dept_id'\n"
   ]
  },
  {
   "cell_type": "markdown",
   "id": "a216156e",
   "metadata": {},
   "source": [
    "# "
   ]
  },
  {
   "cell_type": "markdown",
   "id": "620b8fa0",
   "metadata": {},
   "source": [
    "## Import pandas, numpy and datetime"
   ]
  },
  {
   "cell_type": "code",
   "execution_count": 1,
   "id": "3261afef",
   "metadata": {},
   "outputs": [],
   "source": [
    "import pandas as pd\n",
    "import numpy as np\n",
    "import datetime as dt"
   ]
  },
  {
   "cell_type": "code",
   "execution_count": null,
   "id": "07f42443",
   "metadata": {},
   "outputs": [],
   "source": []
  },
  {
   "cell_type": "code",
   "execution_count": null,
   "id": "651723ec",
   "metadata": {},
   "outputs": [],
   "source": []
  },
  {
   "cell_type": "markdown",
   "id": "8a051f6a",
   "metadata": {},
   "source": [
    "## Load the files:\n",
    "• \"employees.csv\" should be assigned to the variable **emp**\n",
    "\n",
    "• \"departments.csv\" should be assigned to the variable **dept**\n",
    "\n",
    "• \"salaries.csv\" should be assigned to the variable **sal**"
   ]
  },
  {
   "cell_type": "code",
   "execution_count": 2,
   "id": "c64ce56c",
   "metadata": {},
   "outputs": [],
   "source": [
    "emp = pd.read_csv('employees.csv')"
   ]
  },
  {
   "cell_type": "code",
   "execution_count": 3,
   "id": "0c62a537",
   "metadata": {},
   "outputs": [],
   "source": [
    "dept = pd.read_csv('departments.csv')"
   ]
  },
  {
   "cell_type": "code",
   "execution_count": 4,
   "id": "645f996c",
   "metadata": {},
   "outputs": [],
   "source": [
    "sal = pd.read_csv('salaries.csv')"
   ]
  },
  {
   "cell_type": "code",
   "execution_count": null,
   "id": "e8a11608",
   "metadata": {},
   "outputs": [],
   "source": []
  },
  {
   "cell_type": "code",
   "execution_count": null,
   "id": "76486a7a",
   "metadata": {},
   "outputs": [],
   "source": []
  },
  {
   "cell_type": "markdown",
   "id": "8fb32dec",
   "metadata": {},
   "source": [
    "## Check the head of all three DataFrames"
   ]
  },
  {
   "cell_type": "code",
   "execution_count": 5,
   "id": "408deff9",
   "metadata": {},
   "outputs": [
    {
     "data": {
      "text/html": [
       "<div>\n",
       "<style scoped>\n",
       "    .dataframe tbody tr th:only-of-type {\n",
       "        vertical-align: middle;\n",
       "    }\n",
       "\n",
       "    .dataframe tbody tr th {\n",
       "        vertical-align: top;\n",
       "    }\n",
       "\n",
       "    .dataframe thead th {\n",
       "        text-align: right;\n",
       "    }\n",
       "</style>\n",
       "<table border=\"1\" class=\"dataframe\">\n",
       "  <thead>\n",
       "    <tr style=\"text-align: right;\">\n",
       "      <th></th>\n",
       "      <th>emp_no</th>\n",
       "      <th>dept_no</th>\n",
       "      <th>hire_date</th>\n",
       "      <th>leaving_date</th>\n",
       "    </tr>\n",
       "  </thead>\n",
       "  <tbody>\n",
       "    <tr>\n",
       "      <th>0</th>\n",
       "      <td>10001</td>\n",
       "      <td>D5</td>\n",
       "      <td>26/06/2006</td>\n",
       "      <td>NaN</td>\n",
       "    </tr>\n",
       "    <tr>\n",
       "      <th>1</th>\n",
       "      <td>10002</td>\n",
       "      <td>D6</td>\n",
       "      <td>21/11/2005</td>\n",
       "      <td>NaN</td>\n",
       "    </tr>\n",
       "    <tr>\n",
       "      <th>2</th>\n",
       "      <td>10003</td>\n",
       "      <td>D4</td>\n",
       "      <td>28/08/2006</td>\n",
       "      <td>NaN</td>\n",
       "    </tr>\n",
       "    <tr>\n",
       "      <th>3</th>\n",
       "      <td>10004</td>\n",
       "      <td>D4</td>\n",
       "      <td>01/12/2006</td>\n",
       "      <td>NaN</td>\n",
       "    </tr>\n",
       "    <tr>\n",
       "      <th>4</th>\n",
       "      <td>10005</td>\n",
       "      <td>D3</td>\n",
       "      <td>12/09/2009</td>\n",
       "      <td>NaN</td>\n",
       "    </tr>\n",
       "  </tbody>\n",
       "</table>\n",
       "</div>"
      ],
      "text/plain": [
       "   emp_no dept_no   hire_date leaving_date\n",
       "0   10001      D5  26/06/2006          NaN\n",
       "1   10002      D6  21/11/2005          NaN\n",
       "2   10003      D4  28/08/2006          NaN\n",
       "3   10004      D4  01/12/2006          NaN\n",
       "4   10005      D3  12/09/2009          NaN"
      ]
     },
     "execution_count": 5,
     "metadata": {},
     "output_type": "execute_result"
    }
   ],
   "source": [
    "emp.head()"
   ]
  },
  {
   "cell_type": "code",
   "execution_count": 6,
   "id": "d190bd95",
   "metadata": {},
   "outputs": [
    {
     "data": {
      "text/html": [
       "<div>\n",
       "<style scoped>\n",
       "    .dataframe tbody tr th:only-of-type {\n",
       "        vertical-align: middle;\n",
       "    }\n",
       "\n",
       "    .dataframe tbody tr th {\n",
       "        vertical-align: top;\n",
       "    }\n",
       "\n",
       "    .dataframe thead th {\n",
       "        text-align: right;\n",
       "    }\n",
       "</style>\n",
       "<table border=\"1\" class=\"dataframe\">\n",
       "  <thead>\n",
       "    <tr style=\"text-align: right;\">\n",
       "      <th></th>\n",
       "      <th>dept_no</th>\n",
       "      <th>dept_name</th>\n",
       "      <th>location</th>\n",
       "    </tr>\n",
       "  </thead>\n",
       "  <tbody>\n",
       "    <tr>\n",
       "      <th>0</th>\n",
       "      <td>D1</td>\n",
       "      <td>Accounting and Finance</td>\n",
       "      <td>Chicago</td>\n",
       "    </tr>\n",
       "    <tr>\n",
       "      <th>1</th>\n",
       "      <td>D2</td>\n",
       "      <td>Human Resources</td>\n",
       "      <td>New York</td>\n",
       "    </tr>\n",
       "    <tr>\n",
       "      <th>2</th>\n",
       "      <td>D3</td>\n",
       "      <td>Supply Chain Operations</td>\n",
       "      <td>Chicago</td>\n",
       "    </tr>\n",
       "    <tr>\n",
       "      <th>3</th>\n",
       "      <td>D4</td>\n",
       "      <td>Marketing</td>\n",
       "      <td>New York</td>\n",
       "    </tr>\n",
       "    <tr>\n",
       "      <th>4</th>\n",
       "      <td>D5</td>\n",
       "      <td>Technology</td>\n",
       "      <td>Chicago</td>\n",
       "    </tr>\n",
       "  </tbody>\n",
       "</table>\n",
       "</div>"
      ],
      "text/plain": [
       "  dept_no                dept_name  location\n",
       "0      D1   Accounting and Finance   Chicago\n",
       "1      D2          Human Resources  New York\n",
       "2      D3  Supply Chain Operations   Chicago\n",
       "3      D4                Marketing  New York\n",
       "4      D5               Technology   Chicago"
      ]
     },
     "execution_count": 6,
     "metadata": {},
     "output_type": "execute_result"
    }
   ],
   "source": [
    "dept.head()"
   ]
  },
  {
   "cell_type": "code",
   "execution_count": 7,
   "id": "35fb3726",
   "metadata": {},
   "outputs": [
    {
     "data": {
      "text/html": [
       "<div>\n",
       "<style scoped>\n",
       "    .dataframe tbody tr th:only-of-type {\n",
       "        vertical-align: middle;\n",
       "    }\n",
       "\n",
       "    .dataframe tbody tr th {\n",
       "        vertical-align: top;\n",
       "    }\n",
       "\n",
       "    .dataframe thead th {\n",
       "        text-align: right;\n",
       "    }\n",
       "</style>\n",
       "<table border=\"1\" class=\"dataframe\">\n",
       "  <thead>\n",
       "    <tr style=\"text-align: right;\">\n",
       "      <th></th>\n",
       "      <th>emp_dept_key</th>\n",
       "      <th>salary</th>\n",
       "    </tr>\n",
       "  </thead>\n",
       "  <tbody>\n",
       "    <tr>\n",
       "      <th>0</th>\n",
       "      <td>10001-D5</td>\n",
       "      <td>30546</td>\n",
       "    </tr>\n",
       "    <tr>\n",
       "      <th>1</th>\n",
       "      <td>10002-D6</td>\n",
       "      <td>36536</td>\n",
       "    </tr>\n",
       "    <tr>\n",
       "      <th>2</th>\n",
       "      <td>10003-D4</td>\n",
       "      <td>38323</td>\n",
       "    </tr>\n",
       "    <tr>\n",
       "      <th>3</th>\n",
       "      <td>10004-D4</td>\n",
       "      <td>31851</td>\n",
       "    </tr>\n",
       "    <tr>\n",
       "      <th>4</th>\n",
       "      <td>10005-D3</td>\n",
       "      <td>53435</td>\n",
       "    </tr>\n",
       "  </tbody>\n",
       "</table>\n",
       "</div>"
      ],
      "text/plain": [
       "  emp_dept_key  salary\n",
       "0     10001-D5   30546\n",
       "1     10002-D6   36536\n",
       "2     10003-D4   38323\n",
       "3     10004-D4   31851\n",
       "4     10005-D3   53435"
      ]
     },
     "execution_count": 7,
     "metadata": {},
     "output_type": "execute_result"
    }
   ],
   "source": [
    "sal.head()"
   ]
  },
  {
   "cell_type": "code",
   "execution_count": null,
   "id": "93668121",
   "metadata": {},
   "outputs": [],
   "source": []
  },
  {
   "cell_type": "code",
   "execution_count": null,
   "id": "0341f14a",
   "metadata": {},
   "outputs": [],
   "source": []
  },
  {
   "cell_type": "markdown",
   "id": "28da5020",
   "metadata": {},
   "source": [
    "## Check the data types of all three DataFrames"
   ]
  },
  {
   "cell_type": "code",
   "execution_count": 8,
   "id": "02c31434",
   "metadata": {},
   "outputs": [
    {
     "data": {
      "text/plain": [
       "emp_no           int64\n",
       "dept_no         object\n",
       "hire_date       object\n",
       "leaving_date    object\n",
       "dtype: object"
      ]
     },
     "execution_count": 8,
     "metadata": {},
     "output_type": "execute_result"
    }
   ],
   "source": [
    "emp.dtypes"
   ]
  },
  {
   "cell_type": "code",
   "execution_count": 9,
   "id": "fcb97241",
   "metadata": {},
   "outputs": [
    {
     "data": {
      "text/plain": [
       "dept_no      object\n",
       "dept_name    object\n",
       "location     object\n",
       "dtype: object"
      ]
     },
     "execution_count": 9,
     "metadata": {},
     "output_type": "execute_result"
    }
   ],
   "source": [
    "dept.dtypes"
   ]
  },
  {
   "cell_type": "code",
   "execution_count": 10,
   "id": "b503e626",
   "metadata": {},
   "outputs": [
    {
     "data": {
      "text/plain": [
       "emp_dept_key    object\n",
       "salary           int64\n",
       "dtype: object"
      ]
     },
     "execution_count": 10,
     "metadata": {},
     "output_type": "execute_result"
    }
   ],
   "source": [
    "sal.dtypes"
   ]
  },
  {
   "cell_type": "code",
   "execution_count": null,
   "id": "6a2abc46",
   "metadata": {},
   "outputs": [],
   "source": []
  },
  {
   "cell_type": "code",
   "execution_count": null,
   "id": "044a7762",
   "metadata": {},
   "outputs": [],
   "source": []
  },
  {
   "cell_type": "markdown",
   "id": "a79b516a",
   "metadata": {},
   "source": [
    "## Change the data types accordingly. \n",
    "\n",
    "• emp_no, dept_no, dept_name, location, emp_depy_key should all be string data types\n",
    "\n",
    "• hire_date and leaving_date should be datetime64\n",
    "\n",
    "• salary should be int64"
   ]
  },
  {
   "cell_type": "code",
   "execution_count": 11,
   "id": "000f2aa8",
   "metadata": {},
   "outputs": [],
   "source": [
    "emp[['emp_no', 'dept_no']] = emp[['emp_no', 'dept_no']].astype('string')"
   ]
  },
  {
   "cell_type": "code",
   "execution_count": 12,
   "id": "55eaa2ca",
   "metadata": {},
   "outputs": [],
   "source": [
    "emp['hire_date'] = pd.to_datetime(emp['hire_date'], format = '%d/%m/%Y')"
   ]
  },
  {
   "cell_type": "code",
   "execution_count": 13,
   "id": "2a9714bd",
   "metadata": {},
   "outputs": [],
   "source": [
    "emp['leaving_date'] = pd.to_datetime(emp['leaving_date'], format = '%d/%m/%Y')"
   ]
  },
  {
   "cell_type": "code",
   "execution_count": 14,
   "id": "948e20f4",
   "metadata": {},
   "outputs": [],
   "source": [
    "dept[['dept_no', 'dept_name', 'location']] = dept[['dept_no', 'dept_name', 'location']].astype('string')"
   ]
  },
  {
   "cell_type": "code",
   "execution_count": 15,
   "id": "28c576e4",
   "metadata": {},
   "outputs": [],
   "source": [
    "sal['emp_dept_key'] = sal['emp_dept_key'].astype('string')"
   ]
  },
  {
   "cell_type": "code",
   "execution_count": null,
   "id": "0285e888",
   "metadata": {},
   "outputs": [],
   "source": []
  },
  {
   "cell_type": "code",
   "execution_count": null,
   "id": "c6e0ad90",
   "metadata": {},
   "outputs": [],
   "source": []
  },
  {
   "cell_type": "markdown",
   "id": "65d13808",
   "metadata": {},
   "source": [
    "## How many employees are currently working at the company. \n",
    "\n",
    "The employees still employed do not have a leaving date value. You can use the isnull() method to identify nulls or NaN values.\n",
    "\n",
    "isnull(): https://pandas.pydata.org/docs/reference/api/pandas.isnull.html"
   ]
  },
  {
   "cell_type": "code",
   "execution_count": 16,
   "id": "f8d7e6d2",
   "metadata": {},
   "outputs": [
    {
     "data": {
      "text/plain": [
       "0       True\n",
       "1       True\n",
       "2       True\n",
       "3       True\n",
       "4       True\n",
       "       ...  \n",
       "995     True\n",
       "996     True\n",
       "997    False\n",
       "998    False\n",
       "999     True\n",
       "Name: leaving_date, Length: 1000, dtype: bool"
      ]
     },
     "execution_count": 16,
     "metadata": {},
     "output_type": "execute_result"
    }
   ],
   "source": [
    "# isnull() returns True when the 'leaving date' column contains a null value\n",
    "emp['leaving_date'].isnull()"
   ]
  },
  {
   "cell_type": "code",
   "execution_count": 17,
   "id": "9cf4b174",
   "metadata": {
    "scrolled": true
   },
   "outputs": [
    {
     "data": {
      "text/plain": [
       "emp_no          741\n",
       "dept_no         741\n",
       "hire_date       741\n",
       "leaving_date      0\n",
       "dtype: int64"
      ]
     },
     "execution_count": 17,
     "metadata": {},
     "output_type": "execute_result"
    }
   ],
   "source": [
    "# We can use the above to perform boolean indexing and filter the records and then count the filtered records\n",
    "emp[emp['leaving_date'].isnull() == True].count()"
   ]
  },
  {
   "cell_type": "code",
   "execution_count": null,
   "id": "343c7b8a",
   "metadata": {},
   "outputs": [],
   "source": []
  },
  {
   "cell_type": "code",
   "execution_count": null,
   "id": "f0d6631f",
   "metadata": {},
   "outputs": [],
   "source": []
  },
  {
   "cell_type": "markdown",
   "id": "c85c8194",
   "metadata": {},
   "source": [
    "## How many currently employed people are there per department."
   ]
  },
  {
   "cell_type": "code",
   "execution_count": 18,
   "id": "00459c35",
   "metadata": {},
   "outputs": [],
   "source": [
    "current_emp = emp[emp['leaving_date'].isnull() == True]"
   ]
  },
  {
   "cell_type": "code",
   "execution_count": 39,
   "id": "d724f825",
   "metadata": {},
   "outputs": [
    {
     "data": {
      "text/plain": [
       "dept_no\n",
       "D1     84\n",
       "D2     36\n",
       "D3     94\n",
       "D4    171\n",
       "D5    188\n",
       "D6    168\n",
       "Name: emp_no, dtype: int64"
      ]
     },
     "execution_count": 39,
     "metadata": {},
     "output_type": "execute_result"
    }
   ],
   "source": [
    "current_emp.groupby(by='dept_no').count()['emp_no']"
   ]
  },
  {
   "cell_type": "code",
   "execution_count": null,
   "id": "6da2fef3",
   "metadata": {},
   "outputs": [],
   "source": []
  },
  {
   "cell_type": "code",
   "execution_count": null,
   "id": "32e29479",
   "metadata": {},
   "outputs": [],
   "source": []
  },
  {
   "cell_type": "markdown",
   "id": "33c444c9",
   "metadata": {},
   "source": [
    "## Perform a left join on the emp and dept DataFrames (with emp as the left DF). Assign the result of this to the variable emp_dept"
   ]
  },
  {
   "cell_type": "code",
   "execution_count": 20,
   "id": "5d6c41ef",
   "metadata": {},
   "outputs": [],
   "source": [
    "emp_dept = pd.merge(left=emp,right=dept,left_on='dept_no', right_on = 'dept_no', how='left')"
   ]
  },
  {
   "cell_type": "code",
   "execution_count": 21,
   "id": "efd9c949",
   "metadata": {},
   "outputs": [
    {
     "data": {
      "text/html": [
       "<div>\n",
       "<style scoped>\n",
       "    .dataframe tbody tr th:only-of-type {\n",
       "        vertical-align: middle;\n",
       "    }\n",
       "\n",
       "    .dataframe tbody tr th {\n",
       "        vertical-align: top;\n",
       "    }\n",
       "\n",
       "    .dataframe thead th {\n",
       "        text-align: right;\n",
       "    }\n",
       "</style>\n",
       "<table border=\"1\" class=\"dataframe\">\n",
       "  <thead>\n",
       "    <tr style=\"text-align: right;\">\n",
       "      <th></th>\n",
       "      <th>emp_no</th>\n",
       "      <th>dept_no</th>\n",
       "      <th>hire_date</th>\n",
       "      <th>leaving_date</th>\n",
       "      <th>dept_name</th>\n",
       "      <th>location</th>\n",
       "    </tr>\n",
       "  </thead>\n",
       "  <tbody>\n",
       "    <tr>\n",
       "      <th>0</th>\n",
       "      <td>10001</td>\n",
       "      <td>D5</td>\n",
       "      <td>2006-06-26</td>\n",
       "      <td>NaT</td>\n",
       "      <td>Technology</td>\n",
       "      <td>Chicago</td>\n",
       "    </tr>\n",
       "    <tr>\n",
       "      <th>1</th>\n",
       "      <td>10002</td>\n",
       "      <td>D6</td>\n",
       "      <td>2005-11-21</td>\n",
       "      <td>NaT</td>\n",
       "      <td>Sales</td>\n",
       "      <td>Chicago</td>\n",
       "    </tr>\n",
       "    <tr>\n",
       "      <th>2</th>\n",
       "      <td>10003</td>\n",
       "      <td>D4</td>\n",
       "      <td>2006-08-28</td>\n",
       "      <td>NaT</td>\n",
       "      <td>Marketing</td>\n",
       "      <td>New York</td>\n",
       "    </tr>\n",
       "    <tr>\n",
       "      <th>3</th>\n",
       "      <td>10004</td>\n",
       "      <td>D4</td>\n",
       "      <td>2006-12-01</td>\n",
       "      <td>NaT</td>\n",
       "      <td>Marketing</td>\n",
       "      <td>New York</td>\n",
       "    </tr>\n",
       "    <tr>\n",
       "      <th>4</th>\n",
       "      <td>10005</td>\n",
       "      <td>D3</td>\n",
       "      <td>2009-09-12</td>\n",
       "      <td>NaT</td>\n",
       "      <td>Supply Chain Operations</td>\n",
       "      <td>Chicago</td>\n",
       "    </tr>\n",
       "  </tbody>\n",
       "</table>\n",
       "</div>"
      ],
      "text/plain": [
       "  emp_no dept_no  hire_date leaving_date                dept_name  location\n",
       "0  10001      D5 2006-06-26          NaT               Technology   Chicago\n",
       "1  10002      D6 2005-11-21          NaT                    Sales   Chicago\n",
       "2  10003      D4 2006-08-28          NaT                Marketing  New York\n",
       "3  10004      D4 2006-12-01          NaT                Marketing  New York\n",
       "4  10005      D3 2009-09-12          NaT  Supply Chain Operations   Chicago"
      ]
     },
     "execution_count": 21,
     "metadata": {},
     "output_type": "execute_result"
    }
   ],
   "source": [
    "emp_dept.head()"
   ]
  },
  {
   "cell_type": "code",
   "execution_count": null,
   "id": "303407ee",
   "metadata": {},
   "outputs": [],
   "source": []
  },
  {
   "cell_type": "code",
   "execution_count": null,
   "id": "8d3211be",
   "metadata": {},
   "outputs": [],
   "source": []
  },
  {
   "cell_type": "markdown",
   "id": "7a05b996",
   "metadata": {},
   "source": [
    "## Perform a left join on the newly created \"emp_dept\" DataFrame and the \"sal\" DataFrame. \n",
    "## Assign this resulting DataFrame to the variable \"emp_dept_sal\"\n",
    "\n",
    "• You will need to think about how to join the two tables. Note the emp_dept_key on the sal DataFrame is in the format 'emp_id-dept_id'"
   ]
  },
  {
   "cell_type": "code",
   "execution_count": 22,
   "id": "486e1a14",
   "metadata": {},
   "outputs": [
    {
     "data": {
      "text/html": [
       "<div>\n",
       "<style scoped>\n",
       "    .dataframe tbody tr th:only-of-type {\n",
       "        vertical-align: middle;\n",
       "    }\n",
       "\n",
       "    .dataframe tbody tr th {\n",
       "        vertical-align: top;\n",
       "    }\n",
       "\n",
       "    .dataframe thead th {\n",
       "        text-align: right;\n",
       "    }\n",
       "</style>\n",
       "<table border=\"1\" class=\"dataframe\">\n",
       "  <thead>\n",
       "    <tr style=\"text-align: right;\">\n",
       "      <th></th>\n",
       "      <th>emp_dept_key</th>\n",
       "      <th>salary</th>\n",
       "    </tr>\n",
       "  </thead>\n",
       "  <tbody>\n",
       "    <tr>\n",
       "      <th>0</th>\n",
       "      <td>10001-D5</td>\n",
       "      <td>30546</td>\n",
       "    </tr>\n",
       "    <tr>\n",
       "      <th>1</th>\n",
       "      <td>10002-D6</td>\n",
       "      <td>36536</td>\n",
       "    </tr>\n",
       "    <tr>\n",
       "      <th>2</th>\n",
       "      <td>10003-D4</td>\n",
       "      <td>38323</td>\n",
       "    </tr>\n",
       "    <tr>\n",
       "      <th>3</th>\n",
       "      <td>10004-D4</td>\n",
       "      <td>31851</td>\n",
       "    </tr>\n",
       "    <tr>\n",
       "      <th>4</th>\n",
       "      <td>10005-D3</td>\n",
       "      <td>53435</td>\n",
       "    </tr>\n",
       "  </tbody>\n",
       "</table>\n",
       "</div>"
      ],
      "text/plain": [
       "  emp_dept_key  salary\n",
       "0     10001-D5   30546\n",
       "1     10002-D6   36536\n",
       "2     10003-D4   38323\n",
       "3     10004-D4   31851\n",
       "4     10005-D3   53435"
      ]
     },
     "execution_count": 22,
     "metadata": {},
     "output_type": "execute_result"
    }
   ],
   "source": [
    "# The first 5 characters make up the emp_no the last two are the dept_no\n",
    "sal.head()"
   ]
  },
  {
   "cell_type": "code",
   "execution_count": 23,
   "id": "bf14bfb5",
   "metadata": {},
   "outputs": [],
   "source": [
    "# We can use lambda and apply to slice the emp_dept_key column values\n",
    "sal['emp_no']=sal['emp_dept_key'].apply(lambda x :x[:5])"
   ]
  },
  {
   "cell_type": "code",
   "execution_count": 24,
   "id": "a0768959",
   "metadata": {},
   "outputs": [],
   "source": [
    "# A more robust situation would be to use the find method to locate the index number of the '-' seperator\n",
    "# sal['emp_no']=sal['emp_dept_key'].apply(lambda x :x[:x.find('-')])"
   ]
  },
  {
   "cell_type": "code",
   "execution_count": 25,
   "id": "3f44ccd5",
   "metadata": {},
   "outputs": [],
   "source": [
    "emp_dept_sal = pd.merge(left=emp_dept,right=sal,left_on='emp_no', right_on = 'emp_no', how='left')"
   ]
  },
  {
   "cell_type": "code",
   "execution_count": 26,
   "id": "de8df83f",
   "metadata": {},
   "outputs": [
    {
     "data": {
      "text/html": [
       "<div>\n",
       "<style scoped>\n",
       "    .dataframe tbody tr th:only-of-type {\n",
       "        vertical-align: middle;\n",
       "    }\n",
       "\n",
       "    .dataframe tbody tr th {\n",
       "        vertical-align: top;\n",
       "    }\n",
       "\n",
       "    .dataframe thead th {\n",
       "        text-align: right;\n",
       "    }\n",
       "</style>\n",
       "<table border=\"1\" class=\"dataframe\">\n",
       "  <thead>\n",
       "    <tr style=\"text-align: right;\">\n",
       "      <th></th>\n",
       "      <th>emp_no</th>\n",
       "      <th>dept_no</th>\n",
       "      <th>hire_date</th>\n",
       "      <th>leaving_date</th>\n",
       "      <th>dept_name</th>\n",
       "      <th>location</th>\n",
       "      <th>emp_dept_key</th>\n",
       "      <th>salary</th>\n",
       "    </tr>\n",
       "  </thead>\n",
       "  <tbody>\n",
       "    <tr>\n",
       "      <th>0</th>\n",
       "      <td>10001</td>\n",
       "      <td>D5</td>\n",
       "      <td>2006-06-26</td>\n",
       "      <td>NaT</td>\n",
       "      <td>Technology</td>\n",
       "      <td>Chicago</td>\n",
       "      <td>10001-D5</td>\n",
       "      <td>30546</td>\n",
       "    </tr>\n",
       "    <tr>\n",
       "      <th>1</th>\n",
       "      <td>10002</td>\n",
       "      <td>D6</td>\n",
       "      <td>2005-11-21</td>\n",
       "      <td>NaT</td>\n",
       "      <td>Sales</td>\n",
       "      <td>Chicago</td>\n",
       "      <td>10002-D6</td>\n",
       "      <td>36536</td>\n",
       "    </tr>\n",
       "    <tr>\n",
       "      <th>2</th>\n",
       "      <td>10003</td>\n",
       "      <td>D4</td>\n",
       "      <td>2006-08-28</td>\n",
       "      <td>NaT</td>\n",
       "      <td>Marketing</td>\n",
       "      <td>New York</td>\n",
       "      <td>10003-D4</td>\n",
       "      <td>38323</td>\n",
       "    </tr>\n",
       "    <tr>\n",
       "      <th>3</th>\n",
       "      <td>10004</td>\n",
       "      <td>D4</td>\n",
       "      <td>2006-12-01</td>\n",
       "      <td>NaT</td>\n",
       "      <td>Marketing</td>\n",
       "      <td>New York</td>\n",
       "      <td>10004-D4</td>\n",
       "      <td>31851</td>\n",
       "    </tr>\n",
       "    <tr>\n",
       "      <th>4</th>\n",
       "      <td>10005</td>\n",
       "      <td>D3</td>\n",
       "      <td>2009-09-12</td>\n",
       "      <td>NaT</td>\n",
       "      <td>Supply Chain Operations</td>\n",
       "      <td>Chicago</td>\n",
       "      <td>10005-D3</td>\n",
       "      <td>53435</td>\n",
       "    </tr>\n",
       "  </tbody>\n",
       "</table>\n",
       "</div>"
      ],
      "text/plain": [
       "  emp_no dept_no  hire_date leaving_date                dept_name  location  \\\n",
       "0  10001      D5 2006-06-26          NaT               Technology   Chicago   \n",
       "1  10002      D6 2005-11-21          NaT                    Sales   Chicago   \n",
       "2  10003      D4 2006-08-28          NaT                Marketing  New York   \n",
       "3  10004      D4 2006-12-01          NaT                Marketing  New York   \n",
       "4  10005      D3 2009-09-12          NaT  Supply Chain Operations   Chicago   \n",
       "\n",
       "  emp_dept_key  salary  \n",
       "0     10001-D5   30546  \n",
       "1     10002-D6   36536  \n",
       "2     10003-D4   38323  \n",
       "3     10004-D4   31851  \n",
       "4     10005-D3   53435  "
      ]
     },
     "execution_count": 26,
     "metadata": {},
     "output_type": "execute_result"
    }
   ],
   "source": [
    "emp_dept_sal.head()"
   ]
  },
  {
   "cell_type": "code",
   "execution_count": null,
   "id": "0f50b1b1",
   "metadata": {},
   "outputs": [],
   "source": []
  },
  {
   "cell_type": "code",
   "execution_count": null,
   "id": "4c72421f",
   "metadata": {},
   "outputs": [],
   "source": []
  },
  {
   "cell_type": "markdown",
   "id": "9b12e62d",
   "metadata": {},
   "source": [
    "## Drop the column \"emp_dept_key\""
   ]
  },
  {
   "cell_type": "code",
   "execution_count": 27,
   "id": "e9c8f0a6",
   "metadata": {},
   "outputs": [],
   "source": [
    "emp_dept_sal.drop(columns='emp_dept_key', inplace=True)"
   ]
  },
  {
   "cell_type": "code",
   "execution_count": 28,
   "id": "79d0c787",
   "metadata": {},
   "outputs": [
    {
     "data": {
      "text/html": [
       "<div>\n",
       "<style scoped>\n",
       "    .dataframe tbody tr th:only-of-type {\n",
       "        vertical-align: middle;\n",
       "    }\n",
       "\n",
       "    .dataframe tbody tr th {\n",
       "        vertical-align: top;\n",
       "    }\n",
       "\n",
       "    .dataframe thead th {\n",
       "        text-align: right;\n",
       "    }\n",
       "</style>\n",
       "<table border=\"1\" class=\"dataframe\">\n",
       "  <thead>\n",
       "    <tr style=\"text-align: right;\">\n",
       "      <th></th>\n",
       "      <th>emp_no</th>\n",
       "      <th>dept_no</th>\n",
       "      <th>hire_date</th>\n",
       "      <th>leaving_date</th>\n",
       "      <th>dept_name</th>\n",
       "      <th>location</th>\n",
       "      <th>salary</th>\n",
       "    </tr>\n",
       "  </thead>\n",
       "  <tbody>\n",
       "    <tr>\n",
       "      <th>0</th>\n",
       "      <td>10001</td>\n",
       "      <td>D5</td>\n",
       "      <td>2006-06-26</td>\n",
       "      <td>NaT</td>\n",
       "      <td>Technology</td>\n",
       "      <td>Chicago</td>\n",
       "      <td>30546</td>\n",
       "    </tr>\n",
       "    <tr>\n",
       "      <th>1</th>\n",
       "      <td>10002</td>\n",
       "      <td>D6</td>\n",
       "      <td>2005-11-21</td>\n",
       "      <td>NaT</td>\n",
       "      <td>Sales</td>\n",
       "      <td>Chicago</td>\n",
       "      <td>36536</td>\n",
       "    </tr>\n",
       "    <tr>\n",
       "      <th>2</th>\n",
       "      <td>10003</td>\n",
       "      <td>D4</td>\n",
       "      <td>2006-08-28</td>\n",
       "      <td>NaT</td>\n",
       "      <td>Marketing</td>\n",
       "      <td>New York</td>\n",
       "      <td>38323</td>\n",
       "    </tr>\n",
       "    <tr>\n",
       "      <th>3</th>\n",
       "      <td>10004</td>\n",
       "      <td>D4</td>\n",
       "      <td>2006-12-01</td>\n",
       "      <td>NaT</td>\n",
       "      <td>Marketing</td>\n",
       "      <td>New York</td>\n",
       "      <td>31851</td>\n",
       "    </tr>\n",
       "    <tr>\n",
       "      <th>4</th>\n",
       "      <td>10005</td>\n",
       "      <td>D3</td>\n",
       "      <td>2009-09-12</td>\n",
       "      <td>NaT</td>\n",
       "      <td>Supply Chain Operations</td>\n",
       "      <td>Chicago</td>\n",
       "      <td>53435</td>\n",
       "    </tr>\n",
       "  </tbody>\n",
       "</table>\n",
       "</div>"
      ],
      "text/plain": [
       "  emp_no dept_no  hire_date leaving_date                dept_name  location  \\\n",
       "0  10001      D5 2006-06-26          NaT               Technology   Chicago   \n",
       "1  10002      D6 2005-11-21          NaT                    Sales   Chicago   \n",
       "2  10003      D4 2006-08-28          NaT                Marketing  New York   \n",
       "3  10004      D4 2006-12-01          NaT                Marketing  New York   \n",
       "4  10005      D3 2009-09-12          NaT  Supply Chain Operations   Chicago   \n",
       "\n",
       "   salary  \n",
       "0   30546  \n",
       "1   36536  \n",
       "2   38323  \n",
       "3   31851  \n",
       "4   53435  "
      ]
     },
     "execution_count": 28,
     "metadata": {},
     "output_type": "execute_result"
    }
   ],
   "source": [
    "emp_dept_sal.head()"
   ]
  },
  {
   "cell_type": "code",
   "execution_count": null,
   "id": "52f59025",
   "metadata": {},
   "outputs": [],
   "source": []
  },
  {
   "cell_type": "code",
   "execution_count": null,
   "id": "a3c7cf1f",
   "metadata": {},
   "outputs": [],
   "source": []
  },
  {
   "cell_type": "markdown",
   "id": "2508f97b",
   "metadata": {},
   "source": [
    "## What is the average salary per department?"
   ]
  },
  {
   "cell_type": "code",
   "execution_count": 29,
   "id": "20e27abe",
   "metadata": {},
   "outputs": [
    {
     "data": {
      "text/html": [
       "<div>\n",
       "<style scoped>\n",
       "    .dataframe tbody tr th:only-of-type {\n",
       "        vertical-align: middle;\n",
       "    }\n",
       "\n",
       "    .dataframe tbody tr th {\n",
       "        vertical-align: top;\n",
       "    }\n",
       "\n",
       "    .dataframe thead th {\n",
       "        text-align: right;\n",
       "    }\n",
       "</style>\n",
       "<table border=\"1\" class=\"dataframe\">\n",
       "  <thead>\n",
       "    <tr style=\"text-align: right;\">\n",
       "      <th></th>\n",
       "      <th>salary</th>\n",
       "    </tr>\n",
       "    <tr>\n",
       "      <th>dept_name</th>\n",
       "      <th></th>\n",
       "    </tr>\n",
       "  </thead>\n",
       "  <tbody>\n",
       "    <tr>\n",
       "      <th>Accounting and Finance</th>\n",
       "      <td>52148.887324</td>\n",
       "    </tr>\n",
       "    <tr>\n",
       "      <th>Human Resources</th>\n",
       "      <td>44849.602740</td>\n",
       "    </tr>\n",
       "    <tr>\n",
       "      <th>Marketing</th>\n",
       "      <td>41540.041985</td>\n",
       "    </tr>\n",
       "    <tr>\n",
       "      <th>Sales</th>\n",
       "      <td>59192.053640</td>\n",
       "    </tr>\n",
       "    <tr>\n",
       "      <th>Supply Chain Operations</th>\n",
       "      <td>45183.788462</td>\n",
       "    </tr>\n",
       "    <tr>\n",
       "      <th>Technology</th>\n",
       "      <td>58975.979592</td>\n",
       "    </tr>\n",
       "  </tbody>\n",
       "</table>\n",
       "</div>"
      ],
      "text/plain": [
       "                               salary\n",
       "dept_name                            \n",
       "Accounting and Finance   52148.887324\n",
       "Human Resources          44849.602740\n",
       "Marketing                41540.041985\n",
       "Sales                    59192.053640\n",
       "Supply Chain Operations  45183.788462\n",
       "Technology               58975.979592"
      ]
     },
     "execution_count": 29,
     "metadata": {},
     "output_type": "execute_result"
    }
   ],
   "source": [
    "# via groupby\n",
    "emp_dept_sal[['dept_name','salary']].groupby(by='dept_name').mean()"
   ]
  },
  {
   "cell_type": "code",
   "execution_count": 30,
   "id": "3dee767c",
   "metadata": {},
   "outputs": [
    {
     "data": {
      "text/html": [
       "<div>\n",
       "<style scoped>\n",
       "    .dataframe tbody tr th:only-of-type {\n",
       "        vertical-align: middle;\n",
       "    }\n",
       "\n",
       "    .dataframe tbody tr th {\n",
       "        vertical-align: top;\n",
       "    }\n",
       "\n",
       "    .dataframe thead th {\n",
       "        text-align: right;\n",
       "    }\n",
       "</style>\n",
       "<table border=\"1\" class=\"dataframe\">\n",
       "  <thead>\n",
       "    <tr style=\"text-align: right;\">\n",
       "      <th></th>\n",
       "      <th>salary</th>\n",
       "    </tr>\n",
       "    <tr>\n",
       "      <th>dept_name</th>\n",
       "      <th></th>\n",
       "    </tr>\n",
       "  </thead>\n",
       "  <tbody>\n",
       "    <tr>\n",
       "      <th>Accounting and Finance</th>\n",
       "      <td>52148.887324</td>\n",
       "    </tr>\n",
       "    <tr>\n",
       "      <th>Human Resources</th>\n",
       "      <td>44849.602740</td>\n",
       "    </tr>\n",
       "    <tr>\n",
       "      <th>Marketing</th>\n",
       "      <td>41540.041985</td>\n",
       "    </tr>\n",
       "    <tr>\n",
       "      <th>Sales</th>\n",
       "      <td>59192.053640</td>\n",
       "    </tr>\n",
       "    <tr>\n",
       "      <th>Supply Chain Operations</th>\n",
       "      <td>45183.788462</td>\n",
       "    </tr>\n",
       "    <tr>\n",
       "      <th>Technology</th>\n",
       "      <td>58975.979592</td>\n",
       "    </tr>\n",
       "  </tbody>\n",
       "</table>\n",
       "</div>"
      ],
      "text/plain": [
       "                               salary\n",
       "dept_name                            \n",
       "Accounting and Finance   52148.887324\n",
       "Human Resources          44849.602740\n",
       "Marketing                41540.041985\n",
       "Sales                    59192.053640\n",
       "Supply Chain Operations  45183.788462\n",
       "Technology               58975.979592"
      ]
     },
     "execution_count": 30,
     "metadata": {},
     "output_type": "execute_result"
    }
   ],
   "source": [
    "# via pivot_table\n",
    "emp_dept_sal.pivot_table(index='dept_name', values = 'salary', aggfunc='mean')"
   ]
  },
  {
   "cell_type": "code",
   "execution_count": null,
   "id": "081517c0",
   "metadata": {},
   "outputs": [],
   "source": []
  },
  {
   "cell_type": "code",
   "execution_count": null,
   "id": "67db2738",
   "metadata": {},
   "outputs": [],
   "source": []
  },
  {
   "cell_type": "markdown",
   "id": "41a888e9",
   "metadata": {},
   "source": [
    "## What is the average salary by location?"
   ]
  },
  {
   "cell_type": "code",
   "execution_count": 31,
   "id": "e2325969",
   "metadata": {},
   "outputs": [
    {
     "data": {
      "text/html": [
       "<div>\n",
       "<style scoped>\n",
       "    .dataframe tbody tr th:only-of-type {\n",
       "        vertical-align: middle;\n",
       "    }\n",
       "\n",
       "    .dataframe tbody tr th {\n",
       "        vertical-align: top;\n",
       "    }\n",
       "\n",
       "    .dataframe thead th {\n",
       "        text-align: right;\n",
       "    }\n",
       "</style>\n",
       "<table border=\"1\" class=\"dataframe\">\n",
       "  <thead>\n",
       "    <tr style=\"text-align: right;\">\n",
       "      <th></th>\n",
       "      <th>salary</th>\n",
       "    </tr>\n",
       "    <tr>\n",
       "      <th>location</th>\n",
       "      <th></th>\n",
       "    </tr>\n",
       "  </thead>\n",
       "  <tbody>\n",
       "    <tr>\n",
       "      <th>Chicago</th>\n",
       "      <td>55383.208675</td>\n",
       "    </tr>\n",
       "    <tr>\n",
       "      <th>New York</th>\n",
       "      <td>42261.229851</td>\n",
       "    </tr>\n",
       "  </tbody>\n",
       "</table>\n",
       "</div>"
      ],
      "text/plain": [
       "                salary\n",
       "location              \n",
       "Chicago   55383.208675\n",
       "New York  42261.229851"
      ]
     },
     "execution_count": 31,
     "metadata": {},
     "output_type": "execute_result"
    }
   ],
   "source": [
    "# via groupby\n",
    "emp_dept_sal[['location','salary']].groupby(by='location').mean()"
   ]
  },
  {
   "cell_type": "code",
   "execution_count": 32,
   "id": "79565a56",
   "metadata": {},
   "outputs": [
    {
     "data": {
      "text/html": [
       "<div>\n",
       "<style scoped>\n",
       "    .dataframe tbody tr th:only-of-type {\n",
       "        vertical-align: middle;\n",
       "    }\n",
       "\n",
       "    .dataframe tbody tr th {\n",
       "        vertical-align: top;\n",
       "    }\n",
       "\n",
       "    .dataframe thead th {\n",
       "        text-align: right;\n",
       "    }\n",
       "</style>\n",
       "<table border=\"1\" class=\"dataframe\">\n",
       "  <thead>\n",
       "    <tr style=\"text-align: right;\">\n",
       "      <th></th>\n",
       "      <th>salary</th>\n",
       "    </tr>\n",
       "    <tr>\n",
       "      <th>location</th>\n",
       "      <th></th>\n",
       "    </tr>\n",
       "  </thead>\n",
       "  <tbody>\n",
       "    <tr>\n",
       "      <th>Chicago</th>\n",
       "      <td>55383.208675</td>\n",
       "    </tr>\n",
       "    <tr>\n",
       "      <th>New York</th>\n",
       "      <td>42261.229851</td>\n",
       "    </tr>\n",
       "  </tbody>\n",
       "</table>\n",
       "</div>"
      ],
      "text/plain": [
       "                salary\n",
       "location              \n",
       "Chicago   55383.208675\n",
       "New York  42261.229851"
      ]
     },
     "execution_count": 32,
     "metadata": {},
     "output_type": "execute_result"
    }
   ],
   "source": [
    "# via pivot_table\n",
    "emp_dept_sal.pivot_table(index='location', values = 'salary', aggfunc='mean')"
   ]
  },
  {
   "cell_type": "code",
   "execution_count": null,
   "id": "77f7e365",
   "metadata": {},
   "outputs": [],
   "source": []
  },
  {
   "cell_type": "code",
   "execution_count": null,
   "id": "f15d65b3",
   "metadata": {},
   "outputs": [],
   "source": []
  },
  {
   "cell_type": "markdown",
   "id": "a353f8f3",
   "metadata": {},
   "source": [
    "## How many people were hired each year in each of the last 10 years?"
   ]
  },
  {
   "cell_type": "code",
   "execution_count": 33,
   "id": "0616ddb5",
   "metadata": {},
   "outputs": [],
   "source": [
    "emp_dept_sal['hire_year'] = emp_dept_sal['hire_date'].dt.strftime('%Y')"
   ]
  },
  {
   "cell_type": "code",
   "execution_count": 34,
   "id": "16c06b05",
   "metadata": {},
   "outputs": [
    {
     "data": {
      "text/html": [
       "<div>\n",
       "<style scoped>\n",
       "    .dataframe tbody tr th:only-of-type {\n",
       "        vertical-align: middle;\n",
       "    }\n",
       "\n",
       "    .dataframe tbody tr th {\n",
       "        vertical-align: top;\n",
       "    }\n",
       "\n",
       "    .dataframe thead th {\n",
       "        text-align: right;\n",
       "    }\n",
       "</style>\n",
       "<table border=\"1\" class=\"dataframe\">\n",
       "  <thead>\n",
       "    <tr style=\"text-align: right;\">\n",
       "      <th></th>\n",
       "      <th>emp_no</th>\n",
       "      <th>dept_no</th>\n",
       "      <th>hire_date</th>\n",
       "      <th>leaving_date</th>\n",
       "      <th>dept_name</th>\n",
       "      <th>location</th>\n",
       "      <th>salary</th>\n",
       "      <th>hire_year</th>\n",
       "    </tr>\n",
       "  </thead>\n",
       "  <tbody>\n",
       "    <tr>\n",
       "      <th>0</th>\n",
       "      <td>10001</td>\n",
       "      <td>D5</td>\n",
       "      <td>2006-06-26</td>\n",
       "      <td>NaT</td>\n",
       "      <td>Technology</td>\n",
       "      <td>Chicago</td>\n",
       "      <td>30546</td>\n",
       "      <td>2006</td>\n",
       "    </tr>\n",
       "    <tr>\n",
       "      <th>1</th>\n",
       "      <td>10002</td>\n",
       "      <td>D6</td>\n",
       "      <td>2005-11-21</td>\n",
       "      <td>NaT</td>\n",
       "      <td>Sales</td>\n",
       "      <td>Chicago</td>\n",
       "      <td>36536</td>\n",
       "      <td>2005</td>\n",
       "    </tr>\n",
       "    <tr>\n",
       "      <th>2</th>\n",
       "      <td>10003</td>\n",
       "      <td>D4</td>\n",
       "      <td>2006-08-28</td>\n",
       "      <td>NaT</td>\n",
       "      <td>Marketing</td>\n",
       "      <td>New York</td>\n",
       "      <td>38323</td>\n",
       "      <td>2006</td>\n",
       "    </tr>\n",
       "    <tr>\n",
       "      <th>3</th>\n",
       "      <td>10004</td>\n",
       "      <td>D4</td>\n",
       "      <td>2006-12-01</td>\n",
       "      <td>NaT</td>\n",
       "      <td>Marketing</td>\n",
       "      <td>New York</td>\n",
       "      <td>31851</td>\n",
       "      <td>2006</td>\n",
       "    </tr>\n",
       "    <tr>\n",
       "      <th>4</th>\n",
       "      <td>10005</td>\n",
       "      <td>D3</td>\n",
       "      <td>2009-09-12</td>\n",
       "      <td>NaT</td>\n",
       "      <td>Supply Chain Operations</td>\n",
       "      <td>Chicago</td>\n",
       "      <td>53435</td>\n",
       "      <td>2009</td>\n",
       "    </tr>\n",
       "    <tr>\n",
       "      <th>...</th>\n",
       "      <td>...</td>\n",
       "      <td>...</td>\n",
       "      <td>...</td>\n",
       "      <td>...</td>\n",
       "      <td>...</td>\n",
       "      <td>...</td>\n",
       "      <td>...</td>\n",
       "      <td>...</td>\n",
       "    </tr>\n",
       "    <tr>\n",
       "      <th>1183</th>\n",
       "      <td>10905</td>\n",
       "      <td>D4</td>\n",
       "      <td>2005-02-28</td>\n",
       "      <td>2006-03-07</td>\n",
       "      <td>Marketing</td>\n",
       "      <td>New York</td>\n",
       "      <td>32735</td>\n",
       "      <td>2005</td>\n",
       "    </tr>\n",
       "    <tr>\n",
       "      <th>1184</th>\n",
       "      <td>10906</td>\n",
       "      <td>D2</td>\n",
       "      <td>2014-01-20</td>\n",
       "      <td>2021-04-25</td>\n",
       "      <td>Human Resources</td>\n",
       "      <td>New York</td>\n",
       "      <td>29095</td>\n",
       "      <td>2014</td>\n",
       "    </tr>\n",
       "    <tr>\n",
       "      <th>1185</th>\n",
       "      <td>10906</td>\n",
       "      <td>D2</td>\n",
       "      <td>2014-01-20</td>\n",
       "      <td>2021-04-25</td>\n",
       "      <td>Human Resources</td>\n",
       "      <td>New York</td>\n",
       "      <td>97330</td>\n",
       "      <td>2014</td>\n",
       "    </tr>\n",
       "    <tr>\n",
       "      <th>1186</th>\n",
       "      <td>10906</td>\n",
       "      <td>D6</td>\n",
       "      <td>2014-01-20</td>\n",
       "      <td>NaT</td>\n",
       "      <td>Sales</td>\n",
       "      <td>Chicago</td>\n",
       "      <td>29095</td>\n",
       "      <td>2014</td>\n",
       "    </tr>\n",
       "    <tr>\n",
       "      <th>1187</th>\n",
       "      <td>10906</td>\n",
       "      <td>D6</td>\n",
       "      <td>2014-01-20</td>\n",
       "      <td>NaT</td>\n",
       "      <td>Sales</td>\n",
       "      <td>Chicago</td>\n",
       "      <td>97330</td>\n",
       "      <td>2014</td>\n",
       "    </tr>\n",
       "  </tbody>\n",
       "</table>\n",
       "<p>1188 rows × 8 columns</p>\n",
       "</div>"
      ],
      "text/plain": [
       "     emp_no dept_no  hire_date leaving_date                dept_name  \\\n",
       "0     10001      D5 2006-06-26          NaT               Technology   \n",
       "1     10002      D6 2005-11-21          NaT                    Sales   \n",
       "2     10003      D4 2006-08-28          NaT                Marketing   \n",
       "3     10004      D4 2006-12-01          NaT                Marketing   \n",
       "4     10005      D3 2009-09-12          NaT  Supply Chain Operations   \n",
       "...     ...     ...        ...          ...                      ...   \n",
       "1183  10905      D4 2005-02-28   2006-03-07                Marketing   \n",
       "1184  10906      D2 2014-01-20   2021-04-25          Human Resources   \n",
       "1185  10906      D2 2014-01-20   2021-04-25          Human Resources   \n",
       "1186  10906      D6 2014-01-20          NaT                    Sales   \n",
       "1187  10906      D6 2014-01-20          NaT                    Sales   \n",
       "\n",
       "      location  salary hire_year  \n",
       "0      Chicago   30546      2006  \n",
       "1      Chicago   36536      2005  \n",
       "2     New York   38323      2006  \n",
       "3     New York   31851      2006  \n",
       "4      Chicago   53435      2009  \n",
       "...        ...     ...       ...  \n",
       "1183  New York   32735      2005  \n",
       "1184  New York   29095      2014  \n",
       "1185  New York   97330      2014  \n",
       "1186   Chicago   29095      2014  \n",
       "1187   Chicago   97330      2014  \n",
       "\n",
       "[1188 rows x 8 columns]"
      ]
     },
     "execution_count": 34,
     "metadata": {},
     "output_type": "execute_result"
    }
   ],
   "source": [
    "emp_dept_sal"
   ]
  },
  {
   "cell_type": "code",
   "execution_count": 40,
   "id": "305190e5",
   "metadata": {},
   "outputs": [
    {
     "data": {
      "text/plain": [
       "hire_year\n",
       "2010    146\n",
       "2011     99\n",
       "2012     81\n",
       "2013     61\n",
       "2014     69\n",
       "2015     39\n",
       "2016     40\n",
       "2017     14\n",
       "2018      8\n",
       "2019      7\n",
       "Name: emp_no, dtype: int64"
      ]
     },
     "execution_count": 40,
     "metadata": {},
     "output_type": "execute_result"
    }
   ],
   "source": [
    "# via groupby\n",
    "# I'm filtering the DF to include only one numerical field, \n",
    "# ... this avoids duplication\n",
    "emp_dept_sal.groupby(by='hire_year').count().tail(10)['emp_no']"
   ]
  },
  {
   "cell_type": "code",
   "execution_count": 36,
   "id": "c1e45b6b",
   "metadata": {
    "scrolled": true
   },
   "outputs": [
    {
     "data": {
      "text/html": [
       "<div>\n",
       "<style scoped>\n",
       "    .dataframe tbody tr th:only-of-type {\n",
       "        vertical-align: middle;\n",
       "    }\n",
       "\n",
       "    .dataframe tbody tr th {\n",
       "        vertical-align: top;\n",
       "    }\n",
       "\n",
       "    .dataframe thead th {\n",
       "        text-align: right;\n",
       "    }\n",
       "</style>\n",
       "<table border=\"1\" class=\"dataframe\">\n",
       "  <thead>\n",
       "    <tr style=\"text-align: right;\">\n",
       "      <th></th>\n",
       "      <th>emp_no</th>\n",
       "    </tr>\n",
       "    <tr>\n",
       "      <th>hire_year</th>\n",
       "      <th></th>\n",
       "    </tr>\n",
       "  </thead>\n",
       "  <tbody>\n",
       "    <tr>\n",
       "      <th>2010</th>\n",
       "      <td>146</td>\n",
       "    </tr>\n",
       "    <tr>\n",
       "      <th>2011</th>\n",
       "      <td>99</td>\n",
       "    </tr>\n",
       "    <tr>\n",
       "      <th>2012</th>\n",
       "      <td>81</td>\n",
       "    </tr>\n",
       "    <tr>\n",
       "      <th>2013</th>\n",
       "      <td>61</td>\n",
       "    </tr>\n",
       "    <tr>\n",
       "      <th>2014</th>\n",
       "      <td>69</td>\n",
       "    </tr>\n",
       "    <tr>\n",
       "      <th>2015</th>\n",
       "      <td>39</td>\n",
       "    </tr>\n",
       "    <tr>\n",
       "      <th>2016</th>\n",
       "      <td>40</td>\n",
       "    </tr>\n",
       "    <tr>\n",
       "      <th>2017</th>\n",
       "      <td>14</td>\n",
       "    </tr>\n",
       "    <tr>\n",
       "      <th>2018</th>\n",
       "      <td>8</td>\n",
       "    </tr>\n",
       "    <tr>\n",
       "      <th>2019</th>\n",
       "      <td>7</td>\n",
       "    </tr>\n",
       "  </tbody>\n",
       "</table>\n",
       "</div>"
      ],
      "text/plain": [
       "           emp_no\n",
       "hire_year        \n",
       "2010          146\n",
       "2011           99\n",
       "2012           81\n",
       "2013           61\n",
       "2014           69\n",
       "2015           39\n",
       "2016           40\n",
       "2017           14\n",
       "2018            8\n",
       "2019            7"
      ]
     },
     "execution_count": 36,
     "metadata": {},
     "output_type": "execute_result"
    }
   ],
   "source": [
    "# via pivot_table\n",
    "# Since we're using count as the aggfunc it doesn't really matter which column we include in the value argument\n",
    "# ...as long as its not used as a column or index argument and it is a column that doesn't contain null values\n",
    "emp_dept_sal.pivot_table(index='hire_year', aggfunc='count', values='emp_no').tail(10)"
   ]
  },
  {
   "cell_type": "code",
   "execution_count": null,
   "id": "6d8eb679",
   "metadata": {},
   "outputs": [],
   "source": []
  },
  {
   "cell_type": "code",
   "execution_count": null,
   "id": "ea18f2ed",
   "metadata": {},
   "outputs": [],
   "source": []
  }
 ],
 "metadata": {
  "kernelspec": {
   "display_name": "Python 3 (ipykernel)",
   "language": "python",
   "name": "python3"
  },
  "language_info": {
   "codemirror_mode": {
    "name": "ipython",
    "version": 3
   },
   "file_extension": ".py",
   "mimetype": "text/x-python",
   "name": "python",
   "nbconvert_exporter": "python",
   "pygments_lexer": "ipython3",
   "version": "3.9.7"
  }
 },
 "nbformat": 4,
 "nbformat_minor": 5
}
