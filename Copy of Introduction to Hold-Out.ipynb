{
 "cells": [
  {
   "cell_type": "markdown",
   "metadata": {},
   "source": [
    "# Creating Hold-out enviornment for Model learning and testing\n",
    "\n",
    "In Hold-out method we randomly divide data set into two parts. Where the one part is used for learning the model and other for testing. In practice, we usually take 70-30 proportion of data set for training and testing respectively. Scikit learn provides inbuilt function that randomly divide data set into training and test data samples based on the split entered by the user. Each training and test set should include information on indicator and predictor variables. \n",
    "\n",
    "\n",
    "\n",
    "<img src = \"fig/holdout.png\">\n",
    "\n",
    "<img src = \"fig/dataset2.png\">"
   ]
  },
  {
   "cell_type": "markdown",
   "metadata": {},
   "source": [
    "# Loading train_test_split library from scikit learn for Hold-Out enviornment"
   ]
  },
  {
   "cell_type": "code",
   "execution_count": 1,
   "metadata": {},
   "outputs": [],
   "source": [
    "from sklearn.model_selection import train_test_split # using scikit learn for hold-out"
   ]
  },
  {
   "cell_type": "markdown",
   "metadata": {},
   "source": [
    "# Creating Hold-out enviornment for sample data set in scikit learn"
   ]
  },
  {
   "cell_type": "markdown",
   "metadata": {},
   "source": [
    "# 1. Loading data set"
   ]
  },
  {
   "cell_type": "code",
   "execution_count": 2,
   "metadata": {},
   "outputs": [],
   "source": [
    "# Loading library\n",
    "from sklearn import datasets\n",
    "dataset_wine = datasets.load_wine()"
   ]
  },
  {
   "cell_type": "markdown",
   "metadata": {},
   "source": [
    "# 2. Creating Hold-out enviornment for built in data set"
   ]
  },
  {
   "cell_type": "code",
   "execution_count": 3,
   "metadata": {},
   "outputs": [
    {
     "name": "stdout",
     "output_type": "stream",
     "text": [
      "[2 0 2 1 2 1 2 1 2 0 2 1 1 1 2 1 1 0 1 1 0 1 1 1 0 1 0 1 1 1 1 0 0 2 2 1 1\n",
      " 1 2 0 0 2 1 0 2 1 0 0 2 1 2 2 0 1]\n"
     ]
    }
   ],
   "source": [
    "winedata_train, winedata_test, winetarget_train, winetarget_test = train_test_split(dataset_wine.data, dataset_wine.target, test_size=0.3)\n",
    "\n",
    "#The pair of arrays winedata_train and  winetarget_train will be used for learning\n",
    "#the sueprvised model. \n",
    "#Whereas, winedata_test and  winetarget_test for model testing\n",
    "print(winetarget_test)"
   ]
  },
  {
   "cell_type": "markdown",
   "metadata": {},
   "source": [
    "# Creating Hold-out enviornment for user defined data set"
   ]
  },
  {
   "cell_type": "markdown",
   "metadata": {},
   "source": [
    "# 1. Import pandas"
   ]
  },
  {
   "cell_type": "code",
   "execution_count": 4,
   "metadata": {},
   "outputs": [],
   "source": [
    "import pandas as pd\n"
   ]
  },
  {
   "cell_type": "markdown",
   "metadata": {},
   "source": [
    "# 2. Load user specific data set"
   ]
  },
  {
   "cell_type": "code",
   "execution_count": 6,
   "metadata": {},
   "outputs": [],
   "source": [
    "# Loading data set from local machine. The data set on predicting liver disorder.\n",
    "My_dataset = pd.read_csv('liver_dataset.csv')"
   ]
  },
  {
   "cell_type": "markdown",
   "metadata": {},
   "source": [
    "# 3. Creating Hold-out enviornment for user specific data set"
   ]
  },
  {
   "cell_type": "code",
   "execution_count": 7,
   "metadata": {},
   "outputs": [
    {
     "name": "stdout",
     "output_type": "stream",
     "text": [
      "[[85. 92. 45. 27. 31.  0.]\n",
      " [85. 64. 59. 32. 23.  0.]\n",
      " [86. 54. 33. 16. 54.  0.]\n",
      " ...\n",
      " [98. 77. 55. 35. 89. 15.]\n",
      " [91. 68. 27. 26. 14. 16.]\n",
      " [98. 99. 57. 45. 65. 20.]]\n",
      "[1 2 2 2 2 2 1 1 1 1 1 1 1 1 1 1 1 1 1 1 1 1 1 1 1 1 1 1 1 1 1 1 1 1 1 2 2\n",
      " 2 2 2 2 2 2 2 2 2 2 2 2 2 2 2 2 2 2 2 2 2 2 2 2 2 2 2 1 1 2 2 2 2 1 1 1 1\n",
      " 1 1 2 2 2 2 2 2 2 2 2 2 2 2 1 1 1 1 1 1 1 1 2 2 2 2 2 2 1 1 1 1 1 1 1 2 2\n",
      " 2 2 2 2 2 2 2 2 2 2 2 2 2 2 2 2 2 2 2 1 1 2 2 2 2 2 2 2 2 1 1 1 1 1 1 1 1\n",
      " 1 1 2 2 2 2 2 2 2 2 2 2 2 2 2 2 2 2 1 1 2 1 1 1 1 1 1 1 2 2 2 2 2 1 1 2 2\n",
      " 2 2 2 1 1 1 1 2 1 1 1 1 1 1 1 1 1 1 1 1 1 1 1 1 1 1 1 1 1 1 1 1 2 2 2 2 2\n",
      " 2 2 2 2 2 2 2 2 2 2 2 2 2 2 2 2 2 2 2 2 2 1 1 1 1 1 1 2 2 2 2 2 1 1 1 1 1\n",
      " 1 1 1 1 2 2 2 2 2 2 2 2 1 1 1 2 2 2 2 1 2 2 2 2 2 2 2 2 2 2 2 2 2 2 2 2 2\n",
      " 2 2 2 2 2 2 2 2 2 2 2 1 1 1 1 1 1 1 1 1 1 1 2 2 2 2 2 2 1 1 1 1 1 2 2 2 2\n",
      " 2 1 1 2 2 2 2 1 2 1 1 1]\n"
     ]
    }
   ],
   "source": [
    "# My_data contains all data points from My_data set from from first feature to  6th feature(indicator features)\n",
    "My_data = My_dataset.iloc[:,0:6].values\n",
    "print(My_data)\n",
    "\n",
    "# My_target contains class information which is 7th feature in the data set of all the data points in My_dataset\n",
    "\n",
    "My_target=My_dataset.iloc[:,6].values \n",
    "print(My_target)"
   ]
  },
  {
   "cell_type": "code",
   "execution_count": 8,
   "metadata": {},
   "outputs": [],
   "source": [
    "liverdata_train, liverdata_test, livertarget_train, livertarget_test = train_test_split(My_data, My_target, test_size=0.3)"
   ]
  },
  {
   "cell_type": "code",
   "execution_count": 9,
   "metadata": {},
   "outputs": [
    {
     "name": "stdout",
     "output_type": "stream",
     "text": [
      "[1 2 2 2 1 1 2 1 1 1 2 2 1 1 2 1 1 1 1 1 2 2 2 1 1 2 2 2 1 1 2 2 2 1 2 2 2\n",
      " 1 2 2 1 2 2 2 1 2 2 1 2 1 1 1 2 2 2 2 2 2 1 2 1 1 1 1 1 1 2 1 1 2 2 1 2 2\n",
      " 2 1 1 2 2 2 1 2 1 2 2 2 2 1 1 2 2 2 2 2 1 1 1 2 1 2 2 1 1 2]\n"
     ]
    }
   ],
   "source": [
    "print(livertarget_test)"
   ]
  },
  {
   "cell_type": "code",
   "execution_count": null,
   "metadata": {},
   "outputs": [],
   "source": []
  }
 ],
 "metadata": {
  "kernelspec": {
   "display_name": "Python 3.9.10 64-bit",
   "language": "python",
   "name": "python3"
  },
  "language_info": {
   "codemirror_mode": {
    "name": "ipython",
    "version": 3
   },
   "file_extension": ".py",
   "mimetype": "text/x-python",
   "name": "python",
   "nbconvert_exporter": "python",
   "pygments_lexer": "ipython3",
   "version": "3.9.10"
  },
  "vscode": {
   "interpreter": {
    "hash": "25034407fed5d681614dac11a1c0537e8cb49e3a8883c071303eea01322943d9"
   }
  }
 },
 "nbformat": 4,
 "nbformat_minor": 2
}
