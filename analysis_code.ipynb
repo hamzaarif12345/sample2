{
 "cells": [
  {
   "cell_type": "code",
   "execution_count": 18,
   "metadata": {},
   "outputs": [],
   "source": [
    "# conda install scikit-learn"
   ]
  },
  {
   "cell_type": "code",
   "execution_count": 19,
   "metadata": {},
   "outputs": [
    {
     "data": {
      "text/plain": [
       "'1.0.2'"
      ]
     },
     "execution_count": 19,
     "metadata": {},
     "output_type": "execute_result"
    }
   ],
   "source": [
    "import sklearn\n",
    "sklearn.__version__"
   ]
  },
  {
   "cell_type": "code",
   "execution_count": 20,
   "metadata": {},
   "outputs": [],
   "source": [
    "import numpy as np\n",
    "import pandas as pd\n",
    "import matplotlib.pyplot as plt"
   ]
  },
  {
   "cell_type": "code",
   "execution_count": 21,
   "metadata": {},
   "outputs": [],
   "source": [
    "from sklearn.linear_model import LinearRegression\n",
    "from sklearn.metrics import mean_squared_error"
   ]
  },
  {
   "cell_type": "markdown",
   "metadata": {},
   "source": [
    "### Reading the Data"
   ]
  },
  {
   "cell_type": "code",
   "execution_count": 22,
   "metadata": {},
   "outputs": [],
   "source": [
    "input_data = pd.read_excel(\"market.xlsx\")"
   ]
  },
  {
   "cell_type": "code",
   "execution_count": 23,
   "metadata": {},
   "outputs": [
    {
     "data": {
      "text/plain": [
       "0     14885\n",
       "1     22769\n",
       "2     27442\n",
       "3     27781\n",
       "4     34231\n",
       "5     38802\n",
       "6     44773\n",
       "7     48507\n",
       "8     51504\n",
       "9     53693\n",
       "10    61519\n",
       "11    62676\n",
       "12    72730\n",
       "13    72899\n",
       "14    75894\n",
       "15    76598\n",
       "16    78396\n",
       "17    80605\n",
       "18    84421\n",
       "19    91915\n",
       "20    27750\n",
       "21    34200\n",
       "22    78000\n",
       "23    80600\n",
       "24    84400\n",
       "Name: Marketing Spend, dtype: int64"
      ]
     },
     "execution_count": 23,
     "metadata": {},
     "output_type": "execute_result"
    }
   ],
   "source": [
    "# Independent Variable\n",
    "indep = input_data[\"Marketing Spend\"]\n",
    "indep"
   ]
  },
  {
   "cell_type": "code",
   "execution_count": 29,
   "metadata": {},
   "outputs": [
    {
     "data": {
      "text/plain": [
       "(25, 1)"
      ]
     },
     "execution_count": 29,
     "metadata": {},
     "output_type": "execute_result"
    }
   ],
   "source": [
    "indep.shape # 1-D\n",
    "indep = indep.reshape(-1,1)# Making it 2-D\n",
    "indep.shape"
   ]
  },
  {
   "cell_type": "code",
   "execution_count": 55,
   "metadata": {},
   "outputs": [
    {
     "data": {
      "text/plain": [
       "array([[14885],\n",
       "       [22769],\n",
       "       [27442],\n",
       "       [27781],\n",
       "       [34231],\n",
       "       [38802],\n",
       "       [44773],\n",
       "       [48507],\n",
       "       [51504],\n",
       "       [53693],\n",
       "       [61519],\n",
       "       [62676],\n",
       "       [72730],\n",
       "       [72899],\n",
       "       [75894],\n",
       "       [76598],\n",
       "       [78396],\n",
       "       [80605],\n",
       "       [84421],\n",
       "       [91915],\n",
       "       [27750],\n",
       "       [34200],\n",
       "       [78000],\n",
       "       [80600],\n",
       "       [84400]], dtype=int64)"
      ]
     },
     "execution_count": 55,
     "metadata": {},
     "output_type": "execute_result"
    }
   ],
   "source": [
    "indep"
   ]
  },
  {
   "cell_type": "code",
   "execution_count": 30,
   "metadata": {},
   "outputs": [
    {
     "data": {
      "text/plain": [
       "0     412288\n",
       "1     464161\n",
       "2     487871\n",
       "3     529504\n",
       "4     557891\n",
       "5     598954\n",
       "6     625772\n",
       "7     679932\n",
       "8     694673\n",
       "9     702248\n",
       "10    705885\n",
       "11    703096\n",
       "12    708950\n",
       "13    703269\n",
       "14    712512\n",
       "15    728969\n",
       "16    730411\n",
       "17    731940\n",
       "18    739228\n",
       "19    743833\n",
       "20    529450\n",
       "21    557700\n",
       "22    730000\n",
       "23    731900\n",
       "24    739200\n",
       "Name: Revenue, dtype: int64"
      ]
     },
     "execution_count": 30,
     "metadata": {},
     "output_type": "execute_result"
    }
   ],
   "source": [
    "# Dependent Variable\n",
    "dep = input_data[\"Revenue\"]\n",
    "dep"
   ]
  },
  {
   "cell_type": "markdown",
   "metadata": {},
   "source": [
    "### Splitting the data set into training set and test set"
   ]
  },
  {
   "cell_type": "code",
   "execution_count": 31,
   "metadata": {},
   "outputs": [],
   "source": [
    "from sklearn.model_selection import train_test_split\n",
    "indep_train, indep_test, dep_train, dep_test = train_test_split(indep, dep, test_size = 0.2, random_state = 0)"
   ]
  },
  {
   "cell_type": "markdown",
   "metadata": {},
   "source": [
    "### Model Building"
   ]
  },
  {
   "cell_type": "code",
   "execution_count": 32,
   "metadata": {},
   "outputs": [
    {
     "data": {
      "text/plain": [
       "LinearRegression()"
      ]
     },
     "execution_count": 32,
     "metadata": {},
     "output_type": "execute_result"
    }
   ],
   "source": [
    "regressor = LinearRegression()\n",
    "regressor.fit(indep_train, dep_train) # using the training data"
   ]
  },
  {
   "cell_type": "markdown",
   "metadata": {},
   "source": [
    "### Model Prediction"
   ]
  },
  {
   "cell_type": "code",
   "execution_count": 33,
   "metadata": {},
   "outputs": [
    {
     "data": {
      "text/plain": [
       "array([576603.75904591, 529661.2058578 , 796080.85653536, 740216.7388813 ,\n",
       "       675257.50154705])"
      ]
     },
     "execution_count": 33,
     "metadata": {},
     "output_type": "execute_result"
    }
   ],
   "source": [
    "regressor.predict(indep_test)"
   ]
  },
  {
   "cell_type": "code",
   "execution_count": 34,
   "metadata": {},
   "outputs": [
    {
     "data": {
      "text/plain": [
       "5     598954\n",
       "2     487871\n",
       "19    743833\n",
       "16    730411\n",
       "11    703096\n",
       "Name: Revenue, dtype: int64"
      ]
     },
     "execution_count": 34,
     "metadata": {},
     "output_type": "execute_result"
    }
   ],
   "source": [
    "dep_test"
   ]
  },
  {
   "cell_type": "code",
   "execution_count": null,
   "metadata": {},
   "outputs": [
    {
     "data": {
      "image/png": "[encoded data removed]",
      "text/plain": [
       "<Figure size 432x288 with 1 Axes>"
      ]
     },
     "metadata": {},
     "output_type": "display_data"
    }
   ],
   "source": [
    "plt.scatter(indep_train, regressor.predict(indep_train), c='r', linestyle='--')\n",
    "plt.scatter(indep_train, dep_train)\n",
    "plt.title('Revenue regressed on Marketing Spend')\n",
    "plt.xlabel('Marketing Spend')\n",
    "plt.ylabel('Revenue')\n",
    "plt.show()"
   ]
  },
  {
   "cell_type": "markdown",
   "metadata": {},
   "source": [
    "### Model Evaluation"
   ]
  },
  {
   "cell_type": "code",
   "execution_count": 35,
   "metadata": {},
   "outputs": [
    {
     "data": {
      "text/plain": [
       "34196.27932979175"
      ]
     },
     "execution_count": 35,
     "metadata": {},
     "output_type": "execute_result"
    }
   ],
   "source": [
    "# RMSE\n",
    "np.sqrt(mean_squared_error(dep_test, regressor.predict(indep_test)))"
   ]
  },
  {
   "cell_type": "markdown",
   "metadata": {},
   "source": [
    "### Feature Scaling"
   ]
  },
  {
   "cell_type": "code",
   "execution_count": 36,
   "metadata": {},
   "outputs": [],
   "source": [
    "from sklearn.preprocessing import StandardScaler\n",
    "\n",
    "indep_scaler = StandardScaler()\n",
    "indep_train_scaled = indep_scaler.fit_transform(indep_train)\n",
    "indep_test_scaled = indep_scaler.transform(indep_test)\n",
    "\n",
    "dep_scaler = StandardScaler()\n",
    "dep_train_scaled = dep_scaler.fit_transform(dep_train.values.reshape(-1,1))"
   ]
  },
  {
   "cell_type": "code",
   "execution_count": 37,
   "metadata": {},
   "outputs": [
    {
     "data": {
      "text/plain": [
       "LinearRegression()"
      ]
     },
     "execution_count": 37,
     "metadata": {},
     "output_type": "execute_result"
    }
   ],
   "source": [
    "# Model Building\n",
    "\n",
    "regressor = LinearRegression()\n",
    "regressor.fit(indep_train_scaled, dep_train_scaled)"
   ]
  },
  {
   "cell_type": "code",
   "execution_count": 38,
   "metadata": {},
   "outputs": [
    {
     "data": {
      "text/plain": [
       "array([[-0.72922647],\n",
       "       [-1.20028505],\n",
       "       [ 1.47317973],\n",
       "       [ 0.91259514],\n",
       "       [ 0.26074295]])"
      ]
     },
     "execution_count": 38,
     "metadata": {},
     "output_type": "execute_result"
    }
   ],
   "source": [
    "regressor.predict(indep_test_scaled)"
   ]
  },
  {
   "cell_type": "code",
   "execution_count": 39,
   "metadata": {},
   "outputs": [
    {
     "data": {
      "text/plain": [
       "array([[576603.75904591],\n",
       "       [529661.2058578 ],\n",
       "       [796080.85653536],\n",
       "       [740216.7388813 ],\n",
       "       [675257.50154705]])"
      ]
     },
     "execution_count": 39,
     "metadata": {},
     "output_type": "execute_result"
    }
   ],
   "source": [
    "# Inverse Transform\n",
    "dep_scaler.inverse_transform(regressor.predict(indep_test_scaled))"
   ]
  },
  {
   "cell_type": "code",
   "execution_count": 40,
   "metadata": {},
   "outputs": [
    {
     "data": {
      "image/png": "[encoded data removed]",
      "text/plain": [
       "<Figure size 640x480 with 1 Axes>"
      ]
     },
     "metadata": {},
     "output_type": "display_data"
    }
   ],
   "source": [
    "plt.scatter(indep_train, \n",
    "            dep_scaler.inverse_transform(regressor.predict(indep_train_scaled)), \n",
    "            c='r', \n",
    "            linestyle='--')\n",
    "plt.scatter(indep_train, dep_train)\n",
    "\n",
    "plt.title('Revenue regressed on Marketing Spend')\n",
    "plt.xlabel('Marketing Spend')\n",
    "plt.ylabel('Revenue')\n",
    "plt.show()"
   ]
  },
  {
   "cell_type": "code",
   "execution_count": 41,
   "metadata": {},
   "outputs": [],
   "source": [
    "# Polynomial features = 2\n",
    "from sklearn.preprocessing import PolynomialFeatures\n",
    "\n",
    "quadratic_featurizer = PolynomialFeatures (degree=2)"
   ]
  },
  {
   "cell_type": "code",
   "execution_count": 42,
   "metadata": {},
   "outputs": [
    {
     "data": {
      "text/plain": [
       "array([[1.00000000e+00, 7.80000000e+04, 6.08400000e+09],\n",
       "       [1.00000000e+00, 8.06050000e+04, 6.49716602e+09],\n",
       "       [1.00000000e+00, 8.44000000e+04, 7.12336000e+09],\n",
       "       [1.00000000e+00, 8.06000000e+04, 6.49636000e+09],\n",
       "       [1.00000000e+00, 7.58940000e+04, 5.75989924e+09],\n",
       "       [1.00000000e+00, 2.27690000e+04, 5.18427361e+08],\n",
       "       [1.00000000e+00, 6.15190000e+04, 3.78458736e+09],\n",
       "       [1.00000000e+00, 7.28990000e+04, 5.31426420e+09],\n",
       "       [1.00000000e+00, 5.15040000e+04, 2.65266202e+09],\n",
       "       [1.00000000e+00, 4.47730000e+04, 2.00462153e+09],\n",
       "       [1.00000000e+00, 8.44210000e+04, 7.12690524e+09],\n",
       "       [1.00000000e+00, 3.42310000e+04, 1.17176136e+09],\n",
       "       [1.00000000e+00, 5.36930000e+04, 2.88293825e+09],\n",
       "       [1.00000000e+00, 4.85070000e+04, 2.35292905e+09],\n",
       "       [1.00000000e+00, 2.77500000e+04, 7.70062500e+08],\n",
       "       [1.00000000e+00, 2.77810000e+04, 7.71783961e+08],\n",
       "       [1.00000000e+00, 1.48850000e+04, 2.21563225e+08],\n",
       "       [1.00000000e+00, 3.42000000e+04, 1.16964000e+09],\n",
       "       [1.00000000e+00, 7.65980000e+04, 5.86725360e+09],\n",
       "       [1.00000000e+00, 7.27300000e+04, 5.28965290e+09]])"
      ]
     },
     "execution_count": 42,
     "metadata": {},
     "output_type": "execute_result"
    }
   ],
   "source": [
    "indep_train_quadratic = quadratic_featurizer.fit_transform(indep_train)\n",
    "indep_train_quadratic"
   ]
  },
  {
   "cell_type": "code",
   "execution_count": 43,
   "metadata": {},
   "outputs": [],
   "source": [
    "indep_test_quadratic = quadratic_featurizer.transform(indep_test)"
   ]
  },
  {
   "cell_type": "code",
   "execution_count": 44,
   "metadata": {},
   "outputs": [
    {
     "data": {
      "text/plain": [
       "LinearRegression()"
      ]
     },
     "execution_count": 44,
     "metadata": {},
     "output_type": "execute_result"
    }
   ],
   "source": [
    "regressor_quad= LinearRegression()\n",
    "regressor_quad.fit(indep_train_quadratic, dep_train)"
   ]
  },
  {
   "cell_type": "code",
   "execution_count": 45,
   "metadata": {},
   "outputs": [
    {
     "data": {
      "text/plain": [
       "array([603488.61378909, 520023.07473104, 714319.32713634, 729784.30218126,\n",
       "       710263.38333459])"
      ]
     },
     "execution_count": 45,
     "metadata": {},
     "output_type": "execute_result"
    }
   ],
   "source": [
    "regressor_quad.predict(indep_test_quadratic)"
   ]
  },
  {
   "cell_type": "code",
   "execution_count": 46,
   "metadata": {},
   "outputs": [
    {
     "data": {
      "image/png": "[encoded data removed]",
      "text/plain": [
       "<Figure size 640x480 with 1 Axes>"
      ]
     },
     "metadata": {},
     "output_type": "display_data"
    }
   ],
   "source": [
    "plt.scatter(indep_train, regressor_quad.predict(indep_train_quadratic), c='r', linestyle='--')\n",
    "\n",
    "plt.scatter(indep_train, dep_train)\n",
    "\n",
    "plt.title('Revenue regressed on Marketing Spend')\n",
    "plt.xlabel('Marketing Spend')\n",
    "plt.ylabel('Revenue')\n",
    "plt.show()"
   ]
  },
  {
   "cell_type": "code",
   "execution_count": 47,
   "metadata": {},
   "outputs": [
    {
     "data": {
      "text/plain": [
       "19885.369755931097"
      ]
     },
     "execution_count": 47,
     "metadata": {},
     "output_type": "execute_result"
    }
   ],
   "source": [
    "# RMSE\n",
    "np.sqrt(mean_squared_error(dep_test, regressor_quad.predict(indep_test_quadratic)))"
   ]
  },
  {
   "cell_type": "code",
   "execution_count": 48,
   "metadata": {},
   "outputs": [],
   "source": [
    "# Polynomial Features = 9 \n",
    "from sklearn.preprocessing import PolynomialFeatures\n",
    "ninth_featurizer = PolynomialFeatures(degree=9)"
   ]
  },
  {
   "cell_type": "code",
   "execution_count": 49,
   "metadata": {},
   "outputs": [
    {
     "data": {
      "text/plain": [
       "array([[1.00000000e+00, 7.80000000e+04, 6.08400000e+09, 4.74552000e+14,\n",
       "        3.70150560e+19, 2.88717437e+24, 2.25199601e+29, 1.75655689e+34,\n",
       "        1.37011437e+39, 1.06868921e+44],\n",
       "       [1.00000000e+00, 8.06050000e+04, 6.49716602e+09, 5.23704067e+14,\n",
       "        4.22131664e+19, 3.40259227e+24, 2.74265950e+29, 2.21072069e+34,\n",
       "        1.78195141e+39, 1.43634194e+44],\n",
       "       [1.00000000e+00, 8.44000000e+04, 7.12336000e+09, 6.01211584e+14,\n",
       "        5.07422577e+19, 4.28264655e+24, 3.61455369e+29, 3.05068331e+34,\n",
       "        2.57477672e+39, 2.17311155e+44],\n",
       "       [1.00000000e+00, 8.06000000e+04, 6.49636000e+09, 5.23606616e+14,\n",
       "        4.22026932e+19, 3.40153708e+24, 2.74163888e+29, 2.20976094e+34,\n",
       "        1.78106732e+39, 1.43554026e+44],\n",
       "       [1.00000000e+00, 7.58940000e+04, 5.75989924e+09, 4.37141793e+14,\n",
       "        3.31764392e+19, 2.51789268e+24, 1.91092947e+29, 1.45028081e+34,\n",
       "        1.10067612e+39, 8.35347133e+43],\n",
       "       [1.00000000e+00, 2.27690000e+04, 5.18427361e+08, 1.18040726e+13,\n",
       "        2.68766929e+17, 6.11955420e+21, 1.39336130e+26, 3.17254433e+30,\n",
       "        7.22356619e+34, 1.64473379e+39],\n",
       "       [1.00000000e+00, 6.15190000e+04, 3.78458736e+09, 2.32824030e+14,\n",
       "        1.43231015e+19, 8.81142881e+23, 5.42070289e+28, 3.33476221e+33,\n",
       "        2.05151236e+38, 1.26206989e+43],\n",
       "       [1.00000000e+00, 7.28990000e+04, 5.31426420e+09, 3.87404546e+14,\n",
       "        2.82414040e+19, 2.05877011e+24, 1.50082282e+29, 1.09408483e+34,\n",
       "        7.97576900e+38, 5.81425584e+43],\n",
       "       [1.00000000e+00, 5.15040000e+04, 2.65266202e+09, 1.36622704e+14,\n",
       "        7.03661577e+18, 3.62413859e+23, 1.86657634e+28, 9.61361477e+32,\n",
       "        4.95139615e+37, 2.55016707e+42],\n",
       "       [1.00000000e+00, 4.47730000e+04, 2.00462153e+09, 8.97529197e+13,\n",
       "        4.01850747e+18, 1.79920635e+23, 8.05558660e+27, 3.60672779e+32,\n",
       "        1.61484023e+37, 7.23012417e+41],\n",
       "       [1.00000000e+00, 8.44210000e+04, 7.12690524e+09, 6.01660467e+14,\n",
       "        5.07927783e+19, 4.28797714e+24, 3.61995318e+29, 3.05600067e+34,\n",
       "        2.57990633e+39, 2.17798272e+44],\n",
       "       [1.00000000e+00, 3.42310000e+04, 1.17176136e+09, 4.01105631e+13,\n",
       "        1.37302469e+18, 4.70000081e+22, 1.60885728e+27, 5.50727934e+31,\n",
       "        1.88519679e+36, 6.45321714e+40],\n",
       "       [1.00000000e+00, 5.36930000e+04, 2.88293825e+09, 1.54793603e+14,\n",
       "        8.31133295e+18, 4.46260400e+23, 2.39610597e+28, 1.28654118e+33,\n",
       "        6.90782554e+37, 3.70901877e+42],\n",
       "       [1.00000000e+00, 4.85070000e+04, 2.35292905e+09, 1.14133529e+14,\n",
       "        5.53627511e+18, 2.68548097e+23, 1.30264625e+28, 6.31874618e+32,\n",
       "        3.06503421e+37, 1.48675614e+42],\n",
       "       [1.00000000e+00, 2.77500000e+04, 7.70062500e+08, 2.13692344e+13,\n",
       "        5.92996254e+17, 1.64556460e+22, 4.56644178e+26, 1.26718759e+31,\n",
       "        3.51644557e+35, 9.75813646e+39],\n",
       "       [1.00000000e+00, 2.77810000e+04, 7.71783961e+08, 2.14409302e+13,\n",
       "        5.95650482e+17, 1.65477661e+22, 4.59713489e+26, 1.27713004e+31,\n",
       "        3.54799497e+35, 9.85668483e+39],\n",
       "       [1.00000000e+00, 1.48850000e+04, 2.21563225e+08, 3.29796860e+12,\n",
       "        4.90902627e+16, 7.30708560e+20, 1.08765969e+25, 1.61898145e+29,\n",
       "        2.40985389e+33, 3.58706751e+37],\n",
       "       [1.00000000e+00, 3.42000000e+04, 1.16964000e+09, 4.00016880e+13,\n",
       "        1.36805773e+18, 4.67875744e+22, 1.60013504e+27, 5.47246185e+31,\n",
       "        1.87158195e+36, 6.40081027e+40],\n",
       "       [1.00000000e+00, 7.65980000e+04, 5.86725360e+09, 4.49419892e+14,\n",
       "        3.44246649e+19, 2.63686048e+24, 2.01978239e+29, 1.54711291e+34,\n",
       "        1.18505755e+39, 9.07730382e+43],\n",
       "       [1.00000000e+00, 7.27300000e+04, 5.28965290e+09, 3.84716455e+14,\n",
       "        2.79804278e+19, 2.03501651e+24, 1.48006751e+29, 1.07645310e+34,\n",
       "        7.82904340e+38, 5.69406326e+43]])"
      ]
     },
     "execution_count": 49,
     "metadata": {},
     "output_type": "execute_result"
    }
   ],
   "source": [
    "indep_train_ninth = ninth_featurizer.fit_transform(indep_train)\n",
    "indep_train_ninth"
   ]
  },
  {
   "cell_type": "code",
   "execution_count": 50,
   "metadata": {},
   "outputs": [],
   "source": [
    "indep_test_ninth = ninth_featurizer.transform(indep_test)"
   ]
  },
  {
   "cell_type": "code",
   "execution_count": 51,
   "metadata": {},
   "outputs": [
    {
     "data": {
      "text/plain": [
       "LinearRegression()"
      ]
     },
     "execution_count": 51,
     "metadata": {},
     "output_type": "execute_result"
    }
   ],
   "source": [
    "regressor_ninth = LinearRegression()\n",
    "regressor_ninth.fit(indep_train_ninth, dep_train)"
   ]
  },
  {
   "cell_type": "code",
   "execution_count": 52,
   "metadata": {},
   "outputs": [
    {
     "data": {
      "text/plain": [
       "array([ 552778.13463086,  521745.13625218, 1562097.75434079,\n",
       "        702484.31803424,  755784.2957779 ])"
      ]
     },
     "execution_count": 52,
     "metadata": {},
     "output_type": "execute_result"
    }
   ],
   "source": [
    "regressor_ninth.predict(indep_test_ninth)"
   ]
  },
  {
   "cell_type": "code",
   "execution_count": 53,
   "metadata": {},
   "outputs": [
    {
     "data": {
      "image/png": "[encoded data removed]",
      "text/plain": [
       "<Figure size 640x480 with 1 Axes>"
      ]
     },
     "metadata": {},
     "output_type": "display_data"
    }
   ],
   "source": [
    "plt.scatter(indep_train, \n",
    "            regressor_ninth.predict(indep_train_ninth), \n",
    "            c='r', \n",
    "            linestyle='--')\n",
    "\n",
    "plt.scatter(indep_train, dep_train)\n",
    "\n",
    "plt.title('Revenue regressed on Marketing Spend')\n",
    "plt.xlabel('Marketing Spend')\n",
    "plt.ylabel('Revenue')\n",
    "plt.show()"
   ]
  },
  {
   "cell_type": "code",
   "execution_count": 54,
   "metadata": {},
   "outputs": [
    {
     "data": {
      "text/plain": [
       "367802.3468993644"
      ]
     },
     "execution_count": 54,
     "metadata": {},
     "output_type": "execute_result"
    }
   ],
   "source": [
    "# RMSE\n",
    "np.sqrt(mean_squared_error(dep_test, regressor_ninth.predict(indep_test_ninth)))"
   ]
  },
  {
   "cell_type": "code",
   "execution_count": 1,
   "metadata": {},
   "outputs": [
    {
     "ename": "SyntaxError",
     "evalue": "invalid syntax (2130417872.py, line 1)",
     "output_type": "error",
     "traceback": [
      "\u001b[1;36m  Input \u001b[1;32mIn [1]\u001b[1;36m\u001b[0m\n\u001b[1;33m    write code for swapping two number\u001b[0m\n\u001b[1;37m          ^\u001b[0m\n\u001b[1;31mSyntaxError\u001b[0m\u001b[1;31m:\u001b[0m invalid syntax\n"
     ]
    }
   ],
   "source": [
    "#code for swapping two number \n",
    "#wrie wcode for swapping two numebr         \n",
    "\n",
    "def dateBetweenTwoDates(begin,date) :\n",
    "    if begin <= date <= end :\n",
    "        return True\n",
    "    else :\n",
    "        return False\n",
    " \n",
    "\n",
    "LinearRegression class MODELNAME(models.Model):\n",
    "    \"\"\"Model definition for MODELNAME.\"\"\"\n",
    "\n",
    "    # TODO: Define fields here\n",
    "\n",
    "    class Meta:\n",
    "        \"\"\"Meta definition for MODELNAME.\"\"\"\n",
    "\n",
    "        verbose_name = 'MODELNAME'\n",
    "        verbose_name_plural = 'MODELNAMEs'\n",
    "\n",
    "    def __str__(self):\n",
    "        \"\"\"Unicode representation of MODELNAME.\"\"\"\n",
    "        pass\n",
    "\n",
    "\n",
    "\n",
    "\n",
    "\n",
    " \n",
    "\n"
   ]
  }
 ],
 "metadata": {
  "kernelspec": {
   "display_name": "Python 3.9.10 64-bit",
   "language": "python",
   "name": "python3"
  },
  "language_info": {
   "codemirror_mode": {
    "name": "ipython",
    "version": 3
   },
   "file_extension": ".py",
   "mimetype": "text/x-python",
   "name": "python",
   "nbconvert_exporter": "python",
   "pygments_lexer": "ipython3",
   "version": "3.9.10 (tags/v3.9.10:f2f3f53, Jan 17 2022, 15:14:21) [MSC v.1929 64 bit (AMD64)]"
  },
  "vscode": {
   "interpreter": {
    "hash": "25034407fed5d681614dac11a1c0537e8cb49e3a8883c071303eea01322943d9"
   }
  }
 },
 "nbformat": 4,
 "nbformat_minor": 2
}
