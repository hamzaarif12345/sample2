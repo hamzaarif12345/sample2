{
 "cells": [
  {
   "cell_type": "markdown",
   "id": "fad1607b",
   "metadata": {},
   "source": [
    "# Challenge Questions - NumPy"
   ]
  },
  {
   "cell_type": "markdown",
   "id": "357a4035",
   "metadata": {},
   "source": [
    "# Instructions:\n",
    "• Please ensure you don't overwrite any existing cells. Add new cells below by pressing ALT+ENTER\n",
    "\n",
    "• Attempt all of the questions\n",
    "\n",
    "• You are encouraged to look online for help should you need it"
   ]
  },
  {
   "cell_type": "markdown",
   "id": "a216156e",
   "metadata": {},
   "source": [
    "# "
   ]
  },
  {
   "cell_type": "markdown",
   "id": "620b8fa0",
   "metadata": {},
   "source": [
    "## Q1: Import the NumPy library"
   ]
  },
  {
   "cell_type": "code",
   "execution_count": 1,
   "id": "3261afef",
   "metadata": {},
   "outputs": [],
   "source": [
    "#Type your code here\n",
    "import numpy as np"
   ]
  },
  {
   "cell_type": "code",
   "execution_count": null,
   "id": "07f42443",
   "metadata": {},
   "outputs": [],
   "source": []
  },
  {
   "cell_type": "code",
   "execution_count": null,
   "id": "651723ec",
   "metadata": {},
   "outputs": [],
   "source": []
  },
  {
   "cell_type": "markdown",
   "id": "fabc79f4",
   "metadata": {},
   "source": [
    "## Q2: Create a 5 row by 3 column array that contains only the value 7"
   ]
  },
  {
   "cell_type": "code",
   "execution_count": 2,
   "id": "4c307107",
   "metadata": {},
   "outputs": [
    {
     "data": {
      "text/plain": [
       "array([[7, 7, 7],\n",
       "       [7, 7, 7],\n",
       "       [7, 7, 7],\n",
       "       [7, 7, 7],\n",
       "       [7, 7, 7]])"
      ]
     },
     "execution_count": 2,
     "metadata": {},
     "output_type": "execute_result"
    }
   ],
   "source": [
    "# Type your code here\n",
    "np.full((5,3),7)"
   ]
  },
  {
   "cell_type": "code",
   "execution_count": null,
   "id": "fd6880b7",
   "metadata": {},
   "outputs": [],
   "source": []
  },
  {
   "cell_type": "code",
   "execution_count": null,
   "id": "2ec961e8",
   "metadata": {},
   "outputs": [],
   "source": []
  },
  {
   "cell_type": "markdown",
   "id": "e39771ee",
   "metadata": {},
   "source": [
    "## Q3: Create a 3 row by 4 column array that contains evenly spaced values between 0-100"
   ]
  },
  {
   "cell_type": "code",
   "execution_count": 3,
   "id": "553c0f5a",
   "metadata": {},
   "outputs": [
    {
     "data": {
      "text/plain": [
       "array([[  0.        ,   9.09090909,  18.18181818,  27.27272727],\n",
       "       [ 36.36363636,  45.45454545,  54.54545455,  63.63636364],\n",
       "       [ 72.72727273,  81.81818182,  90.90909091, 100.        ]])"
      ]
     },
     "execution_count": 3,
     "metadata": {},
     "output_type": "execute_result"
    }
   ],
   "source": [
    "# Type your code here\n",
    "np.linspace(0,100,num=12).reshape(3,4)"
   ]
  },
  {
   "cell_type": "code",
   "execution_count": null,
   "id": "459f6c1e",
   "metadata": {},
   "outputs": [],
   "source": []
  },
  {
   "cell_type": "code",
   "execution_count": null,
   "id": "042f1a58",
   "metadata": {},
   "outputs": [],
   "source": []
  },
  {
   "cell_type": "markdown",
   "id": "d42cbb9e",
   "metadata": {},
   "source": [
    "## Q4 Take the shape from Q3 and transform it so that the numbers increment down the columns rather than along the rows"
   ]
  },
  {
   "cell_type": "code",
   "execution_count": 4,
   "id": "8fd5940d",
   "metadata": {},
   "outputs": [
    {
     "data": {
      "text/plain": [
       "array([[  0.        ,  36.36363636,  72.72727273],\n",
       "       [  9.09090909,  45.45454545,  81.81818182],\n",
       "       [ 18.18181818,  54.54545455,  90.90909091],\n",
       "       [ 27.27272727,  63.63636364, 100.        ]])"
      ]
     },
     "execution_count": 4,
     "metadata": {},
     "output_type": "execute_result"
    }
   ],
   "source": [
    "# Type your code here\n",
    "np.linspace(0,100,num=12).reshape(3,4).transpose()"
   ]
  },
  {
   "cell_type": "code",
   "execution_count": null,
   "id": "927fbc1c",
   "metadata": {},
   "outputs": [],
   "source": []
  },
  {
   "cell_type": "code",
   "execution_count": null,
   "id": "89c4ddea",
   "metadata": {},
   "outputs": [],
   "source": []
  },
  {
   "cell_type": "markdown",
   "id": "4cc166eb",
   "metadata": {},
   "source": [
    "## Q5 From the 2D array stored in the variable \"a\" below use slicing to return the below segment"
   ]
  },
  {
   "cell_type": "code",
   "execution_count": 5,
   "id": "9f4ad168",
   "metadata": {},
   "outputs": [
    {
     "data": {
      "text/plain": [
       "array([[ 0.,  1.,  2.,  3.,  4.],\n",
       "       [ 5.,  6.,  7.,  8.,  9.],\n",
       "       [10., 11., 12., 13., 14.],\n",
       "       [15., 16., 17., 18., 19.],\n",
       "       [20., 21., 22., 23., 24.]])"
      ]
     },
     "execution_count": 5,
     "metadata": {},
     "output_type": "execute_result"
    }
   ],
   "source": [
    "# Run this cell first\n",
    "a = np.linspace(0,24,num=25).reshape(5,5)\n",
    "a"
   ]
  },
  {
   "cell_type": "raw",
   "id": "d71e4696",
   "metadata": {},
   "source": [
    "Return this segment:\n",
    "([[11., 12., 13.],\n",
    "  [16., 17., 18.]])"
   ]
  },
  {
   "cell_type": "code",
   "execution_count": 24,
   "id": "3225328a",
   "metadata": {},
   "outputs": [
    {
     "data": {
      "text/plain": [
       "array([[11., 12., 13.],\n",
       "       [16., 17., 18.]])"
      ]
     },
     "execution_count": 24,
     "metadata": {},
     "output_type": "execute_result"
    }
   ],
   "source": [
    "# Type your code here\n",
    "a[2:4,1:4]"
   ]
  },
  {
   "cell_type": "code",
   "execution_count": null,
   "id": "d762913d",
   "metadata": {},
   "outputs": [],
   "source": []
  },
  {
   "cell_type": "code",
   "execution_count": null,
   "id": "7f718930",
   "metadata": {},
   "outputs": [],
   "source": []
  },
  {
   "cell_type": "markdown",
   "id": "37bd42b4",
   "metadata": {},
   "source": [
    "## Q6: Return only elements that are greater than 12 from the same array \"a\" as Q5"
   ]
  },
  {
   "cell_type": "code",
   "execution_count": 7,
   "id": "7cc51171",
   "metadata": {},
   "outputs": [
    {
     "data": {
      "text/plain": [
       "array([13., 14., 15., 16., 17., 18., 19., 20., 21., 22., 23., 24.])"
      ]
     },
     "execution_count": 7,
     "metadata": {},
     "output_type": "execute_result"
    }
   ],
   "source": [
    "# Type your code here\n",
    "a[a>12]"
   ]
  },
  {
   "cell_type": "code",
   "execution_count": null,
   "id": "fa6e2330",
   "metadata": {},
   "outputs": [],
   "source": []
  },
  {
   "cell_type": "code",
   "execution_count": null,
   "id": "8b5a5f86",
   "metadata": {},
   "outputs": [],
   "source": []
  },
  {
   "cell_type": "markdown",
   "id": "6506be8c",
   "metadata": {},
   "source": [
    "## Q7: There is a file called 'tfl-daily-cycle-hires-2018.csv' saved in the same directory as this notebook. We will be needing only the \"Number of Bicycle Hires\" data.\n",
    "1. Load and store it in a variable called tfl_18 and check the shape of the array. \n",
    "2. Check the shape of the array\n",
    "3. Change the array to be a 2D array of shape (365,1)\n",
    "\n",
    "### This file contains the daily cycle hire numbers for the year 2018.\n",
    "\n",
    "### Hint: Consider the use of appropriate optional arguments in whatever function you choose to use."
   ]
  },
  {
   "cell_type": "code",
   "execution_count": 8,
   "id": "dca9999e",
   "metadata": {},
   "outputs": [],
   "source": [
    "# Load the data here\n",
    "tfl_18=np.loadtxt('tfl-daily-cycle-hires-2018.csv',usecols=1, skiprows=1, delimiter=',')"
   ]
  },
  {
   "cell_type": "code",
   "execution_count": 9,
   "id": "2c525120",
   "metadata": {},
   "outputs": [
    {
     "data": {
      "text/plain": [
       "(365,)"
      ]
     },
     "execution_count": 9,
     "metadata": {},
     "output_type": "execute_result"
    }
   ],
   "source": [
    "# Check the shape here\n",
    "tfl_18.shape"
   ]
  },
  {
   "cell_type": "code",
   "execution_count": 10,
   "id": "98e5fd80",
   "metadata": {},
   "outputs": [],
   "source": [
    "# Change the shape here\n",
    "tfl_18=tfl_18.reshape(365,1)"
   ]
  },
  {
   "cell_type": "code",
   "execution_count": null,
   "id": "1415c211",
   "metadata": {},
   "outputs": [],
   "source": []
  },
  {
   "cell_type": "code",
   "execution_count": null,
   "id": "04496890",
   "metadata": {},
   "outputs": [],
   "source": []
  },
  {
   "cell_type": "markdown",
   "id": "ca7ba377",
   "metadata": {},
   "source": [
    "## Q8: There is a file called 'tfl-daily-cycle-hires-2019.csv' saved in the same directory as this notebook. We will be needing only the \"Number of Bicycle Hires\" data.\n",
    "1. Load and store it in a variable called tfl_19 and check the shape of the array. \n",
    "2. Check the shape of the array\n",
    "3. Change the array to be a 2D array of shape (365,1)"
   ]
  },
  {
   "cell_type": "code",
   "execution_count": 11,
   "id": "77084567",
   "metadata": {},
   "outputs": [],
   "source": [
    "# Load the data here\n",
    "tfl_19=np.loadtxt('tfl-daily-cycle-hires-2019.csv',usecols=1, skiprows=1, delimiter=',')"
   ]
  },
  {
   "cell_type": "code",
   "execution_count": 12,
   "id": "9a6a0e53",
   "metadata": {},
   "outputs": [
    {
     "data": {
      "text/plain": [
       "(365,)"
      ]
     },
     "execution_count": 12,
     "metadata": {},
     "output_type": "execute_result"
    }
   ],
   "source": [
    "# Check the shape here\n",
    "tfl_19.shape"
   ]
  },
  {
   "cell_type": "code",
   "execution_count": 13,
   "id": "ceabb442",
   "metadata": {},
   "outputs": [],
   "source": [
    "# Change the shape here\n",
    "tfl_19=tfl_19.reshape(365,1)"
   ]
  },
  {
   "cell_type": "code",
   "execution_count": null,
   "id": "44fdb488",
   "metadata": {},
   "outputs": [],
   "source": []
  },
  {
   "cell_type": "code",
   "execution_count": null,
   "id": "f5e07a02",
   "metadata": {},
   "outputs": [],
   "source": []
  },
  {
   "cell_type": "markdown",
   "id": "7b97429d",
   "metadata": {},
   "source": [
    "## Q9: Create a new array called tfl_1819 that contains the two arrays tfl_18 and tfl_19 concatenated together on the 1 axis. The shape of tfl_1819 should be (365, 2)"
   ]
  },
  {
   "cell_type": "code",
   "execution_count": 14,
   "id": "276a211f",
   "metadata": {},
   "outputs": [],
   "source": [
    "# Concatenate the arrays here\n",
    "tfl_1819=np.concatenate([tfl_18,tfl_19], axis=1)"
   ]
  },
  {
   "cell_type": "code",
   "execution_count": 15,
   "id": "a433b64e",
   "metadata": {},
   "outputs": [
    {
     "data": {
      "text/plain": [
       "(365, 2)"
      ]
     },
     "execution_count": 15,
     "metadata": {},
     "output_type": "execute_result"
    }
   ],
   "source": [
    "# Check the shape here\n",
    "tfl_1819.shape"
   ]
  },
  {
   "cell_type": "code",
   "execution_count": null,
   "id": "df6a39ff",
   "metadata": {},
   "outputs": [],
   "source": []
  },
  {
   "cell_type": "code",
   "execution_count": null,
   "id": "0802d65d",
   "metadata": {},
   "outputs": [],
   "source": []
  },
  {
   "cell_type": "markdown",
   "id": "3edda601",
   "metadata": {},
   "source": [
    "## Q10 Perform the following operations on the concatenated array tfl_1819:\n",
    "1. Find the sum of the columns\n",
    "2. Find the average number of bike hires for both columns\n",
    "3. Find the maximum number of bike hires in both columns"
   ]
  },
  {
   "cell_type": "code",
   "execution_count": 16,
   "id": "ff2ddad9",
   "metadata": {},
   "outputs": [
    {
     "data": {
      "text/plain": [
       "array([10567540., 10424955.])"
      ]
     },
     "execution_count": 16,
     "metadata": {},
     "output_type": "execute_result"
    }
   ],
   "source": [
    "# Sum the columns here\n",
    "np.sum(tfl_1819,axis=0)"
   ]
  },
  {
   "cell_type": "code",
   "execution_count": 17,
   "id": "0108bec5",
   "metadata": {},
   "outputs": [
    {
     "data": {
      "text/plain": [
       "array([28952.16438356, 28561.52054795])"
      ]
     },
     "execution_count": 17,
     "metadata": {},
     "output_type": "execute_result"
    }
   ],
   "source": [
    "# Find the average of the columns here\n",
    "np.mean(tfl_1819,axis=0)"
   ]
  },
  {
   "cell_type": "code",
   "execution_count": 18,
   "id": "bd1e274e",
   "metadata": {},
   "outputs": [
    {
     "data": {
      "text/plain": [
       "array([46084., 44668.])"
      ]
     },
     "execution_count": 18,
     "metadata": {},
     "output_type": "execute_result"
    }
   ],
   "source": [
    "# Find the maximum of both columns here\n",
    "np.max(tfl_1819,axis=0)"
   ]
  },
  {
   "cell_type": "code",
   "execution_count": null,
   "id": "924a56f9",
   "metadata": {},
   "outputs": [],
   "source": []
  },
  {
   "cell_type": "code",
   "execution_count": null,
   "id": "4d70b6c8",
   "metadata": {},
   "outputs": [],
   "source": []
  }
 ],
 "metadata": {
  "kernelspec": {
   "display_name": "Python 3.10.6 64-bit (microsoft store)",
   "language": "python",
   "name": "python3"
  },
  "language_info": {
   "codemirror_mode": {
    "name": "ipython",
    "version": 3
   },
   "file_extension": ".py",
   "mimetype": "text/x-python",
   "name": "python",
   "nbconvert_exporter": "python",
   "pygments_lexer": "ipython3",
   "version": "3.10.6"
  },
  "vscode": {
   "interpreter": {
    "hash": "4f3c242453f16ea7cb02021c972647610b73f0e9f5370c4fa546303f2df541e8"
   }
  }
 },
 "nbformat": 4,
 "nbformat_minor": 5
}
