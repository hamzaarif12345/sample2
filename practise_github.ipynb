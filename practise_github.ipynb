{
 "cells": [
  {
   "attachments": {},
   "cell_type": "markdown",
   "metadata": {},
   "source": [
    "#python programfor practise github\n",
    "#create a new repository on the command line\n",
    "#create a for loop \n",
    "#create a for loop that iterates over a sequence of numbers             \n",
    "\n",
    "\n",
    "# In[1]:\n",
    "        \n"
   ]
  }
 ],
 "metadata": {
  "language_info": {
   "name": "python"
  },
  "orig_nbformat": 4
 },
 "nbformat": 4,
 "nbformat_minor": 2
}
