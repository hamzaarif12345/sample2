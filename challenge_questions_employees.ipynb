{
 "cells": [
  {
   "cell_type": "markdown",
   "id": "fad1607b",
   "metadata": {},
   "source": [
    "# Challenge Questions - Employees Dataset"
   ]
  },
  {
   "cell_type": "markdown",
   "id": "357a4035",
   "metadata": {},
   "source": [
    "# Instructions:\n",
    "• Please ensure you don't overwrite any existing cells. Add new cells below by pressing ALT+ENTER\n",
    "\n",
    "• Attempt all of the questions\n",
    "\n",
    "• You are encouraged to look online for help should you need it"
   ]
  },
  {
   "cell_type": "markdown",
   "id": "0797ec9a",
   "metadata": {},
   "source": [
    "# Dataset overview:\n",
    "There are three csv files containing tables stored in the same directory as this Notebook, they are all related to each other:\n",
    "\n",
    "• **employees.csv**: contains information about employees in a company. It contains their unique employee number (emp_no), their department number (dept_no), their hire date (hire_date) and their leaving date (leaving_date). The leaving date is blank if the employee is still employed by the company\n",
    "\n",
    "• **departments.csv**: This contains information about the departments in a company. It contains the deparment number (dept_no), the department name (dept_name) and location.\n",
    "\n",
    "• **salaries.csv**: This file contains the salaries of the employees. It contains a unique employee department key (emp_dept_key) and the salary. The emp_dept_key is in the format 'emp_id-dept_id'\n"
   ]
  },
  {
   "cell_type": "markdown",
   "id": "a216156e",
   "metadata": {},
   "source": [
    "# "
   ]
  },
  {
   "cell_type": "markdown",
   "id": "620b8fa0",
   "metadata": {},
   "source": [
    "## Import pandas, numpy and datetime"
   ]
  },
  {
   "cell_type": "code",
   "execution_count": 2,
   "id": "07f42443",
   "metadata": {},
   "outputs": [],
   "source": [
    "import pandas as pd"
   ]
  },
  {
   "cell_type": "code",
   "execution_count": 3,
   "id": "651723ec",
   "metadata": {},
   "outputs": [],
   "source": [
    "import numpy as np\n",
    "import datetime as dt"
   ]
  },
  {
   "cell_type": "markdown",
   "id": "8a051f6a",
   "metadata": {},
   "source": [
    "## Load the files:\n",
    "• \"employees.csv\" should be assigned to the variable **emp**\n",
    "\n",
    "• \"departments.csv\" should be assigned to the variable **dept**\n",
    "\n",
    "• \"salaries.csv\" should be assigned to the variable **sal**"
   ]
  },
  {
   "cell_type": "code",
   "execution_count": 4,
   "id": "e8a11608",
   "metadata": {},
   "outputs": [],
   "source": [
    "a=pd.read_csv(\"employees.csv\")"
   ]
  },
  {
   "cell_type": "code",
   "execution_count": 5,
   "id": "76486a7a",
   "metadata": {},
   "outputs": [],
   "source": [
    "b=pd.read_csv(\"departments.csv\")\n",
    "c=pd.read_csv(\"salaries.csv\")"
   ]
  },
  {
   "cell_type": "markdown",
   "id": "8fb32dec",
   "metadata": {},
   "source": [
    "## Check the head of all three DataFrames"
   ]
  },
  {
   "cell_type": "code",
   "execution_count": 6,
   "id": "93668121",
   "metadata": {},
   "outputs": [
    {
     "data": {
      "text/html": [
       "<div>\n",
       "<style scoped>\n",
       "    .dataframe tbody tr th:only-of-type {\n",
       "        vertical-align: middle;\n",
       "    }\n",
       "\n",
       "    .dataframe tbody tr th {\n",
       "        vertical-align: top;\n",
       "    }\n",
       "\n",
       "    .dataframe thead th {\n",
       "        text-align: right;\n",
       "    }\n",
       "</style>\n",
       "<table border=\"1\" class=\"dataframe\">\n",
       "  <thead>\n",
       "    <tr style=\"text-align: right;\">\n",
       "      <th></th>\n",
       "      <th>emp_no</th>\n",
       "      <th>dept_no</th>\n",
       "      <th>hire_date</th>\n",
       "      <th>leaving_date</th>\n",
       "    </tr>\n",
       "  </thead>\n",
       "  <tbody>\n",
       "    <tr>\n",
       "      <th>0</th>\n",
       "      <td>10001</td>\n",
       "      <td>D5</td>\n",
       "      <td>26/06/2006</td>\n",
       "      <td>NaN</td>\n",
       "    </tr>\n",
       "    <tr>\n",
       "      <th>1</th>\n",
       "      <td>10002</td>\n",
       "      <td>D6</td>\n",
       "      <td>21/11/2005</td>\n",
       "      <td>NaN</td>\n",
       "    </tr>\n",
       "    <tr>\n",
       "      <th>2</th>\n",
       "      <td>10003</td>\n",
       "      <td>D4</td>\n",
       "      <td>28/08/2006</td>\n",
       "      <td>NaN</td>\n",
       "    </tr>\n",
       "    <tr>\n",
       "      <th>3</th>\n",
       "      <td>10004</td>\n",
       "      <td>D4</td>\n",
       "      <td>01/12/2006</td>\n",
       "      <td>NaN</td>\n",
       "    </tr>\n",
       "    <tr>\n",
       "      <th>4</th>\n",
       "      <td>10005</td>\n",
       "      <td>D3</td>\n",
       "      <td>12/09/2009</td>\n",
       "      <td>NaN</td>\n",
       "    </tr>\n",
       "  </tbody>\n",
       "</table>\n",
       "</div>"
      ],
      "text/plain": [
       "   emp_no dept_no   hire_date leaving_date\n",
       "0   10001      D5  26/06/2006          NaN\n",
       "1   10002      D6  21/11/2005          NaN\n",
       "2   10003      D4  28/08/2006          NaN\n",
       "3   10004      D4  01/12/2006          NaN\n",
       "4   10005      D3  12/09/2009          NaN"
      ]
     },
     "execution_count": 6,
     "metadata": {},
     "output_type": "execute_result"
    }
   ],
   "source": [
    "a.head()"
   ]
  },
  {
   "cell_type": "code",
   "execution_count": 7,
   "id": "0341f14a",
   "metadata": {},
   "outputs": [
    {
     "data": {
      "text/html": [
       "<div>\n",
       "<style scoped>\n",
       "    .dataframe tbody tr th:only-of-type {\n",
       "        vertical-align: middle;\n",
       "    }\n",
       "\n",
       "    .dataframe tbody tr th {\n",
       "        vertical-align: top;\n",
       "    }\n",
       "\n",
       "    .dataframe thead th {\n",
       "        text-align: right;\n",
       "    }\n",
       "</style>\n",
       "<table border=\"1\" class=\"dataframe\">\n",
       "  <thead>\n",
       "    <tr style=\"text-align: right;\">\n",
       "      <th></th>\n",
       "      <th>emp_dept_key</th>\n",
       "      <th>salary</th>\n",
       "    </tr>\n",
       "  </thead>\n",
       "  <tbody>\n",
       "    <tr>\n",
       "      <th>0</th>\n",
       "      <td>10001-D5</td>\n",
       "      <td>30546</td>\n",
       "    </tr>\n",
       "    <tr>\n",
       "      <th>1</th>\n",
       "      <td>10002-D6</td>\n",
       "      <td>36536</td>\n",
       "    </tr>\n",
       "    <tr>\n",
       "      <th>2</th>\n",
       "      <td>10003-D4</td>\n",
       "      <td>38323</td>\n",
       "    </tr>\n",
       "    <tr>\n",
       "      <th>3</th>\n",
       "      <td>10004-D4</td>\n",
       "      <td>31851</td>\n",
       "    </tr>\n",
       "    <tr>\n",
       "      <th>4</th>\n",
       "      <td>10005-D3</td>\n",
       "      <td>53435</td>\n",
       "    </tr>\n",
       "  </tbody>\n",
       "</table>\n",
       "</div>"
      ],
      "text/plain": [
       "  emp_dept_key  salary\n",
       "0     10001-D5   30546\n",
       "1     10002-D6   36536\n",
       "2     10003-D4   38323\n",
       "3     10004-D4   31851\n",
       "4     10005-D3   53435"
      ]
     },
     "execution_count": 7,
     "metadata": {},
     "output_type": "execute_result"
    }
   ],
   "source": [
    "b.head()\n",
    "c.head()"
   ]
  },
  {
   "cell_type": "markdown",
   "id": "28da5020",
   "metadata": {},
   "source": [
    "## Check the data types of all three DataFrames"
   ]
  },
  {
   "cell_type": "code",
   "execution_count": 8,
   "id": "6a2abc46",
   "metadata": {},
   "outputs": [
    {
     "data": {
      "text/plain": [
       "dept_no      object\n",
       "dept_name    object\n",
       "location     object\n",
       "dtype: object"
      ]
     },
     "execution_count": 8,
     "metadata": {},
     "output_type": "execute_result"
    }
   ],
   "source": [
    "b.dtypes"
   ]
  },
  {
   "cell_type": "code",
   "execution_count": 9,
   "id": "044a7762",
   "metadata": {},
   "outputs": [
    {
     "data": {
      "text/plain": [
       "emp_no           int64\n",
       "dept_no         object\n",
       "hire_date       object\n",
       "leaving_date    object\n",
       "dtype: object"
      ]
     },
     "execution_count": 9,
     "metadata": {},
     "output_type": "execute_result"
    }
   ],
   "source": [
    "a.dtypes"
   ]
  },
  {
   "cell_type": "code",
   "execution_count": 10,
   "id": "43f674cf",
   "metadata": {},
   "outputs": [
    {
     "data": {
      "text/plain": [
       "emp_dept_key    object\n",
       "salary           int64\n",
       "dtype: object"
      ]
     },
     "execution_count": 10,
     "metadata": {},
     "output_type": "execute_result"
    }
   ],
   "source": [
    "c.dtypes"
   ]
  },
  {
   "cell_type": "markdown",
   "id": "a79b516a",
   "metadata": {},
   "source": [
    "## Change the data types accordingly. \n",
    "\n",
    "• emp_no, dept_no, dept_name, location, emp_depy_key should all be string data types\n",
    "\n",
    "• hire_date and leaving_date should be datetime64\n",
    "\n",
    "• salary should be int64"
   ]
  },
  {
   "cell_type": "code",
   "execution_count": 11,
   "id": "0285e888",
   "metadata": {},
   "outputs": [],
   "source": [
    "a[['emp_no','dept_no']]=a[['emp_no','dept_no']].astype('string')"
   ]
  },
  {
   "cell_type": "code",
   "execution_count": 12,
   "id": "c6e0ad90",
   "metadata": {},
   "outputs": [],
   "source": [
    "b[['dept_name','location']]=b[['dept_name','location']].astype('string')"
   ]
  },
  {
   "cell_type": "code",
   "execution_count": 13,
   "id": "c46cfe06",
   "metadata": {},
   "outputs": [],
   "source": [
    "c['emp_dept_key'] = c['emp_dept_key'].astype('string')"
   ]
  },
  {
   "cell_type": "markdown",
   "id": "65d13808",
   "metadata": {},
   "source": [
    "## How many employees are currently working at the company. \n",
    "\n",
    "The employees still employed do not have a leaving date value. You can use the isnull() method to identify nulls or NaN values.\n",
    "\n",
    "isnull(): https://pandas.pydata.org/docs/reference/api/pandas.isnull.html"
   ]
  },
  {
   "cell_type": "code",
   "execution_count": 14,
   "id": "343c7b8a",
   "metadata": {},
   "outputs": [
    {
     "data": {
      "text/plain": [
       "1000"
      ]
     },
     "execution_count": 14,
     "metadata": {},
     "output_type": "execute_result"
    }
   ],
   "source": [
    "a['leaving_date'].isnull().count()"
   ]
  },
  {
   "cell_type": "code",
   "execution_count": null,
   "id": "f0d6631f",
   "metadata": {},
   "outputs": [],
   "source": []
  },
  {
   "cell_type": "markdown",
   "id": "c85c8194",
   "metadata": {},
   "source": [
    "## How many currently employed people are there per department."
   ]
  },
  {
   "cell_type": "code",
   "execution_count": 17,
   "id": "6da2fef3",
   "metadata": {},
   "outputs": [
    {
     "data": {
      "text/plain": [
       "dept_no\n",
       "D1     84\n",
       "D2     36\n",
       "D3     94\n",
       "D4    171\n",
       "D5    188\n",
       "D6    168\n",
       "Name: emp_no, dtype: int64"
      ]
     },
     "execution_count": 17,
     "metadata": {},
     "output_type": "execute_result"
    }
   ],
   "source": [
    "current_emp = a[a['leaving_date'].isnull() == True]\n",
    "current_emp.groupby(by='dept_no').count()['emp_no']"
   ]
  },
  {
   "cell_type": "code",
   "execution_count": null,
   "id": "32e29479",
   "metadata": {},
   "outputs": [],
   "source": []
  },
  {
   "cell_type": "markdown",
   "id": "33c444c9",
   "metadata": {},
   "source": [
    "## Perform a left join on the emp and dept DataFrames (with emp as the left DF). Assign the result of this to the variable emp_dept"
   ]
  },
  {
   "cell_type": "code",
   "execution_count": 18,
   "id": "303407ee",
   "metadata": {},
   "outputs": [],
   "source": [
    "emp_dept = pd.merge(left=a,right=b,left_on='dept_no', right_on = 'dept_no', how='left')"
   ]
  },
  {
   "cell_type": "code",
   "execution_count": 19,
   "id": "8d3211be",
   "metadata": {},
   "outputs": [
    {
     "data": {
      "text/html": [
       "<div>\n",
       "<style scoped>\n",
       "    .dataframe tbody tr th:only-of-type {\n",
       "        vertical-align: middle;\n",
       "    }\n",
       "\n",
       "    .dataframe tbody tr th {\n",
       "        vertical-align: top;\n",
       "    }\n",
       "\n",
       "    .dataframe thead th {\n",
       "        text-align: right;\n",
       "    }\n",
       "</style>\n",
       "<table border=\"1\" class=\"dataframe\">\n",
       "  <thead>\n",
       "    <tr style=\"text-align: right;\">\n",
       "      <th></th>\n",
       "      <th>emp_no</th>\n",
       "      <th>dept_no</th>\n",
       "      <th>hire_date</th>\n",
       "      <th>leaving_date</th>\n",
       "      <th>dept_name</th>\n",
       "      <th>location</th>\n",
       "    </tr>\n",
       "  </thead>\n",
       "  <tbody>\n",
       "    <tr>\n",
       "      <th>0</th>\n",
       "      <td>10001</td>\n",
       "      <td>D5</td>\n",
       "      <td>26/06/2006</td>\n",
       "      <td>NaN</td>\n",
       "      <td>Technology</td>\n",
       "      <td>Chicago</td>\n",
       "    </tr>\n",
       "    <tr>\n",
       "      <th>1</th>\n",
       "      <td>10002</td>\n",
       "      <td>D6</td>\n",
       "      <td>21/11/2005</td>\n",
       "      <td>NaN</td>\n",
       "      <td>Sales</td>\n",
       "      <td>Chicago</td>\n",
       "    </tr>\n",
       "    <tr>\n",
       "      <th>2</th>\n",
       "      <td>10003</td>\n",
       "      <td>D4</td>\n",
       "      <td>28/08/2006</td>\n",
       "      <td>NaN</td>\n",
       "      <td>Marketing</td>\n",
       "      <td>New York</td>\n",
       "    </tr>\n",
       "    <tr>\n",
       "      <th>3</th>\n",
       "      <td>10004</td>\n",
       "      <td>D4</td>\n",
       "      <td>01/12/2006</td>\n",
       "      <td>NaN</td>\n",
       "      <td>Marketing</td>\n",
       "      <td>New York</td>\n",
       "    </tr>\n",
       "    <tr>\n",
       "      <th>4</th>\n",
       "      <td>10005</td>\n",
       "      <td>D3</td>\n",
       "      <td>12/09/2009</td>\n",
       "      <td>NaN</td>\n",
       "      <td>Supply Chain Operations</td>\n",
       "      <td>Chicago</td>\n",
       "    </tr>\n",
       "    <tr>\n",
       "      <th>...</th>\n",
       "      <td>...</td>\n",
       "      <td>...</td>\n",
       "      <td>...</td>\n",
       "      <td>...</td>\n",
       "      <td>...</td>\n",
       "      <td>...</td>\n",
       "    </tr>\n",
       "    <tr>\n",
       "      <th>995</th>\n",
       "      <td>10903</td>\n",
       "      <td>D1</td>\n",
       "      <td>14/02/2009</td>\n",
       "      <td>NaN</td>\n",
       "      <td>Accounting and Finance</td>\n",
       "      <td>Chicago</td>\n",
       "    </tr>\n",
       "    <tr>\n",
       "      <th>996</th>\n",
       "      <td>10904</td>\n",
       "      <td>D5</td>\n",
       "      <td>16/04/2013</td>\n",
       "      <td>NaN</td>\n",
       "      <td>Technology</td>\n",
       "      <td>Chicago</td>\n",
       "    </tr>\n",
       "    <tr>\n",
       "      <th>997</th>\n",
       "      <td>10905</td>\n",
       "      <td>D4</td>\n",
       "      <td>28/02/2005</td>\n",
       "      <td>07/03/2006</td>\n",
       "      <td>Marketing</td>\n",
       "      <td>New York</td>\n",
       "    </tr>\n",
       "    <tr>\n",
       "      <th>998</th>\n",
       "      <td>10906</td>\n",
       "      <td>D2</td>\n",
       "      <td>20/01/2014</td>\n",
       "      <td>25/04/2021</td>\n",
       "      <td>Human Resources</td>\n",
       "      <td>New York</td>\n",
       "    </tr>\n",
       "    <tr>\n",
       "      <th>999</th>\n",
       "      <td>10906</td>\n",
       "      <td>D6</td>\n",
       "      <td>20/01/2014</td>\n",
       "      <td>NaN</td>\n",
       "      <td>Sales</td>\n",
       "      <td>Chicago</td>\n",
       "    </tr>\n",
       "  </tbody>\n",
       "</table>\n",
       "<p>1000 rows × 6 columns</p>\n",
       "</div>"
      ],
      "text/plain": [
       "    emp_no dept_no   hire_date leaving_date                dept_name  location\n",
       "0    10001      D5  26/06/2006          NaN               Technology   Chicago\n",
       "1    10002      D6  21/11/2005          NaN                    Sales   Chicago\n",
       "2    10003      D4  28/08/2006          NaN                Marketing  New York\n",
       "3    10004      D4  01/12/2006          NaN                Marketing  New York\n",
       "4    10005      D3  12/09/2009          NaN  Supply Chain Operations   Chicago\n",
       "..     ...     ...         ...          ...                      ...       ...\n",
       "995  10903      D1  14/02/2009          NaN   Accounting and Finance   Chicago\n",
       "996  10904      D5  16/04/2013          NaN               Technology   Chicago\n",
       "997  10905      D4  28/02/2005   07/03/2006                Marketing  New York\n",
       "998  10906      D2  20/01/2014   25/04/2021          Human Resources  New York\n",
       "999  10906      D6  20/01/2014          NaN                    Sales   Chicago\n",
       "\n",
       "[1000 rows x 6 columns]"
      ]
     },
     "execution_count": 19,
     "metadata": {},
     "output_type": "execute_result"
    }
   ],
   "source": [
    "emp_dept"
   ]
  },
  {
   "cell_type": "markdown",
   "id": "7a05b996",
   "metadata": {},
   "source": [
    "## Perform a left join on the newly created \"emp_dept\" DataFrame and the \"sal\" DataFrame. \n",
    "## Assign this resulting DataFrame to the variable \"emp_dept_sal\"\n",
    "\n",
    "• You will need to think about how to join the two tables. Note the emp_dept_key on the sal DataFrame is in the format 'emp_id-dept_id'"
   ]
  },
  {
   "cell_type": "code",
   "execution_count": 21,
   "id": "0f50b1b1",
   "metadata": {},
   "outputs": [],
   "source": [
    "c['emp_no']=c['emp_dept_key'].apply(lambda x: x[:5])\n",
    "emp_dept_sal=pd.merge(left=emp_dept,right=c,how='left',right_on='emp_no',left_on='emp_no')"
   ]
  },
  {
   "cell_type": "code",
   "execution_count": null,
   "id": "4c72421f",
   "metadata": {},
   "outputs": [],
   "source": []
  },
  {
   "cell_type": "markdown",
   "id": "9b12e62d",
   "metadata": {},
   "source": [
    "## Drop the column \"emp_dept_key\""
   ]
  },
  {
   "cell_type": "code",
   "execution_count": 22,
   "id": "52f59025",
   "metadata": {},
   "outputs": [],
   "source": [
    "emp_dept_sal.drop(columns='emp_dept_key',inplace=True)"
   ]
  },
  {
   "cell_type": "code",
   "execution_count": null,
   "id": "a3c7cf1f",
   "metadata": {},
   "outputs": [],
   "source": []
  },
  {
   "cell_type": "markdown",
   "id": "2508f97b",
   "metadata": {},
   "source": [
    "## What is the average salary per department?"
   ]
  },
  {
   "cell_type": "code",
   "execution_count": 23,
   "id": "081517c0",
   "metadata": {},
   "outputs": [
    {
     "data": {
      "text/html": [
       "<div>\n",
       "<style scoped>\n",
       "    .dataframe tbody tr th:only-of-type {\n",
       "        vertical-align: middle;\n",
       "    }\n",
       "\n",
       "    .dataframe tbody tr th {\n",
       "        vertical-align: top;\n",
       "    }\n",
       "\n",
       "    .dataframe thead th {\n",
       "        text-align: right;\n",
       "    }\n",
       "</style>\n",
       "<table border=\"1\" class=\"dataframe\">\n",
       "  <thead>\n",
       "    <tr style=\"text-align: right;\">\n",
       "      <th></th>\n",
       "      <th>salary</th>\n",
       "    </tr>\n",
       "    <tr>\n",
       "      <th>dept_name</th>\n",
       "      <th></th>\n",
       "    </tr>\n",
       "  </thead>\n",
       "  <tbody>\n",
       "    <tr>\n",
       "      <th>Accounting and Finance</th>\n",
       "      <td>52148.887324</td>\n",
       "    </tr>\n",
       "    <tr>\n",
       "      <th>Human Resources</th>\n",
       "      <td>44849.602740</td>\n",
       "    </tr>\n",
       "    <tr>\n",
       "      <th>Marketing</th>\n",
       "      <td>41540.041985</td>\n",
       "    </tr>\n",
       "    <tr>\n",
       "      <th>Sales</th>\n",
       "      <td>59192.053640</td>\n",
       "    </tr>\n",
       "    <tr>\n",
       "      <th>Supply Chain Operations</th>\n",
       "      <td>45183.788462</td>\n",
       "    </tr>\n",
       "    <tr>\n",
       "      <th>Technology</th>\n",
       "      <td>58975.979592</td>\n",
       "    </tr>\n",
       "  </tbody>\n",
       "</table>\n",
       "</div>"
      ],
      "text/plain": [
       "                               salary\n",
       "dept_name                            \n",
       "Accounting and Finance   52148.887324\n",
       "Human Resources          44849.602740\n",
       "Marketing                41540.041985\n",
       "Sales                    59192.053640\n",
       "Supply Chain Operations  45183.788462\n",
       "Technology               58975.979592"
      ]
     },
     "execution_count": 23,
     "metadata": {},
     "output_type": "execute_result"
    }
   ],
   "source": [
    "emp_dept_sal[['dept_name','salary']].groupby(by='dept_name').mean()"
   ]
  },
  {
   "cell_type": "code",
   "execution_count": null,
   "id": "67db2738",
   "metadata": {},
   "outputs": [],
   "source": []
  },
  {
   "cell_type": "markdown",
   "id": "41a888e9",
   "metadata": {},
   "source": [
    "## What is the average salary by location?"
   ]
  },
  {
   "cell_type": "code",
   "execution_count": 24,
   "id": "77f7e365",
   "metadata": {},
   "outputs": [
    {
     "data": {
      "text/html": [
       "<div>\n",
       "<style scoped>\n",
       "    .dataframe tbody tr th:only-of-type {\n",
       "        vertical-align: middle;\n",
       "    }\n",
       "\n",
       "    .dataframe tbody tr th {\n",
       "        vertical-align: top;\n",
       "    }\n",
       "\n",
       "    .dataframe thead th {\n",
       "        text-align: right;\n",
       "    }\n",
       "</style>\n",
       "<table border=\"1\" class=\"dataframe\">\n",
       "  <thead>\n",
       "    <tr style=\"text-align: right;\">\n",
       "      <th></th>\n",
       "      <th>salary</th>\n",
       "    </tr>\n",
       "    <tr>\n",
       "      <th>location</th>\n",
       "      <th></th>\n",
       "    </tr>\n",
       "  </thead>\n",
       "  <tbody>\n",
       "    <tr>\n",
       "      <th>Chicago</th>\n",
       "      <td>55383.208675</td>\n",
       "    </tr>\n",
       "    <tr>\n",
       "      <th>New York</th>\n",
       "      <td>42261.229851</td>\n",
       "    </tr>\n",
       "  </tbody>\n",
       "</table>\n",
       "</div>"
      ],
      "text/plain": [
       "                salary\n",
       "location              \n",
       "Chicago   55383.208675\n",
       "New York  42261.229851"
      ]
     },
     "execution_count": 24,
     "metadata": {},
     "output_type": "execute_result"
    }
   ],
   "source": [
    "emp_dept_sal[['location','salary']].groupby(by='location').mean()"
   ]
  },
  {
   "cell_type": "code",
   "execution_count": null,
   "id": "f15d65b3",
   "metadata": {},
   "outputs": [],
   "source": []
  },
  {
   "cell_type": "markdown",
   "id": "a353f8f3",
   "metadata": {},
   "source": [
    "## How many people were hired each year in each of the last 10 years?"
   ]
  },
  {
   "cell_type": "code",
   "execution_count": null,
   "id": "ea18f2ed",
   "metadata": {},
   "outputs": [],
   "source": []
  },
  {
   "cell_type": "code",
   "execution_count": null,
   "id": "f7f061b9",
   "metadata": {},
   "outputs": [],
   "source": []
  }
 ],
 "metadata": {
  "kernelspec": {
   "display_name": "Python 3.9.10 64-bit",
   "language": "python",
   "name": "python3"
  },
  "language_info": {
   "codemirror_mode": {
    "name": "ipython",
    "version": 3
   },
   "file_extension": ".py",
   "mimetype": "text/x-python",
   "name": "python",
   "nbconvert_exporter": "python",
   "pygments_lexer": "ipython3",
   "version": "3.9.10"
  },
  "vscode": {
   "interpreter": {
    "hash": "25034407fed5d681614dac11a1c0537e8cb49e3a8883c071303eea01322943d9"
   }
  }
 },
 "nbformat": 4,
 "nbformat_minor": 5
}
