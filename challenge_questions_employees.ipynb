{
 "cells": [
  {
   "cell_type": "markdown",
   "id": "fad1607b",
   "metadata": {},
   "source": [
    "# Challenge Questions - Employees Dataset"
   ]
  },
  {
   "cell_type": "markdown",
   "id": "357a4035",
   "metadata": {},
   "source": [
    "# Instructions:\n",
    "• Please ensure you don't overwrite any existing cells. Add new cells below by pressing ALT+ENTER\n",
    "\n",
    "• Attempt all of the questions\n",
    "\n",
    "• You are encouraged to look online for help should you need it"
   ]
  },
  {
   "cell_type": "markdown",
   "id": "0797ec9a",
   "metadata": {},
   "source": [
    "# Dataset overview:\n",
    "There are three csv files containing tables stored in the same directory as this Notebook, they are all related to each other:\n",
    "\n",
    "• **employees.csv**: contains information about employees in a company. It contains their unique employee number (emp_no), their department number (dept_no), their hire date (hire_date) and their leaving date (leaving_date). The leaving date is blank if the employee is still employed by the company\n",
    "\n",
    "• **departments.csv**: This contains information about the departments in a company. It contains the deparment number (dept_no), the department name (dept_name) and location.\n",
    "\n",
    "• **salaries.csv**: This file contains the salaries of the employees. It contains a unique employee department key (emp_dept_key) and the salary. The emp_dept_key is in the format 'emp_id-dept_id'\n"
   ]
  },
  {
   "cell_type": "markdown",
   "id": "a216156e",
   "metadata": {},
   "source": [
    "# "
   ]
  },
  {
   "cell_type": "markdown",
   "id": "620b8fa0",
   "metadata": {},
   "source": [
    "## Import pandas, numpy and datetime"
   ]
  },
  {
   "cell_type": "code",
   "execution_count": null,
   "id": "07f42443",
   "metadata": {},
   "outputs": [],
   "source": []
  },
  {
   "cell_type": "code",
   "execution_count": null,
   "id": "651723ec",
   "metadata": {},
   "outputs": [],
   "source": []
  },
  {
   "cell_type": "markdown",
   "id": "8a051f6a",
   "metadata": {},
   "source": [
    "## Load the files:\n",
    "• \"employees.csv\" should be assigned to the variable **emp**\n",
    "\n",
    "• \"departments.csv\" should be assigned to the variable **dept**\n",
    "\n",
    "• \"salaries.csv\" should be assigned to the variable **sal**"
   ]
  },
  {
   "cell_type": "code",
   "execution_count": null,
   "id": "e8a11608",
   "metadata": {},
   "outputs": [],
   "source": []
  },
  {
   "cell_type": "code",
   "execution_count": null,
   "id": "76486a7a",
   "metadata": {},
   "outputs": [],
   "source": []
  },
  {
   "cell_type": "markdown",
   "id": "8fb32dec",
   "metadata": {},
   "source": [
    "## Check the head of all three DataFrames"
   ]
  },
  {
   "cell_type": "code",
   "execution_count": null,
   "id": "93668121",
   "metadata": {},
   "outputs": [],
   "source": []
  },
  {
   "cell_type": "code",
   "execution_count": null,
   "id": "0341f14a",
   "metadata": {},
   "outputs": [],
   "source": []
  },
  {
   "cell_type": "markdown",
   "id": "28da5020",
   "metadata": {},
   "source": [
    "## Check the data types of all three DataFrames"
   ]
  },
  {
   "cell_type": "code",
   "execution_count": null,
   "id": "6a2abc46",
   "metadata": {},
   "outputs": [],
   "source": []
  },
  {
   "cell_type": "code",
   "execution_count": null,
   "id": "044a7762",
   "metadata": {},
   "outputs": [],
   "source": []
  },
  {
   "cell_type": "markdown",
   "id": "a79b516a",
   "metadata": {},
   "source": [
    "## Change the data types accordingly. \n",
    "\n",
    "• emp_no, dept_no, dept_name, location, emp_depy_key should all be string data types\n",
    "\n",
    "• hire_date and leaving_date should be datetime64\n",
    "\n",
    "• salary should be int64"
   ]
  },
  {
   "cell_type": "code",
   "execution_count": null,
   "id": "0285e888",
   "metadata": {},
   "outputs": [],
   "source": []
  },
  {
   "cell_type": "code",
   "execution_count": null,
   "id": "c6e0ad90",
   "metadata": {},
   "outputs": [],
   "source": []
  },
  {
   "cell_type": "markdown",
   "id": "65d13808",
   "metadata": {},
   "source": [
    "## How many employees are currently working at the company. \n",
    "\n",
    "The employees still employed do not have a leaving date value. You can use the isnull() method to identify nulls or NaN values.\n",
    "\n",
    "isnull(): https://pandas.pydata.org/docs/reference/api/pandas.isnull.html"
   ]
  },
  {
   "cell_type": "code",
   "execution_count": null,
   "id": "343c7b8a",
   "metadata": {},
   "outputs": [],
   "source": []
  },
  {
   "cell_type": "code",
   "execution_count": null,
   "id": "f0d6631f",
   "metadata": {},
   "outputs": [],
   "source": []
  },
  {
   "cell_type": "markdown",
   "id": "c85c8194",
   "metadata": {},
   "source": [
    "## How many currently employed people are there per department."
   ]
  },
  {
   "cell_type": "code",
   "execution_count": null,
   "id": "6da2fef3",
   "metadata": {},
   "outputs": [],
   "source": []
  },
  {
   "cell_type": "code",
   "execution_count": null,
   "id": "32e29479",
   "metadata": {},
   "outputs": [],
   "source": []
  },
  {
   "cell_type": "markdown",
   "id": "33c444c9",
   "metadata": {},
   "source": [
    "## Perform a left join on the emp and dept DataFrames (with emp as the left DF). Assign the result of this to the variable emp_dept"
   ]
  },
  {
   "cell_type": "code",
   "execution_count": null,
   "id": "303407ee",
   "metadata": {},
   "outputs": [],
   "source": []
  },
  {
   "cell_type": "code",
   "execution_count": null,
   "id": "8d3211be",
   "metadata": {},
   "outputs": [],
   "source": []
  },
  {
   "cell_type": "markdown",
   "id": "7a05b996",
   "metadata": {},
   "source": [
    "## Perform a left join on the newly created \"emp_dept\" DataFrame and the \"sal\" DataFrame. \n",
    "## Assign this resulting DataFrame to the variable \"emp_dept_sal\"\n",
    "\n",
    "• You will need to think about how to join the two tables. Note the emp_dept_key on the sal DataFrame is in the format 'emp_id-dept_id'"
   ]
  },
  {
   "cell_type": "code",
   "execution_count": null,
   "id": "0f50b1b1",
   "metadata": {},
   "outputs": [],
   "source": []
  },
  {
   "cell_type": "code",
   "execution_count": null,
   "id": "4c72421f",
   "metadata": {},
   "outputs": [],
   "source": []
  },
  {
   "cell_type": "markdown",
   "id": "9b12e62d",
   "metadata": {},
   "source": [
    "## Drop the column \"emp_dept_key\""
   ]
  },
  {
   "cell_type": "code",
   "execution_count": null,
   "id": "52f59025",
   "metadata": {},
   "outputs": [],
   "source": []
  },
  {
   "cell_type": "code",
   "execution_count": null,
   "id": "a3c7cf1f",
   "metadata": {},
   "outputs": [],
   "source": []
  },
  {
   "cell_type": "markdown",
   "id": "2508f97b",
   "metadata": {},
   "source": [
    "## What is the average salary per department?"
   ]
  },
  {
   "cell_type": "code",
   "execution_count": null,
   "id": "081517c0",
   "metadata": {},
   "outputs": [],
   "source": []
  },
  {
   "cell_type": "code",
   "execution_count": null,
   "id": "67db2738",
   "metadata": {},
   "outputs": [],
   "source": []
  },
  {
   "cell_type": "markdown",
   "id": "41a888e9",
   "metadata": {},
   "source": [
    "## What is the average salary by location?"
   ]
  },
  {
   "cell_type": "code",
   "execution_count": null,
   "id": "77f7e365",
   "metadata": {},
   "outputs": [],
   "source": []
  },
  {
   "cell_type": "code",
   "execution_count": null,
   "id": "f15d65b3",
   "metadata": {},
   "outputs": [],
   "source": []
  },
  {
   "cell_type": "markdown",
   "id": "a353f8f3",
   "metadata": {},
   "source": [
    "## How many people were hired each year in each of the last 10 years?"
   ]
  },
  {
   "cell_type": "code",
   "execution_count": null,
   "id": "ea18f2ed",
   "metadata": {},
   "outputs": [],
   "source": []
  },
  {
   "cell_type": "code",
   "execution_count": null,
   "id": "f7f061b9",
   "metadata": {},
   "outputs": [],
   "source": []
  }
 ],
 "metadata": {
  "kernelspec": {
   "display_name": "Python 3 (ipykernel)",
   "language": "python",
   "name": "python3"
  },
  "language_info": {
   "codemirror_mode": {
    "name": "ipython",
    "version": 3
   },
   "file_extension": ".py",
   "mimetype": "text/x-python",
   "name": "python",
   "nbconvert_exporter": "python",
   "pygments_lexer": "ipython3",
   "version": "3.9.7"
  }
 },
 "nbformat": 4,
 "nbformat_minor": 5
}
