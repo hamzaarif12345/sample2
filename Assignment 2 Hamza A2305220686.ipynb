{
 "cells": [
  {
   "cell_type": "markdown",
   "metadata": {},
   "source": [
    "                                                    EDA ANALYSIS FOR THE COMPANY"
   ]
  },
  {
   "cell_type": "markdown",
   "metadata": {},
   "source": [
    "We will follow the steps below to perform EDA analysis on the company data:\n",
    "1. Data manipulation:\n",
    "\n",
    "    a. Importing the data\n",
    "    \n",
    "    b. Data duplicacy check\n",
    "\n",
    "    c. Dropping unwanted columns\n",
    "\n",
    "2. Data blending\n",
    "\n",
    "3. Missing values handling:\n",
    "\n",
    "    a. Missing values check\n",
    "    \n",
    "    b. Missing values imputation\n",
    "\n",
    "4. Feature generation:\n",
    "\n",
    "    a. Feature engineering\n",
    "    \n",
    "    b. Feature selection\n",
    "\n",
    "5. Dimensionality reduction:\n",
    "\n",
    "    a. Dimensionality reduction\n",
    "    \n",
    "    b. Feature selection\n",
    "\n",
    "6. Outlier removal:\n",
    "\n",
    "    a. Outlier removal\n",
    "    \n",
    "    b. Feature selection\n",
    "\n",
    "7. Normalization:\n",
    "\n",
    "    a. Normalization\n",
    "    \n",
    "    b. Feature selection\n",
    "\n",
    "8. Paritioning:\n",
    "\n",
    "    a. Partitioning\n",
    "    \n",
    "    b. Feature selection\n",
    "\n",
    "*These steps according to dataset can be changed in accordance to buisness objective.*"
   ]
  },
  {
   "cell_type": "markdown",
   "metadata": {},
   "source": [
    "                                                        DATA MANIPULATION"
   ]
  },
  {
   "cell_type": "code",
   "execution_count": 1,
   "metadata": {},
   "outputs": [],
   "source": [
    "import pandas as pd\n",
    "import numpy as np\n",
    "import matplotlib.pyplot as plt\n",
    "import seaborn as sns\n",
    "import warnings"
   ]
  },
  {
   "cell_type": "code",
   "execution_count": 2,
   "metadata": {},
   "outputs": [],
   "source": [
    "data=pd.read_csv(r\"C:\\programming languages\\Data science\\Assignment-2\\loan.csv\",engine='python')\n",
    "data2=pd.read_excel(r\"C:\\programming languages\\Data science\\Assignment-2\\Data_Dictionary.xlsx\")"
   ]
  },
  {
   "cell_type": "code",
   "execution_count": 3,
   "metadata": {},
   "outputs": [
    {
     "data": {
      "text/html": [
       "<div>\n",
       "<style scoped>\n",
       "    .dataframe tbody tr th:only-of-type {\n",
       "        vertical-align: middle;\n",
       "    }\n",
       "\n",
       "    .dataframe tbody tr th {\n",
       "        vertical-align: top;\n",
       "    }\n",
       "\n",
       "    .dataframe thead th {\n",
       "        text-align: right;\n",
       "    }\n",
       "</style>\n",
       "<table border=\"1\" class=\"dataframe\">\n",
       "  <thead>\n",
       "    <tr style=\"text-align: right;\">\n",
       "      <th></th>\n",
       "      <th>id</th>\n",
       "      <th>member_id</th>\n",
       "      <th>loan_amnt</th>\n",
       "      <th>funded_amnt</th>\n",
       "      <th>funded_amnt_inv</th>\n",
       "      <th>term</th>\n",
       "      <th>int_rate</th>\n",
       "      <th>installment</th>\n",
       "      <th>grade</th>\n",
       "      <th>sub_grade</th>\n",
       "      <th>...</th>\n",
       "      <th>num_tl_90g_dpd_24m</th>\n",
       "      <th>num_tl_op_past_12m</th>\n",
       "      <th>pct_tl_nvr_dlq</th>\n",
       "      <th>percent_bc_gt_75</th>\n",
       "      <th>pub_rec_bankruptcies</th>\n",
       "      <th>tax_liens</th>\n",
       "      <th>tot_hi_cred_lim</th>\n",
       "      <th>total_bal_ex_mort</th>\n",
       "      <th>total_bc_limit</th>\n",
       "      <th>total_il_high_credit_limit</th>\n",
       "    </tr>\n",
       "  </thead>\n",
       "  <tbody>\n",
       "    <tr>\n",
       "      <th>0</th>\n",
       "      <td>1077501</td>\n",
       "      <td>1296599</td>\n",
       "      <td>5000</td>\n",
       "      <td>5000</td>\n",
       "      <td>4975.0</td>\n",
       "      <td>36 months</td>\n",
       "      <td>10.65%</td>\n",
       "      <td>162.87</td>\n",
       "      <td>B</td>\n",
       "      <td>B2</td>\n",
       "      <td>...</td>\n",
       "      <td>NaN</td>\n",
       "      <td>NaN</td>\n",
       "      <td>NaN</td>\n",
       "      <td>NaN</td>\n",
       "      <td>0.0</td>\n",
       "      <td>0.0</td>\n",
       "      <td>NaN</td>\n",
       "      <td>NaN</td>\n",
       "      <td>NaN</td>\n",
       "      <td>NaN</td>\n",
       "    </tr>\n",
       "    <tr>\n",
       "      <th>1</th>\n",
       "      <td>1077430</td>\n",
       "      <td>1314167</td>\n",
       "      <td>2500</td>\n",
       "      <td>2500</td>\n",
       "      <td>2500.0</td>\n",
       "      <td>60 months</td>\n",
       "      <td>15.27%</td>\n",
       "      <td>59.83</td>\n",
       "      <td>C</td>\n",
       "      <td>C4</td>\n",
       "      <td>...</td>\n",
       "      <td>NaN</td>\n",
       "      <td>NaN</td>\n",
       "      <td>NaN</td>\n",
       "      <td>NaN</td>\n",
       "      <td>0.0</td>\n",
       "      <td>0.0</td>\n",
       "      <td>NaN</td>\n",
       "      <td>NaN</td>\n",
       "      <td>NaN</td>\n",
       "      <td>NaN</td>\n",
       "    </tr>\n",
       "    <tr>\n",
       "      <th>2</th>\n",
       "      <td>1077175</td>\n",
       "      <td>1313524</td>\n",
       "      <td>2400</td>\n",
       "      <td>2400</td>\n",
       "      <td>2400.0</td>\n",
       "      <td>36 months</td>\n",
       "      <td>15.96%</td>\n",
       "      <td>84.33</td>\n",
       "      <td>C</td>\n",
       "      <td>C5</td>\n",
       "      <td>...</td>\n",
       "      <td>NaN</td>\n",
       "      <td>NaN</td>\n",
       "      <td>NaN</td>\n",
       "      <td>NaN</td>\n",
       "      <td>0.0</td>\n",
       "      <td>0.0</td>\n",
       "      <td>NaN</td>\n",
       "      <td>NaN</td>\n",
       "      <td>NaN</td>\n",
       "      <td>NaN</td>\n",
       "    </tr>\n",
       "    <tr>\n",
       "      <th>3</th>\n",
       "      <td>1076863</td>\n",
       "      <td>1277178</td>\n",
       "      <td>10000</td>\n",
       "      <td>10000</td>\n",
       "      <td>10000.0</td>\n",
       "      <td>36 months</td>\n",
       "      <td>13.49%</td>\n",
       "      <td>339.31</td>\n",
       "      <td>C</td>\n",
       "      <td>C1</td>\n",
       "      <td>...</td>\n",
       "      <td>NaN</td>\n",
       "      <td>NaN</td>\n",
       "      <td>NaN</td>\n",
       "      <td>NaN</td>\n",
       "      <td>0.0</td>\n",
       "      <td>0.0</td>\n",
       "      <td>NaN</td>\n",
       "      <td>NaN</td>\n",
       "      <td>NaN</td>\n",
       "      <td>NaN</td>\n",
       "    </tr>\n",
       "    <tr>\n",
       "      <th>4</th>\n",
       "      <td>1075358</td>\n",
       "      <td>1311748</td>\n",
       "      <td>3000</td>\n",
       "      <td>3000</td>\n",
       "      <td>3000.0</td>\n",
       "      <td>60 months</td>\n",
       "      <td>12.69%</td>\n",
       "      <td>67.79</td>\n",
       "      <td>B</td>\n",
       "      <td>B5</td>\n",
       "      <td>...</td>\n",
       "      <td>NaN</td>\n",
       "      <td>NaN</td>\n",
       "      <td>NaN</td>\n",
       "      <td>NaN</td>\n",
       "      <td>0.0</td>\n",
       "      <td>0.0</td>\n",
       "      <td>NaN</td>\n",
       "      <td>NaN</td>\n",
       "      <td>NaN</td>\n",
       "      <td>NaN</td>\n",
       "    </tr>\n",
       "  </tbody>\n",
       "</table>\n",
       "<p>5 rows × 111 columns</p>\n",
       "</div>"
      ],
      "text/plain": [
       "        id  member_id  loan_amnt  funded_amnt  funded_amnt_inv        term  \\\n",
       "0  1077501    1296599       5000         5000           4975.0   36 months   \n",
       "1  1077430    1314167       2500         2500           2500.0   60 months   \n",
       "2  1077175    1313524       2400         2400           2400.0   36 months   \n",
       "3  1076863    1277178      10000        10000          10000.0   36 months   \n",
       "4  1075358    1311748       3000         3000           3000.0   60 months   \n",
       "\n",
       "  int_rate  installment grade sub_grade  ... num_tl_90g_dpd_24m  \\\n",
       "0   10.65%       162.87     B        B2  ...                NaN   \n",
       "1   15.27%        59.83     C        C4  ...                NaN   \n",
       "2   15.96%        84.33     C        C5  ...                NaN   \n",
       "3   13.49%       339.31     C        C1  ...                NaN   \n",
       "4   12.69%        67.79     B        B5  ...                NaN   \n",
       "\n",
       "  num_tl_op_past_12m pct_tl_nvr_dlq  percent_bc_gt_75 pub_rec_bankruptcies  \\\n",
       "0                NaN            NaN               NaN                  0.0   \n",
       "1                NaN            NaN               NaN                  0.0   \n",
       "2                NaN            NaN               NaN                  0.0   \n",
       "3                NaN            NaN               NaN                  0.0   \n",
       "4                NaN            NaN               NaN                  0.0   \n",
       "\n",
       "  tax_liens tot_hi_cred_lim total_bal_ex_mort total_bc_limit  \\\n",
       "0       0.0             NaN               NaN            NaN   \n",
       "1       0.0             NaN               NaN            NaN   \n",
       "2       0.0             NaN               NaN            NaN   \n",
       "3       0.0             NaN               NaN            NaN   \n",
       "4       0.0             NaN               NaN            NaN   \n",
       "\n",
       "  total_il_high_credit_limit  \n",
       "0                        NaN  \n",
       "1                        NaN  \n",
       "2                        NaN  \n",
       "3                        NaN  \n",
       "4                        NaN  \n",
       "\n",
       "[5 rows x 111 columns]"
      ]
     },
     "execution_count": 3,
     "metadata": {},
     "output_type": "execute_result"
    }
   ],
   "source": [
    "data.head()"
   ]
  },
  {
   "cell_type": "code",
   "execution_count": 4,
   "metadata": {},
   "outputs": [
    {
     "name": "stdout",
     "output_type": "stream",
     "text": [
      "Number of rows   : 39717\n",
      "Number of columns: 111\n"
     ]
    }
   ],
   "source": [
    "#Shape of dataset\n",
    "print('Number of rows   :',data.shape[0])\n",
    "print('Number of columns:',data.shape[1])"
   ]
  },
  {
   "cell_type": "markdown",
   "metadata": {},
   "source": [
    "AS DATASET IS HUGE SO WE ARE CHECKING FOR DUPLICATES IF ANY"
   ]
  },
  {
   "cell_type": "code",
   "execution_count": 5,
   "metadata": {},
   "outputs": [
    {
     "name": "stdout",
     "output_type": "stream",
     "text": [
      "Data is clean\n"
     ]
    }
   ],
   "source": [
    "if(len(data)!=len(data.member_id.unique())):\n",
    "    print('Data is not clean')\n",
    "else:\n",
    "    print('Data is clean')"
   ]
  },
  {
   "cell_type": "markdown",
   "metadata": {},
   "source": [
    "DROPPING UNWANTED COLUMNS"
   ]
  },
  {
   "cell_type": "code",
   "execution_count": 6,
   "metadata": {},
   "outputs": [],
   "source": [
    "#dropping columns that are causing post loan problems to comapny\n",
    "#This is done to meet business requirements and to avoid giving loans to people who are not eligible for loan\n",
    "\n",
    "drop_cols = [\"delinq_2yrs\", \"revol_bal\", \"out_prncp\", \"total_pymnt\", \"total_rec_prncp\", \"total_rec_int\", \"total_rec_late_fee\",\n",
    "             \"recoveries\", \"collection_recovery_fee\", \"last_pymnt_d\", \"last_pymnt_amnt\", \"next_pymnt_d\", \"chargeoff_within_12_mths\"]\n",
    "data.drop(drop_cols, axis=1, inplace=True)"
   ]
  },
  {
   "cell_type": "code",
   "execution_count": 7,
   "metadata": {},
   "outputs": [],
   "source": [
    "#dropping columns of no use for analysis\n",
    "data.drop([\"id\", \"member_id\", \"funded_amnt\",\"emp_title\", \"url\", \"desc\", \"title\", \"zip_code\", \"out_prncp_inv\",\n",
    "           \"total_pymnt_inv\", \"last_credit_pull_d\", \"pub_rec_bankruptcies\"], axis=1, inplace=True)"
   ]
  },
  {
   "cell_type": "code",
   "execution_count": 8,
   "metadata": {},
   "outputs": [
    {
     "data": {
      "text/plain": [
       "(39717, 86)"
      ]
     },
     "execution_count": 8,
     "metadata": {},
     "output_type": "execute_result"
    }
   ],
   "source": [
    "data.shape"
   ]
  },
  {
   "cell_type": "markdown",
   "metadata": {},
   "source": [
    "Data blending is a technique to combine the data from different sources.\n",
    "\n",
    "But before doing so, we need to understand the data sources and the data types.\n",
    "\n",
    "Our data is already provided to us with full integrity so no need to check for new data"
   ]
  },
  {
   "cell_type": "markdown",
   "metadata": {},
   "source": [
    "                                                      MISSING VALUES HANDLING"
   ]
  },
  {
   "cell_type": "code",
   "execution_count": 9,
   "metadata": {},
   "outputs": [
    {
     "name": "stdout",
     "output_type": "stream",
     "text": [
      "Columns with missing values:\n"
     ]
    },
    {
     "data": {
      "text/html": [
       "<div>\n",
       "<style scoped>\n",
       "    .dataframe tbody tr th:only-of-type {\n",
       "        vertical-align: middle;\n",
       "    }\n",
       "\n",
       "    .dataframe tbody tr th {\n",
       "        vertical-align: top;\n",
       "    }\n",
       "\n",
       "    .dataframe thead th {\n",
       "        text-align: right;\n",
       "    }\n",
       "</style>\n",
       "<table border=\"1\" class=\"dataframe\">\n",
       "  <thead>\n",
       "    <tr style=\"text-align: right;\">\n",
       "      <th></th>\n",
       "      <th>Columns</th>\n",
       "      <th>Values</th>\n",
       "      <th>% null</th>\n",
       "    </tr>\n",
       "  </thead>\n",
       "  <tbody>\n",
       "    <tr>\n",
       "      <th>56</th>\n",
       "      <td>mo_sin_old_il_acct</td>\n",
       "      <td>39717</td>\n",
       "      <td>100.000000</td>\n",
       "    </tr>\n",
       "    <tr>\n",
       "      <th>70</th>\n",
       "      <td>num_il_tl</td>\n",
       "      <td>39717</td>\n",
       "      <td>100.000000</td>\n",
       "    </tr>\n",
       "    <tr>\n",
       "      <th>58</th>\n",
       "      <td>mo_sin_rcnt_rev_tl_op</td>\n",
       "      <td>39717</td>\n",
       "      <td>100.000000</td>\n",
       "    </tr>\n",
       "    <tr>\n",
       "      <th>59</th>\n",
       "      <td>mo_sin_rcnt_tl</td>\n",
       "      <td>39717</td>\n",
       "      <td>100.000000</td>\n",
       "    </tr>\n",
       "    <tr>\n",
       "      <th>60</th>\n",
       "      <td>mort_acc</td>\n",
       "      <td>39717</td>\n",
       "      <td>100.000000</td>\n",
       "    </tr>\n",
       "    <tr>\n",
       "      <th>61</th>\n",
       "      <td>mths_since_recent_bc</td>\n",
       "      <td>39717</td>\n",
       "      <td>100.000000</td>\n",
       "    </tr>\n",
       "    <tr>\n",
       "      <th>62</th>\n",
       "      <td>mths_since_recent_bc_dlq</td>\n",
       "      <td>39717</td>\n",
       "      <td>100.000000</td>\n",
       "    </tr>\n",
       "    <tr>\n",
       "      <th>63</th>\n",
       "      <td>mths_since_recent_inq</td>\n",
       "      <td>39717</td>\n",
       "      <td>100.000000</td>\n",
       "    </tr>\n",
       "    <tr>\n",
       "      <th>64</th>\n",
       "      <td>mths_since_recent_revol_delinq</td>\n",
       "      <td>39717</td>\n",
       "      <td>100.000000</td>\n",
       "    </tr>\n",
       "    <tr>\n",
       "      <th>65</th>\n",
       "      <td>num_accts_ever_120_pd</td>\n",
       "      <td>39717</td>\n",
       "      <td>100.000000</td>\n",
       "    </tr>\n",
       "    <tr>\n",
       "      <th>66</th>\n",
       "      <td>num_actv_bc_tl</td>\n",
       "      <td>39717</td>\n",
       "      <td>100.000000</td>\n",
       "    </tr>\n",
       "    <tr>\n",
       "      <th>67</th>\n",
       "      <td>num_actv_rev_tl</td>\n",
       "      <td>39717</td>\n",
       "      <td>100.000000</td>\n",
       "    </tr>\n",
       "    <tr>\n",
       "      <th>68</th>\n",
       "      <td>num_bc_sats</td>\n",
       "      <td>39717</td>\n",
       "      <td>100.000000</td>\n",
       "    </tr>\n",
       "    <tr>\n",
       "      <th>69</th>\n",
       "      <td>num_bc_tl</td>\n",
       "      <td>39717</td>\n",
       "      <td>100.000000</td>\n",
       "    </tr>\n",
       "    <tr>\n",
       "      <th>71</th>\n",
       "      <td>num_op_rev_tl</td>\n",
       "      <td>39717</td>\n",
       "      <td>100.000000</td>\n",
       "    </tr>\n",
       "    <tr>\n",
       "      <th>54</th>\n",
       "      <td>bc_util</td>\n",
       "      <td>39717</td>\n",
       "      <td>100.000000</td>\n",
       "    </tr>\n",
       "    <tr>\n",
       "      <th>72</th>\n",
       "      <td>num_rev_accts</td>\n",
       "      <td>39717</td>\n",
       "      <td>100.000000</td>\n",
       "    </tr>\n",
       "    <tr>\n",
       "      <th>73</th>\n",
       "      <td>num_rev_tl_bal_gt_0</td>\n",
       "      <td>39717</td>\n",
       "      <td>100.000000</td>\n",
       "    </tr>\n",
       "    <tr>\n",
       "      <th>74</th>\n",
       "      <td>num_sats</td>\n",
       "      <td>39717</td>\n",
       "      <td>100.000000</td>\n",
       "    </tr>\n",
       "    <tr>\n",
       "      <th>75</th>\n",
       "      <td>num_tl_120dpd_2m</td>\n",
       "      <td>39717</td>\n",
       "      <td>100.000000</td>\n",
       "    </tr>\n",
       "    <tr>\n",
       "      <th>76</th>\n",
       "      <td>num_tl_30dpd</td>\n",
       "      <td>39717</td>\n",
       "      <td>100.000000</td>\n",
       "    </tr>\n",
       "    <tr>\n",
       "      <th>77</th>\n",
       "      <td>num_tl_90g_dpd_24m</td>\n",
       "      <td>39717</td>\n",
       "      <td>100.000000</td>\n",
       "    </tr>\n",
       "    <tr>\n",
       "      <th>78</th>\n",
       "      <td>num_tl_op_past_12m</td>\n",
       "      <td>39717</td>\n",
       "      <td>100.000000</td>\n",
       "    </tr>\n",
       "    <tr>\n",
       "      <th>79</th>\n",
       "      <td>pct_tl_nvr_dlq</td>\n",
       "      <td>39717</td>\n",
       "      <td>100.000000</td>\n",
       "    </tr>\n",
       "    <tr>\n",
       "      <th>80</th>\n",
       "      <td>percent_bc_gt_75</td>\n",
       "      <td>39717</td>\n",
       "      <td>100.000000</td>\n",
       "    </tr>\n",
       "    <tr>\n",
       "      <th>82</th>\n",
       "      <td>tot_hi_cred_lim</td>\n",
       "      <td>39717</td>\n",
       "      <td>100.000000</td>\n",
       "    </tr>\n",
       "    <tr>\n",
       "      <th>83</th>\n",
       "      <td>total_bal_ex_mort</td>\n",
       "      <td>39717</td>\n",
       "      <td>100.000000</td>\n",
       "    </tr>\n",
       "    <tr>\n",
       "      <th>84</th>\n",
       "      <td>total_bc_limit</td>\n",
       "      <td>39717</td>\n",
       "      <td>100.000000</td>\n",
       "    </tr>\n",
       "    <tr>\n",
       "      <th>57</th>\n",
       "      <td>mo_sin_old_rev_tl_op</td>\n",
       "      <td>39717</td>\n",
       "      <td>100.000000</td>\n",
       "    </tr>\n",
       "    <tr>\n",
       "      <th>85</th>\n",
       "      <td>total_il_high_credit_limit</td>\n",
       "      <td>39717</td>\n",
       "      <td>100.000000</td>\n",
       "    </tr>\n",
       "    <tr>\n",
       "      <th>39</th>\n",
       "      <td>open_il_24m</td>\n",
       "      <td>39717</td>\n",
       "      <td>100.000000</td>\n",
       "    </tr>\n",
       "    <tr>\n",
       "      <th>41</th>\n",
       "      <td>total_bal_il</td>\n",
       "      <td>39717</td>\n",
       "      <td>100.000000</td>\n",
       "    </tr>\n",
       "    <tr>\n",
       "      <th>30</th>\n",
       "      <td>annual_inc_joint</td>\n",
       "      <td>39717</td>\n",
       "      <td>100.000000</td>\n",
       "    </tr>\n",
       "    <tr>\n",
       "      <th>31</th>\n",
       "      <td>dti_joint</td>\n",
       "      <td>39717</td>\n",
       "      <td>100.000000</td>\n",
       "    </tr>\n",
       "    <tr>\n",
       "      <th>32</th>\n",
       "      <td>verification_status_joint</td>\n",
       "      <td>39717</td>\n",
       "      <td>100.000000</td>\n",
       "    </tr>\n",
       "    <tr>\n",
       "      <th>34</th>\n",
       "      <td>tot_coll_amt</td>\n",
       "      <td>39717</td>\n",
       "      <td>100.000000</td>\n",
       "    </tr>\n",
       "    <tr>\n",
       "      <th>35</th>\n",
       "      <td>tot_cur_bal</td>\n",
       "      <td>39717</td>\n",
       "      <td>100.000000</td>\n",
       "    </tr>\n",
       "    <tr>\n",
       "      <th>36</th>\n",
       "      <td>open_acc_6m</td>\n",
       "      <td>39717</td>\n",
       "      <td>100.000000</td>\n",
       "    </tr>\n",
       "    <tr>\n",
       "      <th>37</th>\n",
       "      <td>open_il_6m</td>\n",
       "      <td>39717</td>\n",
       "      <td>100.000000</td>\n",
       "    </tr>\n",
       "    <tr>\n",
       "      <th>38</th>\n",
       "      <td>open_il_12m</td>\n",
       "      <td>39717</td>\n",
       "      <td>100.000000</td>\n",
       "    </tr>\n",
       "    <tr>\n",
       "      <th>53</th>\n",
       "      <td>bc_open_to_buy</td>\n",
       "      <td>39717</td>\n",
       "      <td>100.000000</td>\n",
       "    </tr>\n",
       "    <tr>\n",
       "      <th>40</th>\n",
       "      <td>mths_since_rcnt_il</td>\n",
       "      <td>39717</td>\n",
       "      <td>100.000000</td>\n",
       "    </tr>\n",
       "    <tr>\n",
       "      <th>42</th>\n",
       "      <td>il_util</td>\n",
       "      <td>39717</td>\n",
       "      <td>100.000000</td>\n",
       "    </tr>\n",
       "    <tr>\n",
       "      <th>43</th>\n",
       "      <td>open_rv_12m</td>\n",
       "      <td>39717</td>\n",
       "      <td>100.000000</td>\n",
       "    </tr>\n",
       "    <tr>\n",
       "      <th>44</th>\n",
       "      <td>open_rv_24m</td>\n",
       "      <td>39717</td>\n",
       "      <td>100.000000</td>\n",
       "    </tr>\n",
       "    <tr>\n",
       "      <th>45</th>\n",
       "      <td>max_bal_bc</td>\n",
       "      <td>39717</td>\n",
       "      <td>100.000000</td>\n",
       "    </tr>\n",
       "    <tr>\n",
       "      <th>46</th>\n",
       "      <td>all_util</td>\n",
       "      <td>39717</td>\n",
       "      <td>100.000000</td>\n",
       "    </tr>\n",
       "    <tr>\n",
       "      <th>47</th>\n",
       "      <td>total_rev_hi_lim</td>\n",
       "      <td>39717</td>\n",
       "      <td>100.000000</td>\n",
       "    </tr>\n",
       "    <tr>\n",
       "      <th>48</th>\n",
       "      <td>inq_fi</td>\n",
       "      <td>39717</td>\n",
       "      <td>100.000000</td>\n",
       "    </tr>\n",
       "    <tr>\n",
       "      <th>49</th>\n",
       "      <td>total_cu_tl</td>\n",
       "      <td>39717</td>\n",
       "      <td>100.000000</td>\n",
       "    </tr>\n",
       "    <tr>\n",
       "      <th>50</th>\n",
       "      <td>inq_last_12m</td>\n",
       "      <td>39717</td>\n",
       "      <td>100.000000</td>\n",
       "    </tr>\n",
       "    <tr>\n",
       "      <th>51</th>\n",
       "      <td>acc_open_past_24mths</td>\n",
       "      <td>39717</td>\n",
       "      <td>100.000000</td>\n",
       "    </tr>\n",
       "    <tr>\n",
       "      <th>52</th>\n",
       "      <td>avg_cur_bal</td>\n",
       "      <td>39717</td>\n",
       "      <td>100.000000</td>\n",
       "    </tr>\n",
       "    <tr>\n",
       "      <th>27</th>\n",
       "      <td>mths_since_last_major_derog</td>\n",
       "      <td>39717</td>\n",
       "      <td>100.000000</td>\n",
       "    </tr>\n",
       "    <tr>\n",
       "      <th>20</th>\n",
       "      <td>mths_since_last_record</td>\n",
       "      <td>36931</td>\n",
       "      <td>92.985372</td>\n",
       "    </tr>\n",
       "    <tr>\n",
       "      <th>19</th>\n",
       "      <td>mths_since_last_delinq</td>\n",
       "      <td>25682</td>\n",
       "      <td>64.662487</td>\n",
       "    </tr>\n",
       "    <tr>\n",
       "      <th>7</th>\n",
       "      <td>emp_length</td>\n",
       "      <td>1075</td>\n",
       "      <td>2.706650</td>\n",
       "    </tr>\n",
       "    <tr>\n",
       "      <th>26</th>\n",
       "      <td>collections_12_mths_ex_med</td>\n",
       "      <td>56</td>\n",
       "      <td>0.140998</td>\n",
       "    </tr>\n",
       "    <tr>\n",
       "      <th>23</th>\n",
       "      <td>revol_util</td>\n",
       "      <td>50</td>\n",
       "      <td>0.125891</td>\n",
       "    </tr>\n",
       "    <tr>\n",
       "      <th>81</th>\n",
       "      <td>tax_liens</td>\n",
       "      <td>39</td>\n",
       "      <td>0.098195</td>\n",
       "    </tr>\n",
       "  </tbody>\n",
       "</table>\n",
       "</div>"
      ],
      "text/plain": [
       "                           Columns  Values      % null\n",
       "56              mo_sin_old_il_acct   39717  100.000000\n",
       "70                       num_il_tl   39717  100.000000\n",
       "58           mo_sin_rcnt_rev_tl_op   39717  100.000000\n",
       "59                  mo_sin_rcnt_tl   39717  100.000000\n",
       "60                        mort_acc   39717  100.000000\n",
       "61            mths_since_recent_bc   39717  100.000000\n",
       "62        mths_since_recent_bc_dlq   39717  100.000000\n",
       "63           mths_since_recent_inq   39717  100.000000\n",
       "64  mths_since_recent_revol_delinq   39717  100.000000\n",
       "65           num_accts_ever_120_pd   39717  100.000000\n",
       "66                  num_actv_bc_tl   39717  100.000000\n",
       "67                 num_actv_rev_tl   39717  100.000000\n",
       "68                     num_bc_sats   39717  100.000000\n",
       "69                       num_bc_tl   39717  100.000000\n",
       "71                   num_op_rev_tl   39717  100.000000\n",
       "54                         bc_util   39717  100.000000\n",
       "72                   num_rev_accts   39717  100.000000\n",
       "73             num_rev_tl_bal_gt_0   39717  100.000000\n",
       "74                        num_sats   39717  100.000000\n",
       "75                num_tl_120dpd_2m   39717  100.000000\n",
       "76                    num_tl_30dpd   39717  100.000000\n",
       "77              num_tl_90g_dpd_24m   39717  100.000000\n",
       "78              num_tl_op_past_12m   39717  100.000000\n",
       "79                  pct_tl_nvr_dlq   39717  100.000000\n",
       "80                percent_bc_gt_75   39717  100.000000\n",
       "82                 tot_hi_cred_lim   39717  100.000000\n",
       "83               total_bal_ex_mort   39717  100.000000\n",
       "84                  total_bc_limit   39717  100.000000\n",
       "57            mo_sin_old_rev_tl_op   39717  100.000000\n",
       "85      total_il_high_credit_limit   39717  100.000000\n",
       "39                     open_il_24m   39717  100.000000\n",
       "41                    total_bal_il   39717  100.000000\n",
       "30                annual_inc_joint   39717  100.000000\n",
       "31                       dti_joint   39717  100.000000\n",
       "32       verification_status_joint   39717  100.000000\n",
       "34                    tot_coll_amt   39717  100.000000\n",
       "35                     tot_cur_bal   39717  100.000000\n",
       "36                     open_acc_6m   39717  100.000000\n",
       "37                      open_il_6m   39717  100.000000\n",
       "38                     open_il_12m   39717  100.000000\n",
       "53                  bc_open_to_buy   39717  100.000000\n",
       "40              mths_since_rcnt_il   39717  100.000000\n",
       "42                         il_util   39717  100.000000\n",
       "43                     open_rv_12m   39717  100.000000\n",
       "44                     open_rv_24m   39717  100.000000\n",
       "45                      max_bal_bc   39717  100.000000\n",
       "46                        all_util   39717  100.000000\n",
       "47                total_rev_hi_lim   39717  100.000000\n",
       "48                          inq_fi   39717  100.000000\n",
       "49                     total_cu_tl   39717  100.000000\n",
       "50                    inq_last_12m   39717  100.000000\n",
       "51            acc_open_past_24mths   39717  100.000000\n",
       "52                     avg_cur_bal   39717  100.000000\n",
       "27     mths_since_last_major_derog   39717  100.000000\n",
       "20          mths_since_last_record   36931   92.985372\n",
       "19          mths_since_last_delinq   25682   64.662487\n",
       "7                       emp_length    1075    2.706650\n",
       "26      collections_12_mths_ex_med      56    0.140998\n",
       "23                      revol_util      50    0.125891\n",
       "81                       tax_liens      39    0.098195"
      ]
     },
     "execution_count": 9,
     "metadata": {},
     "output_type": "execute_result"
    }
   ],
   "source": [
    "#checking for missing values and printing them in dataframe\n",
    "null_data=pd.DataFrame()\n",
    "null_data['Columns']=data.isnull().sum().index\n",
    "null_data['Values']=data.isnull().sum().values\n",
    "\n",
    "\n",
    "#printing column names with missing values count\n",
    "print('Columns with missing values:')\n",
    "null_data.drop(null_data[null_data['Values']==0].index,inplace=True)\n",
    "\n",
    "null_data['% null']=null_data['Values']/data.shape[0]*100\n",
    "\n",
    "null_data.sort_values(by='% null',ascending=False)"
   ]
  },
  {
   "cell_type": "markdown",
   "metadata": {},
   "source": [
    "MISSING VALUES > 50%  >  DROPPING THE COLUMN"
   ]
  },
  {
   "cell_type": "code",
   "execution_count": 10,
   "metadata": {},
   "outputs": [],
   "source": [
    "null_columns=null_data[null_data['% null']>=50]['Columns']\n",
    "data.drop(columns=null_columns,inplace=True)"
   ]
  },
  {
   "cell_type": "code",
   "execution_count": 11,
   "metadata": {},
   "outputs": [
    {
     "data": {
      "text/plain": [
       "(39717, 30)"
      ]
     },
     "execution_count": 11,
     "metadata": {},
     "output_type": "execute_result"
    }
   ],
   "source": [
    "data.shape"
   ]
  },
  {
   "cell_type": "markdown",
   "metadata": {},
   "source": [
    "Checking if imputation can be done if not then drop"
   ]
  },
  {
   "cell_type": "code",
   "execution_count": 12,
   "metadata": {},
   "outputs": [
    {
     "data": {
      "text/plain": [
       "loan_amnt                        0\n",
       "funded_amnt_inv                  0\n",
       "term                             0\n",
       "int_rate                         0\n",
       "installment                      0\n",
       "grade                            0\n",
       "sub_grade                        0\n",
       "emp_length                    1075\n",
       "home_ownership                   0\n",
       "annual_inc                       0\n",
       "verification_status              0\n",
       "issue_d                          0\n",
       "loan_status                      0\n",
       "pymnt_plan                       0\n",
       "purpose                          0\n",
       "addr_state                       0\n",
       "dti                              0\n",
       "earliest_cr_line                 0\n",
       "inq_last_6mths                   0\n",
       "open_acc                         0\n",
       "pub_rec                          0\n",
       "revol_util                      50\n",
       "total_acc                        0\n",
       "initial_list_status              0\n",
       "collections_12_mths_ex_med      56\n",
       "policy_code                      0\n",
       "application_type                 0\n",
       "acc_now_delinq                   0\n",
       "delinq_amnt                      0\n",
       "tax_liens                       39\n",
       "dtype: int64"
      ]
     },
     "execution_count": 12,
     "metadata": {},
     "output_type": "execute_result"
    }
   ],
   "source": [
    "data.isnull().sum()"
   ]
  },
  {
   "cell_type": "code",
   "execution_count": 13,
   "metadata": {},
   "outputs": [
    {
     "data": {
      "text/html": [
       "<div>\n",
       "<style scoped>\n",
       "    .dataframe tbody tr th:only-of-type {\n",
       "        vertical-align: middle;\n",
       "    }\n",
       "\n",
       "    .dataframe tbody tr th {\n",
       "        vertical-align: top;\n",
       "    }\n",
       "\n",
       "    .dataframe thead th {\n",
       "        text-align: right;\n",
       "    }\n",
       "</style>\n",
       "<table border=\"1\" class=\"dataframe\">\n",
       "  <thead>\n",
       "    <tr style=\"text-align: right;\">\n",
       "      <th></th>\n",
       "      <th>loan_amnt</th>\n",
       "      <th>funded_amnt_inv</th>\n",
       "      <th>installment</th>\n",
       "      <th>annual_inc</th>\n",
       "      <th>dti</th>\n",
       "      <th>inq_last_6mths</th>\n",
       "      <th>open_acc</th>\n",
       "      <th>pub_rec</th>\n",
       "      <th>total_acc</th>\n",
       "      <th>collections_12_mths_ex_med</th>\n",
       "      <th>policy_code</th>\n",
       "      <th>acc_now_delinq</th>\n",
       "      <th>delinq_amnt</th>\n",
       "      <th>tax_liens</th>\n",
       "    </tr>\n",
       "  </thead>\n",
       "  <tbody>\n",
       "    <tr>\n",
       "      <th>count</th>\n",
       "      <td>39717.000000</td>\n",
       "      <td>39717.000000</td>\n",
       "      <td>39717.000000</td>\n",
       "      <td>3.971700e+04</td>\n",
       "      <td>39717.000000</td>\n",
       "      <td>39717.000000</td>\n",
       "      <td>39717.000000</td>\n",
       "      <td>39717.000000</td>\n",
       "      <td>39717.000000</td>\n",
       "      <td>39661.0</td>\n",
       "      <td>39717.0</td>\n",
       "      <td>39717.0</td>\n",
       "      <td>39717.0</td>\n",
       "      <td>39678.0</td>\n",
       "    </tr>\n",
       "    <tr>\n",
       "      <th>mean</th>\n",
       "      <td>11219.443815</td>\n",
       "      <td>10397.448868</td>\n",
       "      <td>324.561922</td>\n",
       "      <td>6.896893e+04</td>\n",
       "      <td>13.315130</td>\n",
       "      <td>0.869200</td>\n",
       "      <td>9.294408</td>\n",
       "      <td>0.055065</td>\n",
       "      <td>22.088828</td>\n",
       "      <td>0.0</td>\n",
       "      <td>1.0</td>\n",
       "      <td>0.0</td>\n",
       "      <td>0.0</td>\n",
       "      <td>0.0</td>\n",
       "    </tr>\n",
       "    <tr>\n",
       "      <th>std</th>\n",
       "      <td>7456.670694</td>\n",
       "      <td>7128.450439</td>\n",
       "      <td>208.874874</td>\n",
       "      <td>6.379377e+04</td>\n",
       "      <td>6.678594</td>\n",
       "      <td>1.070219</td>\n",
       "      <td>4.400282</td>\n",
       "      <td>0.237200</td>\n",
       "      <td>11.401709</td>\n",
       "      <td>0.0</td>\n",
       "      <td>0.0</td>\n",
       "      <td>0.0</td>\n",
       "      <td>0.0</td>\n",
       "      <td>0.0</td>\n",
       "    </tr>\n",
       "    <tr>\n",
       "      <th>min</th>\n",
       "      <td>500.000000</td>\n",
       "      <td>0.000000</td>\n",
       "      <td>15.690000</td>\n",
       "      <td>4.000000e+03</td>\n",
       "      <td>0.000000</td>\n",
       "      <td>0.000000</td>\n",
       "      <td>2.000000</td>\n",
       "      <td>0.000000</td>\n",
       "      <td>2.000000</td>\n",
       "      <td>0.0</td>\n",
       "      <td>1.0</td>\n",
       "      <td>0.0</td>\n",
       "      <td>0.0</td>\n",
       "      <td>0.0</td>\n",
       "    </tr>\n",
       "    <tr>\n",
       "      <th>25%</th>\n",
       "      <td>5500.000000</td>\n",
       "      <td>5000.000000</td>\n",
       "      <td>167.020000</td>\n",
       "      <td>4.040400e+04</td>\n",
       "      <td>8.170000</td>\n",
       "      <td>0.000000</td>\n",
       "      <td>6.000000</td>\n",
       "      <td>0.000000</td>\n",
       "      <td>13.000000</td>\n",
       "      <td>0.0</td>\n",
       "      <td>1.0</td>\n",
       "      <td>0.0</td>\n",
       "      <td>0.0</td>\n",
       "      <td>0.0</td>\n",
       "    </tr>\n",
       "    <tr>\n",
       "      <th>50%</th>\n",
       "      <td>10000.000000</td>\n",
       "      <td>8975.000000</td>\n",
       "      <td>280.220000</td>\n",
       "      <td>5.900000e+04</td>\n",
       "      <td>13.400000</td>\n",
       "      <td>1.000000</td>\n",
       "      <td>9.000000</td>\n",
       "      <td>0.000000</td>\n",
       "      <td>20.000000</td>\n",
       "      <td>0.0</td>\n",
       "      <td>1.0</td>\n",
       "      <td>0.0</td>\n",
       "      <td>0.0</td>\n",
       "      <td>0.0</td>\n",
       "    </tr>\n",
       "    <tr>\n",
       "      <th>75%</th>\n",
       "      <td>15000.000000</td>\n",
       "      <td>14400.000000</td>\n",
       "      <td>430.780000</td>\n",
       "      <td>8.230000e+04</td>\n",
       "      <td>18.600000</td>\n",
       "      <td>1.000000</td>\n",
       "      <td>12.000000</td>\n",
       "      <td>0.000000</td>\n",
       "      <td>29.000000</td>\n",
       "      <td>0.0</td>\n",
       "      <td>1.0</td>\n",
       "      <td>0.0</td>\n",
       "      <td>0.0</td>\n",
       "      <td>0.0</td>\n",
       "    </tr>\n",
       "    <tr>\n",
       "      <th>max</th>\n",
       "      <td>35000.000000</td>\n",
       "      <td>35000.000000</td>\n",
       "      <td>1305.190000</td>\n",
       "      <td>6.000000e+06</td>\n",
       "      <td>29.990000</td>\n",
       "      <td>8.000000</td>\n",
       "      <td>44.000000</td>\n",
       "      <td>4.000000</td>\n",
       "      <td>90.000000</td>\n",
       "      <td>0.0</td>\n",
       "      <td>1.0</td>\n",
       "      <td>0.0</td>\n",
       "      <td>0.0</td>\n",
       "      <td>0.0</td>\n",
       "    </tr>\n",
       "  </tbody>\n",
       "</table>\n",
       "</div>"
      ],
      "text/plain": [
       "          loan_amnt  funded_amnt_inv   installment    annual_inc  \\\n",
       "count  39717.000000     39717.000000  39717.000000  3.971700e+04   \n",
       "mean   11219.443815     10397.448868    324.561922  6.896893e+04   \n",
       "std     7456.670694      7128.450439    208.874874  6.379377e+04   \n",
       "min      500.000000         0.000000     15.690000  4.000000e+03   \n",
       "25%     5500.000000      5000.000000    167.020000  4.040400e+04   \n",
       "50%    10000.000000      8975.000000    280.220000  5.900000e+04   \n",
       "75%    15000.000000     14400.000000    430.780000  8.230000e+04   \n",
       "max    35000.000000     35000.000000   1305.190000  6.000000e+06   \n",
       "\n",
       "                dti  inq_last_6mths      open_acc       pub_rec     total_acc  \\\n",
       "count  39717.000000    39717.000000  39717.000000  39717.000000  39717.000000   \n",
       "mean      13.315130        0.869200      9.294408      0.055065     22.088828   \n",
       "std        6.678594        1.070219      4.400282      0.237200     11.401709   \n",
       "min        0.000000        0.000000      2.000000      0.000000      2.000000   \n",
       "25%        8.170000        0.000000      6.000000      0.000000     13.000000   \n",
       "50%       13.400000        1.000000      9.000000      0.000000     20.000000   \n",
       "75%       18.600000        1.000000     12.000000      0.000000     29.000000   \n",
       "max       29.990000        8.000000     44.000000      4.000000     90.000000   \n",
       "\n",
       "       collections_12_mths_ex_med  policy_code  acc_now_delinq  delinq_amnt  \\\n",
       "count                     39661.0      39717.0         39717.0      39717.0   \n",
       "mean                          0.0          1.0             0.0          0.0   \n",
       "std                           0.0          0.0             0.0          0.0   \n",
       "min                           0.0          1.0             0.0          0.0   \n",
       "25%                           0.0          1.0             0.0          0.0   \n",
       "50%                           0.0          1.0             0.0          0.0   \n",
       "75%                           0.0          1.0             0.0          0.0   \n",
       "max                           0.0          1.0             0.0          0.0   \n",
       "\n",
       "       tax_liens  \n",
       "count    39678.0  \n",
       "mean         0.0  \n",
       "std          0.0  \n",
       "min          0.0  \n",
       "25%          0.0  \n",
       "50%          0.0  \n",
       "75%          0.0  \n",
       "max          0.0  "
      ]
     },
     "execution_count": 13,
     "metadata": {},
     "output_type": "execute_result"
    }
   ],
   "source": [
    "data.describe()"
   ]
  },
  {
   "cell_type": "markdown",
   "metadata": {},
   "source": [
    "REMOVING SINGLE VALUE COLUMNS"
   ]
  },
  {
   "cell_type": "code",
   "execution_count": 14,
   "metadata": {},
   "outputs": [],
   "source": [
    "data.drop(['collections_12_mths_ex_med','policy_code','acc_now_delinq','delinq_amnt','tax_liens'],axis=1,inplace=True)"
   ]
  },
  {
   "cell_type": "code",
   "execution_count": 15,
   "metadata": {},
   "outputs": [
    {
     "data": {
      "text/plain": [
       "(39717, 25)"
      ]
     },
     "execution_count": 15,
     "metadata": {},
     "output_type": "execute_result"
    }
   ],
   "source": [
    "data.shape"
   ]
  },
  {
   "cell_type": "code",
   "execution_count": 16,
   "metadata": {},
   "outputs": [
    {
     "data": {
      "text/html": [
       "<div>\n",
       "<style scoped>\n",
       "    .dataframe tbody tr th:only-of-type {\n",
       "        vertical-align: middle;\n",
       "    }\n",
       "\n",
       "    .dataframe tbody tr th {\n",
       "        vertical-align: top;\n",
       "    }\n",
       "\n",
       "    .dataframe thead th {\n",
       "        text-align: right;\n",
       "    }\n",
       "</style>\n",
       "<table border=\"1\" class=\"dataframe\">\n",
       "  <thead>\n",
       "    <tr style=\"text-align: right;\">\n",
       "      <th></th>\n",
       "      <th>Columns</th>\n",
       "      <th>Unique_Values</th>\n",
       "    </tr>\n",
       "  </thead>\n",
       "  <tbody>\n",
       "    <tr>\n",
       "      <th>24</th>\n",
       "      <td>application_type</td>\n",
       "      <td>1</td>\n",
       "    </tr>\n",
       "    <tr>\n",
       "      <th>13</th>\n",
       "      <td>pymnt_plan</td>\n",
       "      <td>1</td>\n",
       "    </tr>\n",
       "    <tr>\n",
       "      <th>23</th>\n",
       "      <td>initial_list_status</td>\n",
       "      <td>1</td>\n",
       "    </tr>\n",
       "    <tr>\n",
       "      <th>2</th>\n",
       "      <td>term</td>\n",
       "      <td>2</td>\n",
       "    </tr>\n",
       "    <tr>\n",
       "      <th>10</th>\n",
       "      <td>verification_status</td>\n",
       "      <td>3</td>\n",
       "    </tr>\n",
       "    <tr>\n",
       "      <th>12</th>\n",
       "      <td>loan_status</td>\n",
       "      <td>3</td>\n",
       "    </tr>\n",
       "    <tr>\n",
       "      <th>8</th>\n",
       "      <td>home_ownership</td>\n",
       "      <td>5</td>\n",
       "    </tr>\n",
       "    <tr>\n",
       "      <th>20</th>\n",
       "      <td>pub_rec</td>\n",
       "      <td>5</td>\n",
       "    </tr>\n",
       "    <tr>\n",
       "      <th>5</th>\n",
       "      <td>grade</td>\n",
       "      <td>7</td>\n",
       "    </tr>\n",
       "    <tr>\n",
       "      <th>18</th>\n",
       "      <td>inq_last_6mths</td>\n",
       "      <td>9</td>\n",
       "    </tr>\n",
       "    <tr>\n",
       "      <th>7</th>\n",
       "      <td>emp_length</td>\n",
       "      <td>11</td>\n",
       "    </tr>\n",
       "    <tr>\n",
       "      <th>14</th>\n",
       "      <td>purpose</td>\n",
       "      <td>14</td>\n",
       "    </tr>\n",
       "    <tr>\n",
       "      <th>6</th>\n",
       "      <td>sub_grade</td>\n",
       "      <td>35</td>\n",
       "    </tr>\n",
       "    <tr>\n",
       "      <th>19</th>\n",
       "      <td>open_acc</td>\n",
       "      <td>40</td>\n",
       "    </tr>\n",
       "    <tr>\n",
       "      <th>15</th>\n",
       "      <td>addr_state</td>\n",
       "      <td>50</td>\n",
       "    </tr>\n",
       "    <tr>\n",
       "      <th>11</th>\n",
       "      <td>issue_d</td>\n",
       "      <td>55</td>\n",
       "    </tr>\n",
       "    <tr>\n",
       "      <th>22</th>\n",
       "      <td>total_acc</td>\n",
       "      <td>82</td>\n",
       "    </tr>\n",
       "    <tr>\n",
       "      <th>3</th>\n",
       "      <td>int_rate</td>\n",
       "      <td>371</td>\n",
       "    </tr>\n",
       "    <tr>\n",
       "      <th>17</th>\n",
       "      <td>earliest_cr_line</td>\n",
       "      <td>526</td>\n",
       "    </tr>\n",
       "    <tr>\n",
       "      <th>0</th>\n",
       "      <td>loan_amnt</td>\n",
       "      <td>885</td>\n",
       "    </tr>\n",
       "    <tr>\n",
       "      <th>21</th>\n",
       "      <td>revol_util</td>\n",
       "      <td>1089</td>\n",
       "    </tr>\n",
       "    <tr>\n",
       "      <th>16</th>\n",
       "      <td>dti</td>\n",
       "      <td>2868</td>\n",
       "    </tr>\n",
       "    <tr>\n",
       "      <th>9</th>\n",
       "      <td>annual_inc</td>\n",
       "      <td>5318</td>\n",
       "    </tr>\n",
       "    <tr>\n",
       "      <th>1</th>\n",
       "      <td>funded_amnt_inv</td>\n",
       "      <td>8205</td>\n",
       "    </tr>\n",
       "    <tr>\n",
       "      <th>4</th>\n",
       "      <td>installment</td>\n",
       "      <td>15383</td>\n",
       "    </tr>\n",
       "  </tbody>\n",
       "</table>\n",
       "</div>"
      ],
      "text/plain": [
       "                Columns  Unique_Values\n",
       "24     application_type              1\n",
       "13           pymnt_plan              1\n",
       "23  initial_list_status              1\n",
       "2                  term              2\n",
       "10  verification_status              3\n",
       "12          loan_status              3\n",
       "8        home_ownership              5\n",
       "20              pub_rec              5\n",
       "5                 grade              7\n",
       "18       inq_last_6mths              9\n",
       "7            emp_length             11\n",
       "14              purpose             14\n",
       "6             sub_grade             35\n",
       "19             open_acc             40\n",
       "15           addr_state             50\n",
       "11              issue_d             55\n",
       "22            total_acc             82\n",
       "3              int_rate            371\n",
       "17     earliest_cr_line            526\n",
       "0             loan_amnt            885\n",
       "21           revol_util           1089\n",
       "16                  dti           2868\n",
       "9            annual_inc           5318\n",
       "1       funded_amnt_inv           8205\n",
       "4           installment          15383"
      ]
     },
     "execution_count": 16,
     "metadata": {},
     "output_type": "execute_result"
    }
   ],
   "source": [
    "unique_values=pd.DataFrame()\n",
    "unique_values['Columns']=data.nunique().index\n",
    "unique_values['Unique_Values']=data.nunique().values\n",
    "unique_values.sort_values(by='Unique_Values')"
   ]
  },
  {
   "cell_type": "code",
   "execution_count": 17,
   "metadata": {},
   "outputs": [],
   "source": [
    "data.drop(['application_type','pymnt_plan','initial_list_status'],axis=1,inplace=True)"
   ]
  },
  {
   "cell_type": "markdown",
   "metadata": {},
   "source": [
    "MISSING VALUE IMPUTATION"
   ]
  },
  {
   "cell_type": "code",
   "execution_count": 18,
   "metadata": {},
   "outputs": [
    {
     "name": "stderr",
     "output_type": "stream",
     "text": [
      "c:\\Users\\shivansh uppal\\AppData\\Local\\Programs\\Python\\Python310\\lib\\site-packages\\seaborn\\distributions.py:2619: FutureWarning: `distplot` is a deprecated function and will be removed in a future version. Please adapt your code to use either `displot` (a figure-level function with similar flexibility) or `histplot` (an axes-level function for histograms).\n",
      "  warnings.warn(msg, FutureWarning)\n"
     ]
    },
    {
     "data": {
      "image/png": "[encoded data removed]",
      "text/plain": [
       "<Figure size 720x288 with 1 Axes>"
      ]
     },
     "metadata": {
      "needs_background": "light"
     },
     "output_type": "display_data"
    }
   ],
   "source": [
    "#visualizing data for revol_util\n",
    "df=pd.DataFrame()\n",
    "\n",
    "#slicing revol_util column and storing it in df by removing % sign\n",
    "df['revol_util']=data['revol_util'].str.slice(0, -1)\n",
    "plt.figure(figsize=(10,4))\n",
    "sns.distplot(df)\n",
    "plt.show()"
   ]
  },
  {
   "cell_type": "code",
   "execution_count": 19,
   "metadata": {},
   "outputs": [
    {
     "data": {
      "text/plain": [
       "<AxesSubplot:xlabel='revol_util'>"
      ]
     },
     "execution_count": 19,
     "metadata": {},
     "output_type": "execute_result"
    },
    {
     "data": {
      "image/png": "[encoded data removed]",
      "text/plain": [
       "<Figure size 720x288 with 1 Axes>"
      ]
     },
     "metadata": {
      "needs_background": "light"
     },
     "output_type": "display_data"
    }
   ],
   "source": [
    "df.revol_util=np.float64(df.revol_util)\n",
    "plt.figure(figsize=(10,4))\n",
    "sns.boxplot(x='revol_util',data=df)"
   ]
  },
  {
   "cell_type": "code",
   "execution_count": 20,
   "metadata": {},
   "outputs": [
    {
     "data": {
      "text/plain": [
       "revol_util   -0.033579\n",
       "dtype: float64"
      ]
     },
     "execution_count": 20,
     "metadata": {},
     "output_type": "execute_result"
    }
   ],
   "source": [
    "skewness=df.skew()\n",
    "skewness"
   ]
  },
  {
   "cell_type": "code",
   "execution_count": 21,
   "metadata": {},
   "outputs": [
    {
     "data": {
      "text/plain": [
       "revol_util   -1.105415\n",
       "dtype: float64"
      ]
     },
     "execution_count": 21,
     "metadata": {},
     "output_type": "execute_result"
    }
   ],
   "source": [
    "kurtosis=df.kurtosis()\n",
    "kurtosis"
   ]
  },
  {
   "cell_type": "code",
   "execution_count": 22,
   "metadata": {},
   "outputs": [],
   "source": [
    "df.fillna(df.mean(),inplace=True)"
   ]
  },
  {
   "cell_type": "code",
   "execution_count": 23,
   "metadata": {},
   "outputs": [],
   "source": [
    "#putting back % sign to revol_util column and transferring it to the data dataframe\n",
    "data=data.join(df['revol_util'].astype(str)+'%',lsuffix='_left')\n",
    "data.drop('revol_util_left',axis=1,inplace=True)"
   ]
  },
  {
   "cell_type": "code",
   "execution_count": 24,
   "metadata": {},
   "outputs": [
    {
     "data": {
      "text/plain": [
       "(39717, 22)"
      ]
     },
     "execution_count": 24,
     "metadata": {},
     "output_type": "execute_result"
    }
   ],
   "source": [
    "data.shape"
   ]
  },
  {
   "cell_type": "code",
   "execution_count": 25,
   "metadata": {},
   "outputs": [],
   "source": [
    "data.dropna(axis=0,inplace=True)"
   ]
  },
  {
   "cell_type": "code",
   "execution_count": 26,
   "metadata": {},
   "outputs": [
    {
     "data": {
      "text/plain": [
       "(38642, 22)"
      ]
     },
     "execution_count": 26,
     "metadata": {},
     "output_type": "execute_result"
    }
   ],
   "source": [
    "data.shape"
   ]
  },
  {
   "cell_type": "markdown",
   "metadata": {},
   "source": [
    "                                                           FEATURE GENERATION"
   ]
  },
  {
   "cell_type": "markdown",
   "metadata": {},
   "source": [
    "We have enough data to perform EDA analysis on the data so we don't need to generate new features."
   ]
  },
  {
   "cell_type": "markdown",
   "metadata": {},
   "source": [
    "                                                        DIMENSIONALITY REDUCTION"
   ]
  },
  {
   "cell_type": "markdown",
   "metadata": {},
   "source": [
    "We have enough data to perform EDA analysis on the data so we don't need to reduce the dimensionality.\n",
    "\n",
    "                                                            OUTLIER REMOVAL"
   ]
  },
  {
   "cell_type": "markdown",
   "metadata": {},
   "source": [
    "#loan_amnt\t |    funded_amnt_inv\t  |    installment\t |  annual_inc\t |  dti\t |  inq_last_6mths\t|   open_acc\t|   pub_rec\t |  total_acc\n",
    "\n",
    "We will check if any outliers are present in the data and remove them if any."
   ]
  },
  {
   "cell_type": "code",
   "execution_count": 27,
   "metadata": {},
   "outputs": [
    {
     "data": {
      "image/png": "[encoded data removed]",
      "text/plain": [
       "<Figure size 432x288 with 1 Axes>"
      ]
     },
     "metadata": {
      "needs_background": "light"
     },
     "output_type": "display_data"
    }
   ],
   "source": [
    "sns.boxplot(x='loan_amnt',data=data)\n",
    "plt.show()"
   ]
  },
  {
   "cell_type": "code",
   "execution_count": 28,
   "metadata": {},
   "outputs": [
    {
     "data": {
      "image/png": "[encoded data removed]",
      "text/plain": [
       "<Figure size 432x288 with 1 Axes>"
      ]
     },
     "metadata": {
      "needs_background": "light"
     },
     "output_type": "display_data"
    }
   ],
   "source": [
    "sns.boxplot(x='funded_amnt_inv',data=data)\n",
    "plt.show()"
   ]
  },
  {
   "cell_type": "code",
   "execution_count": 29,
   "metadata": {},
   "outputs": [
    {
     "data": {
      "text/plain": [
       "<AxesSubplot:xlabel='installment'>"
      ]
     },
     "execution_count": 29,
     "metadata": {},
     "output_type": "execute_result"
    },
    {
     "data": {
      "image/png": "[encoded data removed]",
      "text/plain": [
       "<Figure size 432x288 with 1 Axes>"
      ]
     },
     "metadata": {
      "needs_background": "light"
     },
     "output_type": "display_data"
    }
   ],
   "source": [
    "sns.boxplot(x='installment',data=data)"
   ]
  },
  {
   "cell_type": "markdown",
   "metadata": {},
   "source": [
    "Referring to 3 boxplots above for outliers in the data set, it is clear that outliers are playing vital role, hence removing it will lead to inacurracy in results\n",
    "\n",
    "                                                            NORMALIZATION"
   ]
  },
  {
   "cell_type": "markdown",
   "metadata": {},
   "source": [
    "As we are not performing any model building, we will not normalize the data.\n",
    "\n",
    "                                                            PARTITIONING"
   ]
  },
  {
   "cell_type": "markdown",
   "metadata": {},
   "source": [
    "Data partitioning is a technique to split the data into training and testing sets.\n",
    "\n",
    "Again as we are not performing any model building, we will not partition the data."
   ]
  },
  {
   "cell_type": "markdown",
   "metadata": {},
   "source": [
    "                                                        DATA VISUALIZATION"
   ]
  },
  {
   "cell_type": "markdown",
   "metadata": {},
   "source": [
    "Gaining insights from the data to understand the big picture of the data."
   ]
  },
  {
   "cell_type": "code",
   "execution_count": 30,
   "metadata": {},
   "outputs": [
    {
     "data": {
      "text/plain": [
       "Fully Paid     32145\n",
       "Charged Off     5399\n",
       "Current         1098\n",
       "Name: loan_status, dtype: int64"
      ]
     },
     "execution_count": 30,
     "metadata": {},
     "output_type": "execute_result"
    }
   ],
   "source": [
    "data['loan_status'].value_counts()"
   ]
  },
  {
   "cell_type": "code",
   "execution_count": 31,
   "metadata": {},
   "outputs": [],
   "source": [
    "#current status of loan is not adding value to why loan should not be given so dropping it\n",
    "data=data[data['loan_status']!='Current']"
   ]
  },
  {
   "cell_type": "code",
   "execution_count": 32,
   "metadata": {},
   "outputs": [
    {
     "name": "stdout",
     "output_type": "stream",
     "text": [
      "<class 'pandas.core.frame.DataFrame'>\n",
      "Int64Index: 37544 entries, 0 to 39716\n",
      "Data columns (total 22 columns):\n",
      " #   Column               Non-Null Count  Dtype  \n",
      "---  ------               --------------  -----  \n",
      " 0   loan_amnt            37544 non-null  int64  \n",
      " 1   funded_amnt_inv      37544 non-null  float64\n",
      " 2   term                 37544 non-null  object \n",
      " 3   int_rate             37544 non-null  object \n",
      " 4   installment          37544 non-null  float64\n",
      " 5   grade                37544 non-null  object \n",
      " 6   sub_grade            37544 non-null  object \n",
      " 7   emp_length           37544 non-null  object \n",
      " 8   home_ownership       37544 non-null  object \n",
      " 9   annual_inc           37544 non-null  float64\n",
      " 10  verification_status  37544 non-null  object \n",
      " 11  issue_d              37544 non-null  object \n",
      " 12  loan_status          37544 non-null  object \n",
      " 13  purpose              37544 non-null  object \n",
      " 14  addr_state           37544 non-null  object \n",
      " 15  dti                  37544 non-null  float64\n",
      " 16  earliest_cr_line     37544 non-null  object \n",
      " 17  inq_last_6mths       37544 non-null  int64  \n",
      " 18  open_acc             37544 non-null  int64  \n",
      " 19  pub_rec              37544 non-null  int64  \n",
      " 20  total_acc            37544 non-null  int64  \n",
      " 21  revol_util           37544 non-null  object \n",
      "dtypes: float64(4), int64(5), object(13)\n",
      "memory usage: 6.6+ MB\n"
     ]
    }
   ],
   "source": [
    "data.info()"
   ]
  },
  {
   "cell_type": "markdown",
   "metadata": {},
   "source": [
    "UNIVARIATE ANALYSIS"
   ]
  },
  {
   "cell_type": "code",
   "execution_count": 33,
   "metadata": {},
   "outputs": [
    {
     "data": {
      "text/plain": [
       "<AxesSubplot:xlabel='loan_status', ylabel='count'>"
      ]
     },
     "execution_count": 33,
     "metadata": {},
     "output_type": "execute_result"
    },
    {
     "data": {
      "image/png": "[encoded data removed]",
      "text/plain": [
       "<Figure size 432x288 with 1 Axes>"
      ]
     },
     "metadata": {
      "needs_background": "light"
     },
     "output_type": "display_data"
    }
   ],
   "source": [
    "sns.countplot(x='loan_status',data=data)"
   ]
  },
  {
   "cell_type": "code",
   "execution_count": 34,
   "metadata": {},
   "outputs": [
    {
     "data": {
      "image/png": "[encoded data removed]",
      "text/plain": [
       "<Figure size 720x288 with 1 Axes>"
      ]
     },
     "metadata": {
      "needs_background": "light"
     },
     "output_type": "display_data"
    }
   ],
   "source": [
    "#visualizing data for int_rate\n",
    "d1=pd.DataFrame()\n",
    "\n",
    "#slicing int_rate column and storing it in df by removing % sign\n",
    "d1['int_rate']=data['int_rate'].str.slice(0, -1)\n",
    "\n",
    "d1.int_rate=np.float64(d1.int_rate)\n",
    "plt.figure(figsize=(10,4))\n",
    "d1.int_rate.plot(kind='box')\n",
    "plt.show()"
   ]
  },
  {
   "cell_type": "markdown",
   "metadata": {},
   "source": [
    "Median interest rate is around 12.5%. High interest rates are charged to few clients 24% max. "
   ]
  },
  {
   "cell_type": "code",
   "execution_count": 35,
   "metadata": {},
   "outputs": [
    {
     "data": {
      "text/plain": [
       "<AxesSubplot:>"
      ]
     },
     "execution_count": 35,
     "metadata": {},
     "output_type": "execute_result"
    },
    {
     "data": {
      "image/png": "[encoded data removed]",
      "text/plain": [
       "<Figure size 720x432 with 1 Axes>"
      ]
     },
     "metadata": {
      "needs_background": "light"
     },
     "output_type": "display_data"
    }
   ],
   "source": [
    "plt.figure(figsize=(10,6))\n",
    "data.annual_inc.plot(kind='box')"
   ]
  },
  {
   "cell_type": "markdown",
   "metadata": {},
   "source": [
    "Looks like people with very low income were offered loans."
   ]
  },
  {
   "cell_type": "code",
   "execution_count": 36,
   "metadata": {},
   "outputs": [
    {
     "data": {
      "text/plain": [
       "<AxesSubplot:xlabel='inq_last_6mths', ylabel='count'>"
      ]
     },
     "execution_count": 36,
     "metadata": {},
     "output_type": "execute_result"
    },
    {
     "data": {
      "image/png": "[encoded data removed]",
      "text/plain": [
       "<Figure size 432x288 with 1 Axes>"
      ]
     },
     "metadata": {
      "needs_background": "light"
     },
     "output_type": "display_data"
    }
   ],
   "source": [
    "sns.countplot(data = data, x = 'inq_last_6mths')"
   ]
  },
  {
   "cell_type": "markdown",
   "metadata": {},
   "source": [
    "Inquiries were high in start but decreased per month"
   ]
  },
  {
   "cell_type": "code",
   "execution_count": 37,
   "metadata": {},
   "outputs": [
    {
     "data": {
      "text/plain": [
       "<AxesSubplot:xlabel='grade', ylabel='count'>"
      ]
     },
     "execution_count": 37,
     "metadata": {},
     "output_type": "execute_result"
    },
    {
     "data": {
      "image/png": "[encoded data removed]",
      "text/plain": [
       "<Figure size 432x288 with 1 Axes>"
      ]
     },
     "metadata": {
      "needs_background": "light"
     },
     "output_type": "display_data"
    }
   ],
   "source": [
    "level_order = ['A', 'B', 'C', 'D', 'E', 'F', 'G']\n",
    "sns.countplot(data = data, x = 'grade', order=level_order)"
   ]
  },
  {
   "cell_type": "markdown",
   "metadata": {},
   "source": [
    "GRADE A AND B RECIEVED MAXIMUM LOANS AND WORSE GRADES RECIEVED MINIMUM LOANS"
   ]
  },
  {
   "cell_type": "code",
   "execution_count": 38,
   "metadata": {},
   "outputs": [
    {
     "data": {
      "text/plain": [
       "<AxesSubplot:xlabel='count', ylabel='purpose'>"
      ]
     },
     "execution_count": 38,
     "metadata": {},
     "output_type": "execute_result"
    },
    {
     "data": {
      "image/png": "[encoded data removed]",
      "text/plain": [
       "<Figure size 432x288 with 1 Axes>"
      ]
     },
     "metadata": {
      "needs_background": "light"
     },
     "output_type": "display_data"
    }
   ],
   "source": [
    "sns.countplot(y='purpose', data=data)"
   ]
  },
  {
   "cell_type": "markdown",
   "metadata": {},
   "source": [
    "debt_consolidation makes up maximum of all data under Purpose category"
   ]
  },
  {
   "cell_type": "markdown",
   "metadata": {},
   "source": [
    "BIVARAITE ANALYSIS"
   ]
  },
  {
   "cell_type": "code",
   "execution_count": 39,
   "metadata": {},
   "outputs": [
    {
     "data": {
      "text/html": [
       "<div>\n",
       "<style scoped>\n",
       "    .dataframe tbody tr th:only-of-type {\n",
       "        vertical-align: middle;\n",
       "    }\n",
       "\n",
       "    .dataframe tbody tr th {\n",
       "        vertical-align: top;\n",
       "    }\n",
       "\n",
       "    .dataframe thead th {\n",
       "        text-align: right;\n",
       "    }\n",
       "</style>\n",
       "<table border=\"1\" class=\"dataframe\">\n",
       "  <thead>\n",
       "    <tr style=\"text-align: right;\">\n",
       "      <th></th>\n",
       "      <th>int_rate</th>\n",
       "    </tr>\n",
       "  </thead>\n",
       "  <tbody>\n",
       "    <tr>\n",
       "      <th>0</th>\n",
       "      <td>10.65</td>\n",
       "    </tr>\n",
       "    <tr>\n",
       "      <th>1</th>\n",
       "      <td>15.27</td>\n",
       "    </tr>\n",
       "    <tr>\n",
       "      <th>2</th>\n",
       "      <td>15.96</td>\n",
       "    </tr>\n",
       "    <tr>\n",
       "      <th>3</th>\n",
       "      <td>13.49</td>\n",
       "    </tr>\n",
       "    <tr>\n",
       "      <th>5</th>\n",
       "      <td>7.90</td>\n",
       "    </tr>\n",
       "  </tbody>\n",
       "</table>\n",
       "</div>"
      ],
      "text/plain": [
       "   int_rate\n",
       "0     10.65\n",
       "1     15.27\n",
       "2     15.96\n",
       "3     13.49\n",
       "5      7.90"
      ]
     },
     "execution_count": 39,
     "metadata": {},
     "output_type": "execute_result"
    }
   ],
   "source": [
    "d1.head()"
   ]
  },
  {
   "cell_type": "code",
   "execution_count": 40,
   "metadata": {},
   "outputs": [
    {
     "data": {
      "text/plain": [
       "<AxesSubplot:xlabel='int_rate_bin', ylabel='count'>"
      ]
     },
     "execution_count": 40,
     "metadata": {},
     "output_type": "execute_result"
    },
    {
     "data": {
      "image/png": "[encoded data removed]",
      "text/plain": [
       "<Figure size 720x432 with 1 Axes>"
      ]
     },
     "metadata": {
      "needs_background": "light"
     },
     "output_type": "display_data"
    }
   ],
   "source": [
    "#intrest rate vs loan status\n",
    "d1=pd.DataFrame()\n",
    "d1['int_rate']=data['int_rate'].str.slice(0, -1)\n",
    "d1.int_rate=np.float64(d1.int_rate)\n",
    "d1['int_rate_bin'] = pd.cut(d1['int_rate'], \n",
    "                                [0,5,10,15,20,25,30], \n",
    "                                labels=['0-5','5-10','10-15','15-20','20-25','25-30'])\n",
    "\n",
    "d1=d1.join(data['loan_status'])\n",
    "plt.figure(figsize=(10,6))\n",
    "sns.countplot(x='int_rate_bin',data=d1,hue='loan_status')"
   ]
  },
  {
   "cell_type": "code",
   "execution_count": 41,
   "metadata": {},
   "outputs": [],
   "source": [
    "d1=d1.join(data['annual_inc'])"
   ]
  },
  {
   "cell_type": "code",
   "execution_count": 42,
   "metadata": {},
   "outputs": [
    {
     "data": {
      "image/png": "[encoded data removed]",
      "text/plain": [
       "<Figure size 1440x288 with 1 Axes>"
      ]
     },
     "metadata": {
      "needs_background": "light"
     },
     "output_type": "display_data"
    }
   ],
   "source": [
    "d1['annual_bin'] = pd.cut(d1['annual_inc'], \n",
    "                                [0,50000,100000,150000,200000,6.000000e+06],\n",
    "                                labels=['low inc<50000','medium inc > 50000 and inc <=100000',\n",
    "                                        'high inc > 100000 and inc <=150000','very high inc > 150000 and inc < 200000',\n",
    "                                        'extreme inc > 200000'])\n",
    "\n",
    "plt.figure(figsize=(20,4))\n",
    "ax=sns.countplot(x='annual_bin',data=d1,hue='loan_status')\n",
    "\n",
    "for i in ax.containers:\n",
    "        ax.bar_label(i,)"
   ]
  },
  {
   "cell_type": "markdown",
   "metadata": {},
   "source": [
    "Low and medium income people defaulted more"
   ]
  },
  {
   "cell_type": "code",
   "execution_count": 43,
   "metadata": {},
   "outputs": [],
   "source": [
    "d1=d1.join(data['grade'])"
   ]
  },
  {
   "cell_type": "code",
   "execution_count": 44,
   "metadata": {},
   "outputs": [
    {
     "data": {
      "image/png": "[encoded data removed]",
      "text/plain": [
       "<Figure size 1440x288 with 1 Axes>"
      ]
     },
     "metadata": {
      "needs_background": "light"
     },
     "output_type": "display_data"
    }
   ],
   "source": [
    "#sort the grade column in alphabetical order\n",
    "d1.sort_values(\"grade\",ascending=True,inplace=True)\n",
    "\n",
    "plt.figure(figsize=(20,4))\n",
    "ax=sns.countplot(x='grade',data=d1,hue='loan_status')\n",
    "\n",
    "for i in ax.containers:\n",
    "        ax.bar_label(i,)\n",
    "plt.show()"
   ]
  },
  {
   "cell_type": "markdown",
   "metadata": {},
   "source": [
    "DEFAULTERS % GRADE WISE CATEGORY WISE\n",
    "\n",
    "1. Grade A: 5.7%\n",
    "\n",
    "2. Grade B: 11.9%\n",
    "\n",
    "3. Grade C: 16.8%\n",
    "\n",
    "4. Grade D: 21.8%\n",
    "\n",
    "5. Grade E: 26.7%\n",
    "\n",
    "6. Grade F: 32.6%\n",
    "\n",
    "7. Grade G: 33.5%\n"
   ]
  },
  {
   "cell_type": "code",
   "execution_count": 45,
   "metadata": {},
   "outputs": [],
   "source": [
    "d1=d1.join(data['purpose'])"
   ]
  },
  {
   "cell_type": "code",
   "execution_count": 46,
   "metadata": {},
   "outputs": [
    {
     "data": {
      "image/png": "[encoded data removed]",
      "text/plain": [
       "<Figure size 1440x288 with 1 Axes>"
      ]
     },
     "metadata": {
      "needs_background": "light"
     },
     "output_type": "display_data"
    }
   ],
   "source": [
    "plt.figure(figsize=(20,4))\n",
    "ax=sns.countplot(x='purpose',data=d1,hue='loan_status')\n",
    "\n",
    "for i in ax.containers:\n",
    "        ax.bar_label(i,)\n",
    "\n",
    "plt.show()"
   ]
  },
  {
   "cell_type": "code",
   "execution_count": 47,
   "metadata": {},
   "outputs": [],
   "source": [
    "d1=d1.join(data['dti'])"
   ]
  },
  {
   "cell_type": "code",
   "execution_count": 48,
   "metadata": {},
   "outputs": [
    {
     "data": {
      "text/html": [
       "<div>\n",
       "<style scoped>\n",
       "    .dataframe tbody tr th:only-of-type {\n",
       "        vertical-align: middle;\n",
       "    }\n",
       "\n",
       "    .dataframe tbody tr th {\n",
       "        vertical-align: top;\n",
       "    }\n",
       "\n",
       "    .dataframe thead th {\n",
       "        text-align: right;\n",
       "    }\n",
       "</style>\n",
       "<table border=\"1\" class=\"dataframe\">\n",
       "  <thead>\n",
       "    <tr style=\"text-align: right;\">\n",
       "      <th></th>\n",
       "      <th>int_rate</th>\n",
       "      <th>annual_inc</th>\n",
       "      <th>dti</th>\n",
       "    </tr>\n",
       "  </thead>\n",
       "  <tbody>\n",
       "    <tr>\n",
       "      <th>count</th>\n",
       "      <td>37544.000000</td>\n",
       "      <td>3.754400e+04</td>\n",
       "      <td>37544.000000</td>\n",
       "    </tr>\n",
       "    <tr>\n",
       "      <th>mean</th>\n",
       "      <td>11.963319</td>\n",
       "      <td>6.940708e+04</td>\n",
       "      <td>13.284186</td>\n",
       "    </tr>\n",
       "    <tr>\n",
       "      <th>std</th>\n",
       "      <td>3.683012</td>\n",
       "      <td>6.467698e+04</td>\n",
       "      <td>6.660551</td>\n",
       "    </tr>\n",
       "    <tr>\n",
       "      <th>min</th>\n",
       "      <td>5.420000</td>\n",
       "      <td>4.000000e+03</td>\n",
       "      <td>0.000000</td>\n",
       "    </tr>\n",
       "    <tr>\n",
       "      <th>25%</th>\n",
       "      <td>8.940000</td>\n",
       "      <td>4.100000e+04</td>\n",
       "      <td>8.160000</td>\n",
       "    </tr>\n",
       "    <tr>\n",
       "      <th>50%</th>\n",
       "      <td>11.830000</td>\n",
       "      <td>6.000000e+04</td>\n",
       "      <td>13.380000</td>\n",
       "    </tr>\n",
       "    <tr>\n",
       "      <th>75%</th>\n",
       "      <td>14.420000</td>\n",
       "      <td>8.300000e+04</td>\n",
       "      <td>18.550000</td>\n",
       "    </tr>\n",
       "    <tr>\n",
       "      <th>max</th>\n",
       "      <td>24.400000</td>\n",
       "      <td>6.000000e+06</td>\n",
       "      <td>29.990000</td>\n",
       "    </tr>\n",
       "  </tbody>\n",
       "</table>\n",
       "</div>"
      ],
      "text/plain": [
       "           int_rate    annual_inc           dti\n",
       "count  37544.000000  3.754400e+04  37544.000000\n",
       "mean      11.963319  6.940708e+04     13.284186\n",
       "std        3.683012  6.467698e+04      6.660551\n",
       "min        5.420000  4.000000e+03      0.000000\n",
       "25%        8.940000  4.100000e+04      8.160000\n",
       "50%       11.830000  6.000000e+04     13.380000\n",
       "75%       14.420000  8.300000e+04     18.550000\n",
       "max       24.400000  6.000000e+06     29.990000"
      ]
     },
     "execution_count": 48,
     "metadata": {},
     "output_type": "execute_result"
    }
   ],
   "source": [
    "d1.describe()"
   ]
  },
  {
   "cell_type": "code",
   "execution_count": 49,
   "metadata": {},
   "outputs": [],
   "source": [
    "d1['dti_bin']=pd.cut(d1['dti'],[0,5,10,15,20,25,30],labels=['0-5','5-10','10-15','15-20','20-25','25-30'])"
   ]
  },
  {
   "cell_type": "code",
   "execution_count": 50,
   "metadata": {},
   "outputs": [],
   "source": [
    "if d1['dti_bin'].isnull().any():\n",
    "    d1.dti_bin.fillna('0-5',inplace=True)"
   ]
  },
  {
   "cell_type": "code",
   "execution_count": 51,
   "metadata": {},
   "outputs": [
    {
     "data": {
      "image/png": "[encoded data removed]",
      "text/plain": [
       "<Figure size 1440x288 with 1 Axes>"
      ]
     },
     "metadata": {
      "needs_background": "light"
     },
     "output_type": "display_data"
    }
   ],
   "source": [
    "plt.figure(figsize=(20,4))\n",
    "ax=sns.countplot(x='dti_bin',data=d1,hue='loan_status')\n",
    "\n",
    "for i in ax.containers:\n",
    "        ax.bar_label(i,)\n",
    "plt.show()"
   ]
  },
  {
   "cell_type": "markdown",
   "metadata": {},
   "source": [
    "MULTIVARIATE ANALYSIS"
   ]
  },
  {
   "cell_type": "code",
   "execution_count": 52,
   "metadata": {},
   "outputs": [],
   "source": [
    "#CONSIDER debt_consolidation, home_improvement, credit_card, other as top 4 features\n",
    "#considering low_income and medium income as top 2 features\n",
    "#considering 5-10,10-15 int_rate_bin as top 2 features\n",
    "\n",
    "main_purposes = [\"debt_consolidation\", \"credit_card\",\"home_improvement\",\"major_purchase\"]\n",
    "d1 = d1[d1['purpose'].isin(main_purposes)]\n",
    "\n",
    "incomes = ['low inc<50000','medium inc > 50000 and inc <=100000']\n",
    "d1=d1[d1['annual_bin'].isin(incomes)]\n",
    "\n",
    "interests=['0-5','5-10']\n",
    "d1=d1[d1['int_rate_bin'].isin(interests)]"
   ]
  },
  {
   "cell_type": "code",
   "execution_count": 53,
   "metadata": {},
   "outputs": [
    {
     "data": {
      "text/html": [
       "<div>\n",
       "<style scoped>\n",
       "    .dataframe tbody tr th:only-of-type {\n",
       "        vertical-align: middle;\n",
       "    }\n",
       "\n",
       "    .dataframe tbody tr th {\n",
       "        vertical-align: top;\n",
       "    }\n",
       "\n",
       "    .dataframe thead th {\n",
       "        text-align: right;\n",
       "    }\n",
       "</style>\n",
       "<table border=\"1\" class=\"dataframe\">\n",
       "  <thead>\n",
       "    <tr style=\"text-align: right;\">\n",
       "      <th></th>\n",
       "      <th>int_rate</th>\n",
       "      <th>int_rate_bin</th>\n",
       "      <th>loan_status</th>\n",
       "      <th>annual_inc</th>\n",
       "      <th>annual_bin</th>\n",
       "      <th>grade</th>\n",
       "      <th>purpose</th>\n",
       "      <th>dti</th>\n",
       "      <th>dti_bin</th>\n",
       "    </tr>\n",
       "  </thead>\n",
       "  <tbody>\n",
       "    <tr>\n",
       "      <th>9489</th>\n",
       "      <td>6.99</td>\n",
       "      <td>5-10</td>\n",
       "      <td>Fully Paid</td>\n",
       "      <td>30000.0</td>\n",
       "      <td>low inc&lt;50000</td>\n",
       "      <td>A</td>\n",
       "      <td>debt_consolidation</td>\n",
       "      <td>29.76</td>\n",
       "      <td>25-30</td>\n",
       "    </tr>\n",
       "    <tr>\n",
       "      <th>29436</th>\n",
       "      <td>7.51</td>\n",
       "      <td>5-10</td>\n",
       "      <td>Fully Paid</td>\n",
       "      <td>88000.0</td>\n",
       "      <td>medium inc &gt; 50000 and inc &lt;=100000</td>\n",
       "      <td>A</td>\n",
       "      <td>credit_card</td>\n",
       "      <td>19.61</td>\n",
       "      <td>15-20</td>\n",
       "    </tr>\n",
       "    <tr>\n",
       "      <th>9495</th>\n",
       "      <td>8.49</td>\n",
       "      <td>5-10</td>\n",
       "      <td>Fully Paid</td>\n",
       "      <td>56950.0</td>\n",
       "      <td>medium inc &gt; 50000 and inc &lt;=100000</td>\n",
       "      <td>A</td>\n",
       "      <td>debt_consolidation</td>\n",
       "      <td>19.79</td>\n",
       "      <td>15-20</td>\n",
       "    </tr>\n",
       "    <tr>\n",
       "      <th>9497</th>\n",
       "      <td>6.99</td>\n",
       "      <td>5-10</td>\n",
       "      <td>Fully Paid</td>\n",
       "      <td>65000.0</td>\n",
       "      <td>medium inc &gt; 50000 and inc &lt;=100000</td>\n",
       "      <td>A</td>\n",
       "      <td>credit_card</td>\n",
       "      <td>9.14</td>\n",
       "      <td>5-10</td>\n",
       "    </tr>\n",
       "    <tr>\n",
       "      <th>35153</th>\n",
       "      <td>7.40</td>\n",
       "      <td>5-10</td>\n",
       "      <td>Fully Paid</td>\n",
       "      <td>18000.0</td>\n",
       "      <td>low inc&lt;50000</td>\n",
       "      <td>A</td>\n",
       "      <td>debt_consolidation</td>\n",
       "      <td>14.13</td>\n",
       "      <td>10-15</td>\n",
       "    </tr>\n",
       "    <tr>\n",
       "      <th>...</th>\n",
       "      <td>...</td>\n",
       "      <td>...</td>\n",
       "      <td>...</td>\n",
       "      <td>...</td>\n",
       "      <td>...</td>\n",
       "      <td>...</td>\n",
       "      <td>...</td>\n",
       "      <td>...</td>\n",
       "      <td>...</td>\n",
       "    </tr>\n",
       "    <tr>\n",
       "      <th>38340</th>\n",
       "      <td>6.00</td>\n",
       "      <td>5-10</td>\n",
       "      <td>Fully Paid</td>\n",
       "      <td>28000.0</td>\n",
       "      <td>low inc&lt;50000</td>\n",
       "      <td>C</td>\n",
       "      <td>debt_consolidation</td>\n",
       "      <td>12.09</td>\n",
       "      <td>10-15</td>\n",
       "    </tr>\n",
       "    <tr>\n",
       "      <th>32746</th>\n",
       "      <td>6.00</td>\n",
       "      <td>5-10</td>\n",
       "      <td>Fully Paid</td>\n",
       "      <td>85000.0</td>\n",
       "      <td>medium inc &gt; 50000 and inc &lt;=100000</td>\n",
       "      <td>D</td>\n",
       "      <td>debt_consolidation</td>\n",
       "      <td>9.98</td>\n",
       "      <td>5-10</td>\n",
       "    </tr>\n",
       "    <tr>\n",
       "      <th>38712</th>\n",
       "      <td>6.00</td>\n",
       "      <td>5-10</td>\n",
       "      <td>Fully Paid</td>\n",
       "      <td>72000.0</td>\n",
       "      <td>medium inc &gt; 50000 and inc &lt;=100000</td>\n",
       "      <td>D</td>\n",
       "      <td>credit_card</td>\n",
       "      <td>14.07</td>\n",
       "      <td>10-15</td>\n",
       "    </tr>\n",
       "    <tr>\n",
       "      <th>16960</th>\n",
       "      <td>6.00</td>\n",
       "      <td>5-10</td>\n",
       "      <td>Fully Paid</td>\n",
       "      <td>75000.0</td>\n",
       "      <td>medium inc &gt; 50000 and inc &lt;=100000</td>\n",
       "      <td>D</td>\n",
       "      <td>home_improvement</td>\n",
       "      <td>3.09</td>\n",
       "      <td>0-5</td>\n",
       "    </tr>\n",
       "    <tr>\n",
       "      <th>28453</th>\n",
       "      <td>6.00</td>\n",
       "      <td>5-10</td>\n",
       "      <td>Fully Paid</td>\n",
       "      <td>84996.0</td>\n",
       "      <td>medium inc &gt; 50000 and inc &lt;=100000</td>\n",
       "      <td>D</td>\n",
       "      <td>home_improvement</td>\n",
       "      <td>15.70</td>\n",
       "      <td>15-20</td>\n",
       "    </tr>\n",
       "  </tbody>\n",
       "</table>\n",
       "<p>7270 rows × 9 columns</p>\n",
       "</div>"
      ],
      "text/plain": [
       "       int_rate int_rate_bin loan_status  annual_inc  \\\n",
       "9489       6.99         5-10  Fully Paid     30000.0   \n",
       "29436      7.51         5-10  Fully Paid     88000.0   \n",
       "9495       8.49         5-10  Fully Paid     56950.0   \n",
       "9497       6.99         5-10  Fully Paid     65000.0   \n",
       "35153      7.40         5-10  Fully Paid     18000.0   \n",
       "...         ...          ...         ...         ...   \n",
       "38340      6.00         5-10  Fully Paid     28000.0   \n",
       "32746      6.00         5-10  Fully Paid     85000.0   \n",
       "38712      6.00         5-10  Fully Paid     72000.0   \n",
       "16960      6.00         5-10  Fully Paid     75000.0   \n",
       "28453      6.00         5-10  Fully Paid     84996.0   \n",
       "\n",
       "                                annual_bin grade             purpose    dti  \\\n",
       "9489                         low inc<50000     A  debt_consolidation  29.76   \n",
       "29436  medium inc > 50000 and inc <=100000     A         credit_card  19.61   \n",
       "9495   medium inc > 50000 and inc <=100000     A  debt_consolidation  19.79   \n",
       "9497   medium inc > 50000 and inc <=100000     A         credit_card   9.14   \n",
       "35153                        low inc<50000     A  debt_consolidation  14.13   \n",
       "...                                    ...   ...                 ...    ...   \n",
       "38340                        low inc<50000     C  debt_consolidation  12.09   \n",
       "32746  medium inc > 50000 and inc <=100000     D  debt_consolidation   9.98   \n",
       "38712  medium inc > 50000 and inc <=100000     D         credit_card  14.07   \n",
       "16960  medium inc > 50000 and inc <=100000     D    home_improvement   3.09   \n",
       "28453  medium inc > 50000 and inc <=100000     D    home_improvement  15.70   \n",
       "\n",
       "      dti_bin  \n",
       "9489    25-30  \n",
       "29436   15-20  \n",
       "9495    15-20  \n",
       "9497     5-10  \n",
       "35153   10-15  \n",
       "...       ...  \n",
       "38340   10-15  \n",
       "32746    5-10  \n",
       "38712   10-15  \n",
       "16960     0-5  \n",
       "28453   15-20  \n",
       "\n",
       "[7270 rows x 9 columns]"
      ]
     },
     "execution_count": 53,
     "metadata": {},
     "output_type": "execute_result"
    }
   ],
   "source": [
    "d1"
   ]
  },
  {
   "cell_type": "code",
   "execution_count": 54,
   "metadata": {},
   "outputs": [
    {
     "data": {
      "image/png": "[encoded data removed]",
      "text/plain": [
       "<Figure size 1440x288 with 1 Axes>"
      ]
     },
     "metadata": {
      "needs_background": "light"
     },
     "output_type": "display_data"
    }
   ],
   "source": [
    "plt.figure(figsize=(20,4))\n",
    "sns.barplot(x='annual_inc', y='loan_status', hue=\"purpose\", data=d1)\n",
    "plt.title('Annual income and purpose')\n",
    "plt.xlabel('Annual income')\n",
    "plt.ylabel('Loan Status')\n",
    "plt.show()"
   ]
  },
  {
   "cell_type": "markdown",
   "metadata": {},
   "source": [
    "In the purposes we chose to look at, home improvement and credit card were popular defaulters"
   ]
  },
  {
   "cell_type": "code",
   "execution_count": 55,
   "metadata": {},
   "outputs": [
    {
     "data": {
      "text/plain": [
       "debt_consolidation    0.579780\n",
       "credit_card           0.200550\n",
       "home_improvement      0.112792\n",
       "major_purchase        0.106878\n",
       "Name: purpose, dtype: float64"
      ]
     },
     "execution_count": 55,
     "metadata": {},
     "output_type": "execute_result"
    }
   ],
   "source": [
    "d1.purpose.value_counts() / d1.shape[0]"
   ]
  },
  {
   "cell_type": "code",
   "execution_count": 56,
   "metadata": {},
   "outputs": [
    {
     "data": {
      "image/png": "[encoded data removed]",
      "text/plain": [
       "<Figure size 432x288 with 1 Axes>"
      ]
     },
     "metadata": {
      "needs_background": "light"
     },
     "output_type": "display_data"
    }
   ],
   "source": [
    "ax=sns.barplot(x='dti', y='loan_status', hue=\"grade\", data=d1)\n",
    "plt.title('Grade and dti')\n",
    "plt.xlabel('dti')\n",
    "plt.ylabel('Loan Status')\n",
    "\n",
    "for i in ax.containers:\n",
    "        ax.bar_label(i,)\n",
    "plt.show()"
   ]
  },
  {
   "cell_type": "markdown",
   "metadata": {},
   "source": [
    "In the purpose we chose to look at, people with grade C and D did not defaulted, while people with grades E,F,G were not eligible for loan "
   ]
  }
 ],
 "metadata": {
  "kernelspec": {
   "display_name": "Python 3.9.10 64-bit",
   "language": "python",
   "name": "python3"
  },
  "language_info": {
   "codemirror_mode": {
    "name": "ipython",
    "version": 3
   },
   "file_extension": ".py",
   "mimetype": "text/x-python",
   "name": "python",
   "nbconvert_exporter": "python",
   "pygments_lexer": "ipython3",
   "version": "3.9.10"
  },
  "orig_nbformat": 4,
  "vscode": {
   "interpreter": {
    "hash": "25034407fed5d681614dac11a1c0537e8cb49e3a8883c071303eea01322943d9"
   }
  }
 },
 "nbformat": 4,
 "nbformat_minor": 2
}
